{
 "cells": [
  {
   "cell_type": "code",
   "execution_count": 40,
   "metadata": {},
   "outputs": [
    {
     "data": {
      "text/html": [
       "<div>\n",
       "<style scoped>\n",
       "    .dataframe tbody tr th:only-of-type {\n",
       "        vertical-align: middle;\n",
       "    }\n",
       "\n",
       "    .dataframe tbody tr th {\n",
       "        vertical-align: top;\n",
       "    }\n",
       "\n",
       "    .dataframe thead th {\n",
       "        text-align: right;\n",
       "    }\n",
       "</style>\n",
       "<table border=\"1\" class=\"dataframe\">\n",
       "  <thead>\n",
       "    <tr style=\"text-align: right;\">\n",
       "      <th></th>\n",
       "      <th>0</th>\n",
       "      <th>1</th>\n",
       "      <th>2</th>\n",
       "      <th>3</th>\n",
       "      <th>4</th>\n",
       "      <th>5</th>\n",
       "      <th>6</th>\n",
       "    </tr>\n",
       "  </thead>\n",
       "  <tbody>\n",
       "    <tr>\n",
       "      <th>0</th>\n",
       "      <td>DRUG NAME</td>\n",
       "      <td>SECTIONS MODIFIED</td>\n",
       "      <td>SECTIONS MODIFIED</td>\n",
       "      <td>SECTIONS MODIFIED</td>\n",
       "      <td>SECTIONS MODIFIED</td>\n",
       "      <td>SECTIONS MODIFIED</td>\n",
       "      <td>SECTIONS MODIFIED</td>\n",
       "    </tr>\n",
       "    <tr>\n",
       "      <th>1</th>\n",
       "      <td>(Click on drug name to go to detailed view)</td>\n",
       "      <td>BW</td>\n",
       "      <td>C</td>\n",
       "      <td>W</td>\n",
       "      <td>P</td>\n",
       "      <td>AR</td>\n",
       "      <td>PPI/MG</td>\n",
       "    </tr>\n",
       "    <tr>\n",
       "      <th>2</th>\n",
       "      <td>Actoplus Met (pioglitazone hydrochloride and m...</td>\n",
       "      <td>X</td>\n",
       "      <td>X</td>\n",
       "      <td>X</td>\n",
       "      <td>X</td>\n",
       "      <td>X</td>\n",
       "      <td>PPI</td>\n",
       "    </tr>\n",
       "    <tr>\n",
       "      <th>3</th>\n",
       "      <td>Campath (alemtuzumab) Injection for Intravenou...</td>\n",
       "      <td>X</td>\n",
       "      <td>NaN</td>\n",
       "      <td>X</td>\n",
       "      <td>X</td>\n",
       "      <td>X</td>\n",
       "      <td>NaN</td>\n",
       "    </tr>\n",
       "    <tr>\n",
       "      <th>4</th>\n",
       "      <td>CellCept (mycophenolate mofetil capsules) (myc...</td>\n",
       "      <td>X</td>\n",
       "      <td>NaN</td>\n",
       "      <td>X</td>\n",
       "      <td>X</td>\n",
       "      <td>X</td>\n",
       "      <td>NaN</td>\n",
       "    </tr>\n",
       "    <tr>\n",
       "      <th>5</th>\n",
       "      <td>Diovan HCT (valsartan and hydrochlorothiazide,...</td>\n",
       "      <td>X</td>\n",
       "      <td>NaN</td>\n",
       "      <td>X</td>\n",
       "      <td>X</td>\n",
       "      <td>NaN</td>\n",
       "      <td>NaN</td>\n",
       "    </tr>\n",
       "    <tr>\n",
       "      <th>6</th>\n",
       "      <td>Duetact (pioglitazone HCl plus glimepiride)</td>\n",
       "      <td>X</td>\n",
       "      <td>X</td>\n",
       "      <td>X</td>\n",
       "      <td>X</td>\n",
       "      <td>X</td>\n",
       "      <td>PPI</td>\n",
       "    </tr>\n",
       "    <tr>\n",
       "      <th>7</th>\n",
       "      <td>Evista (raloxifene hydrochloride) Tablets for ...</td>\n",
       "      <td>X</td>\n",
       "      <td>NaN</td>\n",
       "      <td>X</td>\n",
       "      <td>X</td>\n",
       "      <td>X</td>\n",
       "      <td>MG</td>\n",
       "    </tr>\n",
       "    <tr>\n",
       "      <th>9</th>\n",
       "      <td>MDP Multidose Kit for the Preparation of Techn...</td>\n",
       "      <td>NaN</td>\n",
       "      <td>X</td>\n",
       "      <td>X</td>\n",
       "      <td>NaN</td>\n",
       "      <td>X</td>\n",
       "      <td>NaN</td>\n",
       "    </tr>\n",
       "    <tr>\n",
       "      <th>10</th>\n",
       "      <td>MDP Multidose Utilipak Kit for the Preparation...</td>\n",
       "      <td>NaN</td>\n",
       "      <td>X</td>\n",
       "      <td>X</td>\n",
       "      <td>NaN</td>\n",
       "      <td>X</td>\n",
       "      <td>NaN</td>\n",
       "    </tr>\n",
       "    <tr>\n",
       "      <th>12</th>\n",
       "      <td>Avastin (bevacizumab) for Intravenous Use</td>\n",
       "      <td>NaN</td>\n",
       "      <td>NaN</td>\n",
       "      <td>X</td>\n",
       "      <td>NaN</td>\n",
       "      <td>X</td>\n",
       "      <td>NaN</td>\n",
       "    </tr>\n",
       "    <tr>\n",
       "      <th>13</th>\n",
       "      <td>Butisol Sodium (butabarbital sodium tablets, U...</td>\n",
       "      <td>NaN</td>\n",
       "      <td>NaN</td>\n",
       "      <td>X</td>\n",
       "      <td>X</td>\n",
       "      <td>NaN</td>\n",
       "      <td>NaN</td>\n",
       "    </tr>\n",
       "    <tr>\n",
       "      <th>14</th>\n",
       "      <td>Cefazolin for Injection, USP and Dextrose Inje...</td>\n",
       "      <td>NaN</td>\n",
       "      <td>NaN</td>\n",
       "      <td>X</td>\n",
       "      <td>X</td>\n",
       "      <td>NaN</td>\n",
       "      <td>NaN</td>\n",
       "    </tr>\n",
       "    <tr>\n",
       "      <th>15</th>\n",
       "      <td>CefOTAXime for Injection, USP and Dextrose Inj...</td>\n",
       "      <td>NaN</td>\n",
       "      <td>NaN</td>\n",
       "      <td>X</td>\n",
       "      <td>X</td>\n",
       "      <td>NaN</td>\n",
       "      <td>NaN</td>\n",
       "    </tr>\n",
       "    <tr>\n",
       "      <th>16</th>\n",
       "      <td>CefTRIaxONE for lnjection and Dextrose lnjection</td>\n",
       "      <td>NaN</td>\n",
       "      <td>NaN</td>\n",
       "      <td>X</td>\n",
       "      <td>X</td>\n",
       "      <td>NaN</td>\n",
       "      <td>NaN</td>\n",
       "    </tr>\n",
       "    <tr>\n",
       "      <th>17</th>\n",
       "      <td>CefUROXime for Injection, USP and Dextrose Inj...</td>\n",
       "      <td>NaN</td>\n",
       "      <td>NaN</td>\n",
       "      <td>X</td>\n",
       "      <td>X</td>\n",
       "      <td>NaN</td>\n",
       "      <td>NaN</td>\n",
       "    </tr>\n",
       "    <tr>\n",
       "      <th>18</th>\n",
       "      <td>Cefzil (cefprozil) Tablets Cefzil (cefprozil) ...</td>\n",
       "      <td>NaN</td>\n",
       "      <td>NaN</td>\n",
       "      <td>X</td>\n",
       "      <td>X</td>\n",
       "      <td>NaN</td>\n",
       "      <td>NaN</td>\n",
       "    </tr>\n",
       "    <tr>\n",
       "      <th>19</th>\n",
       "      <td>Gleevec (imatinib mesylate) Tablets for Oral Use</td>\n",
       "      <td>NaN</td>\n",
       "      <td>NaN</td>\n",
       "      <td>X</td>\n",
       "      <td>X</td>\n",
       "      <td>X</td>\n",
       "      <td>NaN</td>\n",
       "    </tr>\n",
       "    <tr>\n",
       "      <th>20</th>\n",
       "      <td>Haldol brand of haloperidol injection (for Imm...</td>\n",
       "      <td>NaN</td>\n",
       "      <td>NaN</td>\n",
       "      <td>X</td>\n",
       "      <td>NaN</td>\n",
       "      <td>NaN</td>\n",
       "      <td>NaN</td>\n",
       "    </tr>\n",
       "    <tr>\n",
       "      <th>21</th>\n",
       "      <td>Haldol Decanoate 50 (haloperidol) for IM Injec...</td>\n",
       "      <td>NaN</td>\n",
       "      <td>NaN</td>\n",
       "      <td>X</td>\n",
       "      <td>NaN</td>\n",
       "      <td>NaN</td>\n",
       "      <td>NaN</td>\n",
       "    </tr>\n",
       "    <tr>\n",
       "      <th>22</th>\n",
       "      <td>HalfLytely and Bisacodyl Tablets Bowel Prep Ki...</td>\n",
       "      <td>NaN</td>\n",
       "      <td>NaN</td>\n",
       "      <td>X</td>\n",
       "      <td>X</td>\n",
       "      <td>X</td>\n",
       "      <td>PPI</td>\n",
       "    </tr>\n",
       "    <tr>\n",
       "      <th>23</th>\n",
       "      <td>Keppra (levetiracetam) Injection for Intraveno...</td>\n",
       "      <td>NaN</td>\n",
       "      <td>NaN</td>\n",
       "      <td>X</td>\n",
       "      <td>X</td>\n",
       "      <td>X</td>\n",
       "      <td>NaN</td>\n",
       "    </tr>\n",
       "    <tr>\n",
       "      <th>24</th>\n",
       "      <td>Levaquin (levofloxacin) Tablets and Oral Solut...</td>\n",
       "      <td>NaN</td>\n",
       "      <td>NaN</td>\n",
       "      <td>X</td>\n",
       "      <td>X</td>\n",
       "      <td>X</td>\n",
       "      <td>PPI</td>\n",
       "    </tr>\n",
       "    <tr>\n",
       "      <th>25</th>\n",
       "      <td>Lipitor (atorvastatin calcium) Tablets</td>\n",
       "      <td>NaN</td>\n",
       "      <td>NaN</td>\n",
       "      <td>X</td>\n",
       "      <td>X</td>\n",
       "      <td>NaN</td>\n",
       "      <td>NaN</td>\n",
       "    </tr>\n",
       "    <tr>\n",
       "      <th>26</th>\n",
       "      <td>Neupogen (filgrastim)</td>\n",
       "      <td>NaN</td>\n",
       "      <td>NaN</td>\n",
       "      <td>X</td>\n",
       "      <td>X</td>\n",
       "      <td>NaN</td>\n",
       "      <td>PPI</td>\n",
       "    </tr>\n",
       "    <tr>\n",
       "      <th>27</th>\n",
       "      <td>Norditropin Cartridges [somatropin (rDNA origi...</td>\n",
       "      <td>NaN</td>\n",
       "      <td>NaN</td>\n",
       "      <td>X</td>\n",
       "      <td>X</td>\n",
       "      <td>X</td>\n",
       "      <td>PPI</td>\n",
       "    </tr>\n",
       "    <tr>\n",
       "      <th>28</th>\n",
       "      <td>Soma (carisoprodol) Tablets for Oral Use</td>\n",
       "      <td>NaN</td>\n",
       "      <td>NaN</td>\n",
       "      <td>X</td>\n",
       "      <td>X</td>\n",
       "      <td>X</td>\n",
       "      <td>NaN</td>\n",
       "    </tr>\n",
       "    <tr>\n",
       "      <th>29</th>\n",
       "      <td>Taxotere (docetaxel) Injection Concentrate, In...</td>\n",
       "      <td>NaN</td>\n",
       "      <td>NaN</td>\n",
       "      <td>X</td>\n",
       "      <td>X</td>\n",
       "      <td>X</td>\n",
       "      <td>PPI</td>\n",
       "    </tr>\n",
       "    <tr>\n",
       "      <th>30</th>\n",
       "      <td>Vancomycin Hydrochloride (vancomycin hydrochlo...</td>\n",
       "      <td>NaN</td>\n",
       "      <td>NaN</td>\n",
       "      <td>X</td>\n",
       "      <td>X</td>\n",
       "      <td>NaN</td>\n",
       "      <td>NaN</td>\n",
       "    </tr>\n",
       "    <tr>\n",
       "      <th>32</th>\n",
       "      <td>Actos (pioglitazone hydrochloride) Tablets</td>\n",
       "      <td>NaN</td>\n",
       "      <td>NaN</td>\n",
       "      <td>NaN</td>\n",
       "      <td>X</td>\n",
       "      <td>NaN</td>\n",
       "      <td>NaN</td>\n",
       "    </tr>\n",
       "    <tr>\n",
       "      <th>33</th>\n",
       "      <td>Avandamet (rosiglitazone maleate and metformin...</td>\n",
       "      <td>NaN</td>\n",
       "      <td>NaN</td>\n",
       "      <td>NaN</td>\n",
       "      <td>X</td>\n",
       "      <td>NaN</td>\n",
       "      <td>PPI</td>\n",
       "    </tr>\n",
       "    <tr>\n",
       "      <th>34</th>\n",
       "      <td>Avandaryl (rosiglitazone maleate and glimepiri...</td>\n",
       "      <td>NaN</td>\n",
       "      <td>NaN</td>\n",
       "      <td>NaN</td>\n",
       "      <td>X</td>\n",
       "      <td>X</td>\n",
       "      <td>PPI</td>\n",
       "    </tr>\n",
       "    <tr>\n",
       "      <th>35</th>\n",
       "      <td>Avandia (rosiglitazone maleate) Tablets</td>\n",
       "      <td>NaN</td>\n",
       "      <td>NaN</td>\n",
       "      <td>NaN</td>\n",
       "      <td>X</td>\n",
       "      <td>NaN</td>\n",
       "      <td>PPI</td>\n",
       "    </tr>\n",
       "    <tr>\n",
       "      <th>36</th>\n",
       "      <td>Caduet (amlodipine besylate/atorvastatin calci...</td>\n",
       "      <td>NaN</td>\n",
       "      <td>NaN</td>\n",
       "      <td>NaN</td>\n",
       "      <td>X</td>\n",
       "      <td>X</td>\n",
       "      <td>NaN</td>\n",
       "    </tr>\n",
       "    <tr>\n",
       "      <th>37</th>\n",
       "      <td>Dovonex (calcipotriene cream) Cream, 0.005%</td>\n",
       "      <td>NaN</td>\n",
       "      <td>NaN</td>\n",
       "      <td>NaN</td>\n",
       "      <td>X</td>\n",
       "      <td>NaN</td>\n",
       "      <td>NaN</td>\n",
       "    </tr>\n",
       "    <tr>\n",
       "      <th>38</th>\n",
       "      <td>Dovonex (calcipotriene ointment), 0.005%</td>\n",
       "      <td>NaN</td>\n",
       "      <td>NaN</td>\n",
       "      <td>NaN</td>\n",
       "      <td>X</td>\n",
       "      <td>NaN</td>\n",
       "      <td>NaN</td>\n",
       "    </tr>\n",
       "    <tr>\n",
       "      <th>39</th>\n",
       "      <td>Dovonex (calcipotriene solution) Scalp Solutio...</td>\n",
       "      <td>NaN</td>\n",
       "      <td>NaN</td>\n",
       "      <td>NaN</td>\n",
       "      <td>X</td>\n",
       "      <td>NaN</td>\n",
       "      <td>NaN</td>\n",
       "    </tr>\n",
       "    <tr>\n",
       "      <th>40</th>\n",
       "      <td>Effexor (venlafaxine hydrochloride) Tablets</td>\n",
       "      <td>NaN</td>\n",
       "      <td>NaN</td>\n",
       "      <td>NaN</td>\n",
       "      <td>X</td>\n",
       "      <td>X</td>\n",
       "      <td>NaN</td>\n",
       "    </tr>\n",
       "    <tr>\n",
       "      <th>41</th>\n",
       "      <td>Effexor XR (venlafaxine hydrochloride) Extende...</td>\n",
       "      <td>NaN</td>\n",
       "      <td>NaN</td>\n",
       "      <td>NaN</td>\n",
       "      <td>X</td>\n",
       "      <td>X</td>\n",
       "      <td>NaN</td>\n",
       "    </tr>\n",
       "    <tr>\n",
       "      <th>42</th>\n",
       "      <td>Epivir-HBV (lamivudine) Tablets and Oral Solution</td>\n",
       "      <td>NaN</td>\n",
       "      <td>NaN</td>\n",
       "      <td>NaN</td>\n",
       "      <td>X</td>\n",
       "      <td>NaN</td>\n",
       "      <td>PPI</td>\n",
       "    </tr>\n",
       "    <tr>\n",
       "      <th>43</th>\n",
       "      <td>Inderal (propranolol hydrochloride)  Tablets</td>\n",
       "      <td>NaN</td>\n",
       "      <td>NaN</td>\n",
       "      <td>NaN</td>\n",
       "      <td>X</td>\n",
       "      <td>NaN</td>\n",
       "      <td>NaN</td>\n",
       "    </tr>\n",
       "    <tr>\n",
       "      <th>44</th>\n",
       "      <td>Kaletra (lopinavir/ritonavir) Capsules and Ora...</td>\n",
       "      <td>NaN</td>\n",
       "      <td>NaN</td>\n",
       "      <td>NaN</td>\n",
       "      <td>X</td>\n",
       "      <td>NaN</td>\n",
       "      <td>NaN</td>\n",
       "    </tr>\n",
       "    <tr>\n",
       "      <th>45</th>\n",
       "      <td>Kaletra (lopinavir/ritonavir) Tablets and Oral...</td>\n",
       "      <td>NaN</td>\n",
       "      <td>NaN</td>\n",
       "      <td>NaN</td>\n",
       "      <td>X</td>\n",
       "      <td>NaN</td>\n",
       "      <td>NaN</td>\n",
       "    </tr>\n",
       "    <tr>\n",
       "      <th>46</th>\n",
       "      <td>Proquin XR (ciprofloxacin hydrochloride) Exten...</td>\n",
       "      <td>NaN</td>\n",
       "      <td>NaN</td>\n",
       "      <td>NaN</td>\n",
       "      <td>X</td>\n",
       "      <td>X</td>\n",
       "      <td>PPI</td>\n",
       "    </tr>\n",
       "    <tr>\n",
       "      <th>47</th>\n",
       "      <td>Voltaren Ophthalmic (diclofenac sodium ophthal...</td>\n",
       "      <td>NaN</td>\n",
       "      <td>NaN</td>\n",
       "      <td>NaN</td>\n",
       "      <td>X</td>\n",
       "      <td>X</td>\n",
       "      <td>NaN</td>\n",
       "    </tr>\n",
       "    <tr>\n",
       "      <th>48</th>\n",
       "      <td>Zebeta (bisoprolol fumarate) Tablets</td>\n",
       "      <td>NaN</td>\n",
       "      <td>NaN</td>\n",
       "      <td>NaN</td>\n",
       "      <td>X</td>\n",
       "      <td>NaN</td>\n",
       "      <td>NaN</td>\n",
       "    </tr>\n",
       "    <tr>\n",
       "      <th>49</th>\n",
       "      <td>Ziac (bisoprolol fumarate and hydrochlorothiaz...</td>\n",
       "      <td>NaN</td>\n",
       "      <td>NaN</td>\n",
       "      <td>NaN</td>\n",
       "      <td>X</td>\n",
       "      <td>NaN</td>\n",
       "      <td>NaN</td>\n",
       "    </tr>\n",
       "    <tr>\n",
       "      <th>51</th>\n",
       "      <td>Abilify (aripiprazole) Tablets and Oral Soluti...</td>\n",
       "      <td>NaN</td>\n",
       "      <td>NaN</td>\n",
       "      <td>NaN</td>\n",
       "      <td>NaN</td>\n",
       "      <td>X</td>\n",
       "      <td>NaN</td>\n",
       "    </tr>\n",
       "    <tr>\n",
       "      <th>52</th>\n",
       "      <td>Anzemet (dolasetron mesylate) Injection</td>\n",
       "      <td>NaN</td>\n",
       "      <td>NaN</td>\n",
       "      <td>NaN</td>\n",
       "      <td>NaN</td>\n",
       "      <td>X</td>\n",
       "      <td>NaN</td>\n",
       "    </tr>\n",
       "    <tr>\n",
       "      <th>53</th>\n",
       "      <td>Anzemet (dolasetron mesylate) Tablets</td>\n",
       "      <td>NaN</td>\n",
       "      <td>NaN</td>\n",
       "      <td>NaN</td>\n",
       "      <td>NaN</td>\n",
       "      <td>X</td>\n",
       "      <td>NaN</td>\n",
       "    </tr>\n",
       "    <tr>\n",
       "      <th>54</th>\n",
       "      <td>Benicar (olmesartan medoxomil)</td>\n",
       "      <td>NaN</td>\n",
       "      <td>NaN</td>\n",
       "      <td>NaN</td>\n",
       "      <td>NaN</td>\n",
       "      <td>X</td>\n",
       "      <td>NaN</td>\n",
       "    </tr>\n",
       "    <tr>\n",
       "      <th>55</th>\n",
       "      <td>BuSpar (buspirone HCl, USP) Tablets</td>\n",
       "      <td>NaN</td>\n",
       "      <td>NaN</td>\n",
       "      <td>NaN</td>\n",
       "      <td>NaN</td>\n",
       "      <td>X</td>\n",
       "      <td>NaN</td>\n",
       "    </tr>\n",
       "    <tr>\n",
       "      <th>56</th>\n",
       "      <td>Keppra (levetiracetam) Tablets and Oral Solution</td>\n",
       "      <td>NaN</td>\n",
       "      <td>NaN</td>\n",
       "      <td>NaN</td>\n",
       "      <td>NaN</td>\n",
       "      <td>X</td>\n",
       "      <td>NaN</td>\n",
       "    </tr>\n",
       "    <tr>\n",
       "      <th>57</th>\n",
       "      <td>Lupron Injection (leuprolide acetate)</td>\n",
       "      <td>NaN</td>\n",
       "      <td>NaN</td>\n",
       "      <td>NaN</td>\n",
       "      <td>NaN</td>\n",
       "      <td>X</td>\n",
       "      <td>NaN</td>\n",
       "    </tr>\n",
       "    <tr>\n",
       "      <th>58</th>\n",
       "      <td>OsmoPrep (sodium phosphate monobasic monohydra...</td>\n",
       "      <td>NaN</td>\n",
       "      <td>NaN</td>\n",
       "      <td>NaN</td>\n",
       "      <td>NaN</td>\n",
       "      <td>X</td>\n",
       "      <td>NaN</td>\n",
       "    </tr>\n",
       "    <tr>\n",
       "      <th>59</th>\n",
       "      <td>Rituxan (rituximab)</td>\n",
       "      <td>NaN</td>\n",
       "      <td>NaN</td>\n",
       "      <td>NaN</td>\n",
       "      <td>NaN</td>\n",
       "      <td>X</td>\n",
       "      <td>NaN</td>\n",
       "    </tr>\n",
       "    <tr>\n",
       "      <th>61</th>\n",
       "      <td>Humulin R Regular U-500 (Concentrated) Insulin...</td>\n",
       "      <td>NaN</td>\n",
       "      <td>NaN</td>\n",
       "      <td>NaN</td>\n",
       "      <td>NaN</td>\n",
       "      <td>NaN</td>\n",
       "      <td>PPI</td>\n",
       "    </tr>\n",
       "  </tbody>\n",
       "</table>\n",
       "</div>"
      ],
      "text/plain": [
       "                                                    0                  1  \\\n",
       "0                                           DRUG NAME  SECTIONS MODIFIED   \n",
       "1         (Click on drug name to go to detailed view)                 BW   \n",
       "2   Actoplus Met (pioglitazone hydrochloride and m...                  X   \n",
       "3   Campath (alemtuzumab) Injection for Intravenou...                  X   \n",
       "4   CellCept (mycophenolate mofetil capsules) (myc...                  X   \n",
       "5   Diovan HCT (valsartan and hydrochlorothiazide,...                  X   \n",
       "6         Duetact (pioglitazone HCl plus glimepiride)                  X   \n",
       "7   Evista (raloxifene hydrochloride) Tablets for ...                  X   \n",
       "9   MDP Multidose Kit for the Preparation of Techn...                NaN   \n",
       "10  MDP Multidose Utilipak Kit for the Preparation...                NaN   \n",
       "12          Avastin (bevacizumab) for Intravenous Use                NaN   \n",
       "13  Butisol Sodium (butabarbital sodium tablets, U...                NaN   \n",
       "14  Cefazolin for Injection, USP and Dextrose Inje...                NaN   \n",
       "15  CefOTAXime for Injection, USP and Dextrose Inj...                NaN   \n",
       "16   CefTRIaxONE for lnjection and Dextrose lnjection                NaN   \n",
       "17  CefUROXime for Injection, USP and Dextrose Inj...                NaN   \n",
       "18  Cefzil (cefprozil) Tablets Cefzil (cefprozil) ...                NaN   \n",
       "19   Gleevec (imatinib mesylate) Tablets for Oral Use                NaN   \n",
       "20  Haldol brand of haloperidol injection (for Imm...                NaN   \n",
       "21  Haldol Decanoate 50 (haloperidol) for IM Injec...                NaN   \n",
       "22  HalfLytely and Bisacodyl Tablets Bowel Prep Ki...                NaN   \n",
       "23  Keppra (levetiracetam) Injection for Intraveno...                NaN   \n",
       "24  Levaquin (levofloxacin) Tablets and Oral Solut...                NaN   \n",
       "25             Lipitor (atorvastatin calcium) Tablets                NaN   \n",
       "26                              Neupogen (filgrastim)                NaN   \n",
       "27  Norditropin Cartridges [somatropin (rDNA origi...                NaN   \n",
       "28           Soma (carisoprodol) Tablets for Oral Use                NaN   \n",
       "29  Taxotere (docetaxel) Injection Concentrate, In...                NaN   \n",
       "30  Vancomycin Hydrochloride (vancomycin hydrochlo...                NaN   \n",
       "32         Actos (pioglitazone hydrochloride) Tablets                NaN   \n",
       "33  Avandamet (rosiglitazone maleate and metformin...                NaN   \n",
       "34  Avandaryl (rosiglitazone maleate and glimepiri...                NaN   \n",
       "35            Avandia (rosiglitazone maleate) Tablets                NaN   \n",
       "36  Caduet (amlodipine besylate/atorvastatin calci...                NaN   \n",
       "37        Dovonex (calcipotriene cream) Cream, 0.005%                NaN   \n",
       "38           Dovonex (calcipotriene ointment), 0.005%                NaN   \n",
       "39  Dovonex (calcipotriene solution) Scalp Solutio...                NaN   \n",
       "40        Effexor (venlafaxine hydrochloride) Tablets                NaN   \n",
       "41  Effexor XR (venlafaxine hydrochloride) Extende...                NaN   \n",
       "42  Epivir-HBV (lamivudine) Tablets and Oral Solution                NaN   \n",
       "43       Inderal (propranolol hydrochloride)  Tablets                NaN   \n",
       "44  Kaletra (lopinavir/ritonavir) Capsules and Ora...                NaN   \n",
       "45  Kaletra (lopinavir/ritonavir) Tablets and Oral...                NaN   \n",
       "46  Proquin XR (ciprofloxacin hydrochloride) Exten...                NaN   \n",
       "47  Voltaren Ophthalmic (diclofenac sodium ophthal...                NaN   \n",
       "48               Zebeta (bisoprolol fumarate) Tablets                NaN   \n",
       "49  Ziac (bisoprolol fumarate and hydrochlorothiaz...                NaN   \n",
       "51  Abilify (aripiprazole) Tablets and Oral Soluti...                NaN   \n",
       "52            Anzemet (dolasetron mesylate) Injection                NaN   \n",
       "53              Anzemet (dolasetron mesylate) Tablets                NaN   \n",
       "54                     Benicar (olmesartan medoxomil)                NaN   \n",
       "55                BuSpar (buspirone HCl, USP) Tablets                NaN   \n",
       "56   Keppra (levetiracetam) Tablets and Oral Solution                NaN   \n",
       "57              Lupron Injection (leuprolide acetate)                NaN   \n",
       "58  OsmoPrep (sodium phosphate monobasic monohydra...                NaN   \n",
       "59                                Rituxan (rituximab)                NaN   \n",
       "61  Humulin R Regular U-500 (Concentrated) Insulin...                NaN   \n",
       "\n",
       "                    2                  3                  4  \\\n",
       "0   SECTIONS MODIFIED  SECTIONS MODIFIED  SECTIONS MODIFIED   \n",
       "1                   C                  W                  P   \n",
       "2                   X                  X                  X   \n",
       "3                 NaN                  X                  X   \n",
       "4                 NaN                  X                  X   \n",
       "5                 NaN                  X                  X   \n",
       "6                   X                  X                  X   \n",
       "7                 NaN                  X                  X   \n",
       "9                   X                  X                NaN   \n",
       "10                  X                  X                NaN   \n",
       "12                NaN                  X                NaN   \n",
       "13                NaN                  X                  X   \n",
       "14                NaN                  X                  X   \n",
       "15                NaN                  X                  X   \n",
       "16                NaN                  X                  X   \n",
       "17                NaN                  X                  X   \n",
       "18                NaN                  X                  X   \n",
       "19                NaN                  X                  X   \n",
       "20                NaN                  X                NaN   \n",
       "21                NaN                  X                NaN   \n",
       "22                NaN                  X                  X   \n",
       "23                NaN                  X                  X   \n",
       "24                NaN                  X                  X   \n",
       "25                NaN                  X                  X   \n",
       "26                NaN                  X                  X   \n",
       "27                NaN                  X                  X   \n",
       "28                NaN                  X                  X   \n",
       "29                NaN                  X                  X   \n",
       "30                NaN                  X                  X   \n",
       "32                NaN                NaN                  X   \n",
       "33                NaN                NaN                  X   \n",
       "34                NaN                NaN                  X   \n",
       "35                NaN                NaN                  X   \n",
       "36                NaN                NaN                  X   \n",
       "37                NaN                NaN                  X   \n",
       "38                NaN                NaN                  X   \n",
       "39                NaN                NaN                  X   \n",
       "40                NaN                NaN                  X   \n",
       "41                NaN                NaN                  X   \n",
       "42                NaN                NaN                  X   \n",
       "43                NaN                NaN                  X   \n",
       "44                NaN                NaN                  X   \n",
       "45                NaN                NaN                  X   \n",
       "46                NaN                NaN                  X   \n",
       "47                NaN                NaN                  X   \n",
       "48                NaN                NaN                  X   \n",
       "49                NaN                NaN                  X   \n",
       "51                NaN                NaN                NaN   \n",
       "52                NaN                NaN                NaN   \n",
       "53                NaN                NaN                NaN   \n",
       "54                NaN                NaN                NaN   \n",
       "55                NaN                NaN                NaN   \n",
       "56                NaN                NaN                NaN   \n",
       "57                NaN                NaN                NaN   \n",
       "58                NaN                NaN                NaN   \n",
       "59                NaN                NaN                NaN   \n",
       "61                NaN                NaN                NaN   \n",
       "\n",
       "                    5                  6  \n",
       "0   SECTIONS MODIFIED  SECTIONS MODIFIED  \n",
       "1                  AR             PPI/MG  \n",
       "2                   X                PPI  \n",
       "3                   X                NaN  \n",
       "4                   X                NaN  \n",
       "5                 NaN                NaN  \n",
       "6                   X                PPI  \n",
       "7                   X                 MG  \n",
       "9                   X                NaN  \n",
       "10                  X                NaN  \n",
       "12                  X                NaN  \n",
       "13                NaN                NaN  \n",
       "14                NaN                NaN  \n",
       "15                NaN                NaN  \n",
       "16                NaN                NaN  \n",
       "17                NaN                NaN  \n",
       "18                NaN                NaN  \n",
       "19                  X                NaN  \n",
       "20                NaN                NaN  \n",
       "21                NaN                NaN  \n",
       "22                  X                PPI  \n",
       "23                  X                NaN  \n",
       "24                  X                PPI  \n",
       "25                NaN                NaN  \n",
       "26                NaN                PPI  \n",
       "27                  X                PPI  \n",
       "28                  X                NaN  \n",
       "29                  X                PPI  \n",
       "30                NaN                NaN  \n",
       "32                NaN                NaN  \n",
       "33                NaN                PPI  \n",
       "34                  X                PPI  \n",
       "35                NaN                PPI  \n",
       "36                  X                NaN  \n",
       "37                NaN                NaN  \n",
       "38                NaN                NaN  \n",
       "39                NaN                NaN  \n",
       "40                  X                NaN  \n",
       "41                  X                NaN  \n",
       "42                NaN                PPI  \n",
       "43                NaN                NaN  \n",
       "44                NaN                NaN  \n",
       "45                NaN                NaN  \n",
       "46                  X                PPI  \n",
       "47                  X                NaN  \n",
       "48                NaN                NaN  \n",
       "49                NaN                NaN  \n",
       "51                  X                NaN  \n",
       "52                  X                NaN  \n",
       "53                  X                NaN  \n",
       "54                  X                NaN  \n",
       "55                  X                NaN  \n",
       "56                  X                NaN  \n",
       "57                  X                NaN  \n",
       "58                  X                NaN  \n",
       "59                  X                NaN  \n",
       "61                NaN                PPI  "
      ]
     },
     "execution_count": 40,
     "metadata": {},
     "output_type": "execute_result"
    }
   ],
   "source": [
    "# Let's load the CSV file and clean the data by removing the redundant rows containing \"Click on drug name to go to detailed view\".\n",
    "import pandas as pd\n",
    "\n",
    "# Load the CSV file\n",
    "df = pd.read_csv(\"/scratch/harsha.vasamsetti/refined_output/2007/sep/sep07_quickview_table_5.csv\")\n",
    "\n",
    "# Drop redundant rows by identifying where \"Click on drug name to go to detailed view\" is present.\n",
    "# Keep only the first occurrence\n",
    "df_cleaned = df.drop_duplicates(subset=[df.columns[0]], keep='first')\n",
    "\n",
    "df_cleaned\n"
   ]
  },
  {
   "cell_type": "code",
   "execution_count": 41,
   "metadata": {},
   "outputs": [],
   "source": [
    "df_cleaned.to_csv(\"/scratch/harsha.vasamsetti/refined_output/2007/sep/sep07_quickview_table_5_cleaned.csv\")"
   ]
  },
  {
   "cell_type": "code",
   "execution_count": null,
   "metadata": {},
   "outputs": [],
   "source": []
  },
  {
   "cell_type": "markdown",
   "metadata": {},
   "source": [
    "## 1996"
   ]
  },
  {
   "cell_type": "code",
   "execution_count": 61,
   "metadata": {},
   "outputs": [
    {
     "ename": "UnicodeDecodeError",
     "evalue": "'utf-8' codec can't decode byte 0x85 in position 4481: invalid start byte",
     "output_type": "error",
     "traceback": [
      "\u001b[0;31m---------------------------------------------------------------------------\u001b[0m",
      "\u001b[0;31mUnicodeDecodeError\u001b[0m                        Traceback (most recent call last)",
      "Cell \u001b[0;32mIn[61], line 182\u001b[0m\n\u001b[1;32m    179\u001b[0m html_file_path \u001b[38;5;241m=\u001b[39m \u001b[38;5;124m'\u001b[39m\u001b[38;5;124m/scratch/harsha.vasamsetti/MW-archive_1996-2007/safety/1997/apr97.htm\u001b[39m\u001b[38;5;124m'\u001b[39m\n\u001b[1;32m    181\u001b[0m \u001b[38;5;66;03m# Extract the data\u001b[39;00m\n\u001b[0;32m--> 182\u001b[0m df_summary, df_details \u001b[38;5;241m=\u001b[39m \u001b[43mextract_drug_labeling_changes\u001b[49m\u001b[43m(\u001b[49m\u001b[43mhtml_file_path\u001b[49m\u001b[43m)\u001b[49m\n\u001b[1;32m    184\u001b[0m \u001b[38;5;66;03m# Check if data was extracted successfully\u001b[39;00m\n\u001b[1;32m    185\u001b[0m \u001b[38;5;28;01mif\u001b[39;00m df_summary \u001b[38;5;129;01mis\u001b[39;00m \u001b[38;5;129;01mnot\u001b[39;00m \u001b[38;5;28;01mNone\u001b[39;00m \u001b[38;5;129;01mand\u001b[39;00m df_details \u001b[38;5;129;01mis\u001b[39;00m \u001b[38;5;129;01mnot\u001b[39;00m \u001b[38;5;28;01mNone\u001b[39;00m:\n\u001b[1;32m    186\u001b[0m     \u001b[38;5;66;03m# Display the Summary DataFrame\u001b[39;00m\n",
      "Cell \u001b[0;32mIn[61], line 22\u001b[0m, in \u001b[0;36mextract_drug_labeling_changes\u001b[0;34m(html_file_path)\u001b[0m\n\u001b[1;32m     20\u001b[0m \u001b[38;5;66;03m# Read the HTML content from the file\u001b[39;00m\n\u001b[1;32m     21\u001b[0m \u001b[38;5;28;01mwith\u001b[39;00m \u001b[38;5;28mopen\u001b[39m(html_file_path, \u001b[38;5;124m'\u001b[39m\u001b[38;5;124mr\u001b[39m\u001b[38;5;124m'\u001b[39m, encoding\u001b[38;5;241m=\u001b[39m\u001b[38;5;124m'\u001b[39m\u001b[38;5;124mutf-8\u001b[39m\u001b[38;5;124m'\u001b[39m) \u001b[38;5;28;01mas\u001b[39;00m file:\n\u001b[0;32m---> 22\u001b[0m     html_content \u001b[38;5;241m=\u001b[39m \u001b[43mfile\u001b[49m\u001b[38;5;241;43m.\u001b[39;49m\u001b[43mread\u001b[49m\u001b[43m(\u001b[49m\u001b[43m)\u001b[49m\n\u001b[1;32m     24\u001b[0m \u001b[38;5;66;03m# Initialize BeautifulSoup\u001b[39;00m\n\u001b[1;32m     25\u001b[0m soup \u001b[38;5;241m=\u001b[39m BeautifulSoup(html_content, \u001b[38;5;124m'\u001b[39m\u001b[38;5;124mhtml.parser\u001b[39m\u001b[38;5;124m'\u001b[39m)\n",
      "File \u001b[0;32m~/miniconda3/envs/slices/lib/python3.9/codecs.py:322\u001b[0m, in \u001b[0;36mBufferedIncrementalDecoder.decode\u001b[0;34m(self, input, final)\u001b[0m\n\u001b[1;32m    319\u001b[0m \u001b[38;5;28;01mdef\u001b[39;00m \u001b[38;5;21mdecode\u001b[39m(\u001b[38;5;28mself\u001b[39m, \u001b[38;5;28minput\u001b[39m, final\u001b[38;5;241m=\u001b[39m\u001b[38;5;28;01mFalse\u001b[39;00m):\n\u001b[1;32m    320\u001b[0m     \u001b[38;5;66;03m# decode input (taking the buffer into account)\u001b[39;00m\n\u001b[1;32m    321\u001b[0m     data \u001b[38;5;241m=\u001b[39m \u001b[38;5;28mself\u001b[39m\u001b[38;5;241m.\u001b[39mbuffer \u001b[38;5;241m+\u001b[39m \u001b[38;5;28minput\u001b[39m\n\u001b[0;32m--> 322\u001b[0m     (result, consumed) \u001b[38;5;241m=\u001b[39m \u001b[38;5;28;43mself\u001b[39;49m\u001b[38;5;241;43m.\u001b[39;49m\u001b[43m_buffer_decode\u001b[49m\u001b[43m(\u001b[49m\u001b[43mdata\u001b[49m\u001b[43m,\u001b[49m\u001b[43m \u001b[49m\u001b[38;5;28;43mself\u001b[39;49m\u001b[38;5;241;43m.\u001b[39;49m\u001b[43merrors\u001b[49m\u001b[43m,\u001b[49m\u001b[43m \u001b[49m\u001b[43mfinal\u001b[49m\u001b[43m)\u001b[49m\n\u001b[1;32m    323\u001b[0m     \u001b[38;5;66;03m# keep undecoded input until the next call\u001b[39;00m\n\u001b[1;32m    324\u001b[0m     \u001b[38;5;28mself\u001b[39m\u001b[38;5;241m.\u001b[39mbuffer \u001b[38;5;241m=\u001b[39m data[consumed:]\n",
      "\u001b[0;31mUnicodeDecodeError\u001b[0m: 'utf-8' codec can't decode byte 0x85 in position 4481: invalid start byte"
     ]
    }
   ],
   "source": [
    "import os\n",
    "from bs4 import BeautifulSoup\n",
    "import pandas as pd\n",
    "import logging\n",
    "\n",
    "# Set up logging for better debug information\n",
    "logging.basicConfig(level=logging.INFO, format='%(asctime)s - %(levelname)s - %(message)s')\n",
    "\n",
    "def extract_drug_labeling_changes(html_file_path):\n",
    "    \"\"\"\n",
    "    Extracts drug labeling changes from an HTML file and returns two DataFrames:\n",
    "    1. Summary DataFrame indicating which sections were modified for each drug.\n",
    "    2. Details DataFrame containing summaries of changes to Contraindications, Warnings, Indications and Usage, Overdosage, Clinical Pharmacology, and Patient Labeling.\n",
    "    \"\"\"\n",
    "    # Check if the file exists\n",
    "    if not os.path.isfile(html_file_path):\n",
    "        logging.error(f\"The file '{html_file_path}' does not exist.\")\n",
    "        return None, None\n",
    "    \n",
    "    # Read the HTML content from the file\n",
    "    with open(html_file_path, 'r', encoding='utf-8') as file:\n",
    "        html_content = file.read()\n",
    "    \n",
    "    # Initialize BeautifulSoup\n",
    "    soup = BeautifulSoup(html_content, 'html.parser')\n",
    "    \n",
    "    # Define the sections to look for and their corresponding abbreviations for Summary CSV\n",
    "    section_mapping_summary = {\n",
    "        'CONTRAINDICATIONS': 'C',\n",
    "        'BOXED WARNING': 'BW',\n",
    "        'BOXED WARNINGS': 'BW',  # Handling plural form\n",
    "        'WARNINGS': 'W',\n",
    "        'PRECAUTIONS': 'P',\n",
    "        'ADVERSE REACTIONS': 'AR',\n",
    "        'INDICATIONS AND USAGE': 'IU',\n",
    "        'OVERDOSAGE': 'O',\n",
    "        'CLINICAL PHARMACOLOGY': 'CP',\n",
    "        'PATIENT LABELING': 'PL'\n",
    "    }\n",
    "    \n",
    "    # Define the sections to include in the Details CSV\n",
    "    detail_sections = [\n",
    "        'CONTRAINDICATIONS',\n",
    "        'WARNINGS',\n",
    "        'INDICATIONS AND USAGE',\n",
    "        'OVERDOSAGE',\n",
    "        'CLINICAL PHARMACOLOGY',\n",
    "        'PATIENT LABELING'\n",
    "    ]\n",
    "    \n",
    "    # Initialize lists to store data for both CSVs\n",
    "    summary_data = []\n",
    "    details_data = []\n",
    "    \n",
    "    # Find all drug sections by locating <a> tags with a 'name' attribute\n",
    "    drug_headers = soup.find_all('a', attrs={'name': True})\n",
    "    \n",
    "    logging.info(f\"Found {len(drug_headers)} drug sections in the HTML.\")\n",
    "    \n",
    "    for idx, header in enumerate(drug_headers, start=1):\n",
    "        # The drug name is within the following <h3> tag\n",
    "        h3 = header.find_next('h3')\n",
    "        if not h3:\n",
    "            logging.warning(f\"Drug section {idx}: <h3> tag not found after <a name='{header.get('name')}'>.\")\n",
    "            continue\n",
    "        \n",
    "        # Extract the drug name from the <b> tag within <h3>\n",
    "        drug_name_tag = h3.find('b')\n",
    "        if not drug_name_tag:\n",
    "            # Sometimes the drug name might not be within a <b> tag\n",
    "            # Extract text before the first parenthesis '('\n",
    "            drug_name_text = h3.get_text(separator=' ', strip=True)\n",
    "            if '(' in drug_name_text:\n",
    "                drug_name = drug_name_text.split('(')[0].strip()\n",
    "            else:\n",
    "                drug_name = drug_name_text.strip()\n",
    "            logging.info(f\"Drug section {idx}: Drug name extracted without <b> tag: '{drug_name}'.\")\n",
    "        else:\n",
    "            drug_name = drug_name_tag.get_text(strip=True)\n",
    "            logging.info(f\"Drug section {idx}: Drug name extracted with <b> tag: '{drug_name}'.\")\n",
    "        \n",
    "        # Initialize dictionary for the summary with default empty strings\n",
    "        summary_entry = {\n",
    "            'DRUG NAME': drug_name,\n",
    "            'C': '',\n",
    "            'BW': '',\n",
    "            'W': '',\n",
    "            'P': '',\n",
    "            'AR': '',\n",
    "            'IU': '',\n",
    "            'O': '',\n",
    "            'CP': '',\n",
    "            'PL': ''\n",
    "        }\n",
    "        \n",
    "        # Initialize variables for the details\n",
    "        sections_modified = []\n",
    "        summary_text = \"\"\n",
    "        \n",
    "        # Find the <dl> following the <h3>\n",
    "        dl = h3.find_next('dl')\n",
    "        if not dl:\n",
    "            logging.warning(f\"Drug section {idx} ('{drug_name}'): <dl> tag not found.\")\n",
    "            summary_data.append(summary_entry)\n",
    "            continue\n",
    "        \n",
    "        # Iterate through all <dt> and <dd> tags in order within <dl>\n",
    "        # This handles cases where <dd> tags are interleaved with <p> or other tags\n",
    "        dl_children = dl.find_all(['dt', 'dd'], recursive=True)\n",
    "        \n",
    "        current_section = None  # Tracks the current section (e.g., 'CONTRAINDICATIONS')\n",
    "        \n",
    "        for element in dl_children:\n",
    "            if element.name == 'dt':\n",
    "                # Extract the section title\n",
    "                section_title = element.get_text(separator=' ', strip=True).upper()\n",
    "                main_section = section_title.split(':')[0].strip()\n",
    "                \n",
    "                if main_section in section_mapping_summary:\n",
    "                    current_section = main_section\n",
    "                    abbrev = section_mapping_summary[main_section]\n",
    "                    summary_entry[abbrev] = 'X'\n",
    "                    sections_modified.append(main_section)\n",
    "                    logging.info(f\"Drug section {idx} ('{drug_name}'): Found modified section '{main_section}'.\")\n",
    "                else:\n",
    "                    current_section = None  # Sections we're not tracking\n",
    "            elif element.name == 'dd':\n",
    "                if current_section and current_section in detail_sections:\n",
    "                    # Extract the text content\n",
    "                    # Remove any nested tags and consolidate whitespace\n",
    "                    section_content = ' '.join(element.get_text(separator=' ', strip=True).split())\n",
    "                    summary_text += f\"{current_section}: {section_content} \"\n",
    "                    logging.info(f\"Drug section {idx} ('{drug_name}'): Extracted content for section '{current_section}'.\")\n",
    "        \n",
    "        # Append the summary entry to the summary_data list\n",
    "        summary_data.append(summary_entry)\n",
    "        \n",
    "        # If there is summary text, append to details_data\n",
    "        if summary_text:\n",
    "            details_entry = {\n",
    "                'Brand (Generic) Name': f\"{drug_name} (click product name to read prescribing information)\",\n",
    "                'Sections Modified': ' '.join(sections_modified),\n",
    "                'Summary of Changes to Contraindications, Warnings, Indications and Usage, Overdosage, Clinical Pharmacology, and Patient Labeling': summary_text.strip()\n",
    "            }\n",
    "            details_data.append(details_entry)\n",
    "            logging.info(f\"Drug section {idx} ('{drug_name}'): Added to details data.\")\n",
    "        else:\n",
    "            logging.info(f\"Drug section {idx} ('{drug_name}'): No details added.\")\n",
    "    \n",
    "    # Create the Summary DataFrame\n",
    "    df_summary = pd.DataFrame(summary_data)\n",
    "    \n",
    "    # Reorder columns as specified\n",
    "    columns_order_summary = ['DRUG NAME', 'C', 'BW', 'W', 'P', 'AR', 'IU', 'O', 'CP', 'PL']\n",
    "    df_summary = df_summary[columns_order_summary]\n",
    "    \n",
    "    # Create the Details DataFrame\n",
    "    if details_data:\n",
    "        df_details = pd.DataFrame(details_data)\n",
    "        \n",
    "        # Reorder columns as specified\n",
    "        columns_order_details = [\n",
    "            'Brand (Generic) Name',\n",
    "            'Sections Modified',\n",
    "            'Summary of Changes to Contraindications, Warnings, Indications and Usage, Overdosage, Clinical Pharmacology, and Patient Labeling'\n",
    "        ]\n",
    "        df_details = df_details[columns_order_details]\n",
    "    else:\n",
    "        df_details = pd.DataFrame(columns=[\n",
    "            'Brand (Generic) Name',\n",
    "            'Sections Modified',\n",
    "            'Summary of Changes to Contraindications, Warnings, Indications and Usage, Overdosage, Clinical Pharmacology, and Patient Labeling'\n",
    "        ])\n",
    "        logging.info(\"No detailed changes found for any drug.\")\n",
    "    \n",
    "    return df_summary, df_details\n",
    "\n",
    "# Specify the path to your HTML file\n",
    "html_file_path = '/scratch/harsha.vasamsetti/MW-archive_1996-2007/safety/label/sep96.htm'\n",
    "\n",
    "# Extract the data\n",
    "df_summary, df_details = extract_drug_labeling_changes(html_file_path)\n",
    "\n",
    "# Check if data was extracted successfully\n",
    "if df_summary is not None and df_details is not None:\n",
    "    # Display the Summary DataFrame\n",
    "    print(\"\\n--- Summary of Drug Labeling Changes ---\\n\")\n",
    "    display(df_summary)\n",
    "    \n",
    "    # Display the Details DataFrame\n",
    "    print(\"\\n--- Detailed Changes to Contraindications, Warnings, Indications and Usage, Overdosage, Clinical Pharmacology, and Patient Labeling ---\\n\")\n",
    "    if not df_details.empty:\n",
    "        display(df_details)\n",
    "    else:\n",
    "        print(\"Details DataFrame is empty.\")\n",
    "    \n",
    "    # Export to CSV files\n",
    "    summary_csv = 'drug_summary.csv'\n",
    "    details_csv = 'drug_table.csv'\n",
    "    \n",
    "    df_summary.to_csv(summary_csv, index=False)\n",
    "    print(f\"\\nSummary data has been exported to '{summary_csv}'.\")\n",
    "    \n",
    "    if not df_details.empty:\n",
    "        df_details.to_csv(details_csv, index=False)\n",
    "        print(f\"Details data has been exported to '{details_csv}'.\")\n",
    "    else:\n",
    "        print(f\"No details data to export to '{details_csv}'.\")\n",
    "else:\n",
    "    print(\"No data extracted due to previous errors.\")\n"
   ]
  },
  {
   "cell_type": "markdown",
   "metadata": {},
   "source": [
    "## 1997 - all (exlcuing 2001 and 2002)"
   ]
  },
  {
   "cell_type": "code",
   "execution_count": 18,
   "metadata": {},
   "outputs": [
    {
     "name": "stderr",
     "output_type": "stream",
     "text": [
      "2024-10-22 11:50:48,912 - INFO - Found 37 drug sections in the HTML.\n",
      "2024-10-22 11:50:48,917 - WARNING - Drug section 1: <h3> tag not found after <a name='quick'>.\n",
      "2024-10-22 11:50:48,922 - WARNING - Drug section 2: <h3> tag not found after <a name='aciphe'>.\n",
      "2024-10-22 11:50:48,927 - WARNING - Drug section 3: <h3> tag not found after <a name='adenos'>.\n",
      "2024-10-22 11:50:48,932 - WARNING - Drug section 4: <h3> tag not found after <a name='aggren'>.\n",
      "2024-10-22 11:50:48,936 - WARNING - Drug section 5: <h3> tag not found after <a name='aredia'>.\n",
      "2024-10-22 11:50:48,941 - WARNING - Drug section 6: <h3> tag not found after <a name='azulfi'>.\n",
      "2024-10-22 11:50:48,945 - WARNING - Drug section 7: <h3> tag not found after <a name='biaxin'>.\n",
      "2024-10-22 11:50:48,948 - WARNING - Drug section 8: <h3> tag not found after <a name='cereby'>.\n",
      "2024-10-22 11:50:48,952 - WARNING - Drug section 9: <h3> tag not found after <a name='cerezy'>.\n",
      "2024-10-22 11:50:48,955 - WARNING - Drug section 10: <h3> tag not found after <a name='clozar'>.\n",
      "2024-10-22 11:50:48,964 - WARNING - Drug section 11: <h3> tag not found after <a name='cozaar'>.\n",
      "2024-10-22 11:50:48,970 - WARNING - Drug section 12: <h3> tag not found after <a name='cupric'>.\n",
      "2024-10-22 11:50:48,973 - WARNING - Drug section 13: <h3> tag not found after <a name='dextros'>.\n",
      "2024-10-22 11:50:48,977 - WARNING - Drug section 14: <h3> tag not found after <a name='dilaud'>.\n",
      "2024-10-22 11:50:48,981 - WARNING - Drug section 15: <h3> tag not found after <a name='dopram'>.\n",
      "2024-10-22 11:50:48,984 - WARNING - Drug section 16: <h3> tag not found after <a name='epipen'>.\n",
      "2024-10-22 11:50:48,987 - WARNING - Drug section 17: <h3> tag not found after <a name='epivir'>.\n",
      "2024-10-22 11:50:48,990 - WARNING - Drug section 18: <h3> tag not found after <a name='hepari'>.\n",
      "2024-10-22 11:50:48,993 - WARNING - Drug section 19: <h3> tag not found after <a name='lopid'>.\n",
      "2024-10-22 11:50:48,995 - WARNING - Drug section 20: <h3> tag not found after <a name='loprox'>.\n",
      "2024-10-22 11:50:48,998 - WARNING - Drug section 21: <h3> tag not found after <a name='maxair'>.\n",
      "2024-10-22 11:50:49,001 - WARNING - Drug section 22: <h3> tag not found after <a name='norvir'>.\n",
      "2024-10-22 11:50:49,003 - WARNING - Drug section 23: <h3> tag not found after <a name='paraga'>.\n",
      "2024-10-22 11:50:49,005 - WARNING - Drug section 24: <h3> tag not found after <a name='priniv'>.\n",
      "2024-10-22 11:50:49,007 - WARNING - Drug section 25: <h3> tag not found after <a name='quinid'>.\n",
      "2024-10-22 11:50:49,008 - WARNING - Drug section 26: <h3> tag not found after <a name='serax'>.\n",
      "2024-10-22 11:50:49,010 - WARNING - Drug section 27: <h3> tag not found after <a name='singul'>.\n",
      "2024-10-22 11:50:49,011 - WARNING - Drug section 28: <h3> tag not found after <a name='sodium'>.\n",
      "2024-10-22 11:50:49,013 - WARNING - Drug section 29: <h3> tag not found after <a name='sufent'>.\n",
      "2024-10-22 11:50:49,014 - WARNING - Drug section 30: <h3> tag not found after <a name='tequin'>.\n",
      "2024-10-22 11:50:49,016 - WARNING - Drug section 31: <h3> tag not found after <a name='topama'>.\n",
      "2024-10-22 11:50:49,017 - WARNING - Drug section 32: <h3> tag not found after <a name='ultane'>.\n",
      "2024-10-22 11:50:49,018 - WARNING - Drug section 33: <h3> tag not found after <a name='valtre'>.\n",
      "2024-10-22 11:50:49,019 - WARNING - Drug section 34: <h3> tag not found after <a name='visudy'>.\n",
      "2024-10-22 11:50:49,020 - WARNING - Drug section 35: <h3> tag not found after <a name='xalata'>.\n",
      "2024-10-22 11:50:49,021 - WARNING - Drug section 36: <h3> tag not found after <a name='zaroxo'>.\n",
      "2024-10-22 11:50:49,022 - WARNING - Drug section 37: <h3> tag not found after <a name='zoloft'>.\n"
     ]
    },
    {
     "ename": "KeyError",
     "evalue": "\"None of [Index(['DRUG NAME', 'C', 'BW', 'W', 'P', 'AR', 'IU', 'O', 'CP', 'PL'], dtype='object')] are in the [columns]\"",
     "output_type": "error",
     "traceback": [
      "\u001b[0;31m---------------------------------------------------------------------------\u001b[0m",
      "\u001b[0;31mKeyError\u001b[0m                                  Traceback (most recent call last)",
      "Cell \u001b[0;32mIn[18], line 189\u001b[0m\n\u001b[1;32m    186\u001b[0m html_file_path \u001b[38;5;241m=\u001b[39m \u001b[38;5;124m'\u001b[39m\u001b[38;5;124m/scratch/harsha.vasamsetti/MW-archive_1996-2007/safety/2001/aug01.htm\u001b[39m\u001b[38;5;124m'\u001b[39m\n\u001b[1;32m    188\u001b[0m \u001b[38;5;66;03m# Extract the data\u001b[39;00m\n\u001b[0;32m--> 189\u001b[0m df_summary, df_details \u001b[38;5;241m=\u001b[39m \u001b[43mextract_drug_labeling_changes\u001b[49m\u001b[43m(\u001b[49m\u001b[43mhtml_file_path\u001b[49m\u001b[43m)\u001b[49m\n\u001b[1;32m    191\u001b[0m \u001b[38;5;66;03m# Check if data was extracted successfully\u001b[39;00m\n\u001b[1;32m    192\u001b[0m \u001b[38;5;28;01mif\u001b[39;00m df_summary \u001b[38;5;129;01mis\u001b[39;00m \u001b[38;5;129;01mnot\u001b[39;00m \u001b[38;5;28;01mNone\u001b[39;00m \u001b[38;5;129;01mand\u001b[39;00m df_details \u001b[38;5;129;01mis\u001b[39;00m \u001b[38;5;129;01mnot\u001b[39;00m \u001b[38;5;28;01mNone\u001b[39;00m:\n\u001b[1;32m    193\u001b[0m     \u001b[38;5;66;03m# Display the Summary DataFrame\u001b[39;00m\n",
      "Cell \u001b[0;32mIn[18], line 162\u001b[0m, in \u001b[0;36mextract_drug_labeling_changes\u001b[0;34m(html_file_path)\u001b[0m\n\u001b[1;32m    160\u001b[0m \u001b[38;5;66;03m# Reorder columns as specified\u001b[39;00m\n\u001b[1;32m    161\u001b[0m columns_order_summary \u001b[38;5;241m=\u001b[39m [\u001b[38;5;124m'\u001b[39m\u001b[38;5;124mDRUG NAME\u001b[39m\u001b[38;5;124m'\u001b[39m, \u001b[38;5;124m'\u001b[39m\u001b[38;5;124mC\u001b[39m\u001b[38;5;124m'\u001b[39m, \u001b[38;5;124m'\u001b[39m\u001b[38;5;124mBW\u001b[39m\u001b[38;5;124m'\u001b[39m, \u001b[38;5;124m'\u001b[39m\u001b[38;5;124mW\u001b[39m\u001b[38;5;124m'\u001b[39m, \u001b[38;5;124m'\u001b[39m\u001b[38;5;124mP\u001b[39m\u001b[38;5;124m'\u001b[39m, \u001b[38;5;124m'\u001b[39m\u001b[38;5;124mAR\u001b[39m\u001b[38;5;124m'\u001b[39m, \u001b[38;5;124m'\u001b[39m\u001b[38;5;124mIU\u001b[39m\u001b[38;5;124m'\u001b[39m, \u001b[38;5;124m'\u001b[39m\u001b[38;5;124mO\u001b[39m\u001b[38;5;124m'\u001b[39m, \u001b[38;5;124m'\u001b[39m\u001b[38;5;124mCP\u001b[39m\u001b[38;5;124m'\u001b[39m, \u001b[38;5;124m'\u001b[39m\u001b[38;5;124mPL\u001b[39m\u001b[38;5;124m'\u001b[39m]\n\u001b[0;32m--> 162\u001b[0m df_summary \u001b[38;5;241m=\u001b[39m \u001b[43mdf_summary\u001b[49m\u001b[43m[\u001b[49m\u001b[43mcolumns_order_summary\u001b[49m\u001b[43m]\u001b[49m\n\u001b[1;32m    164\u001b[0m \u001b[38;5;66;03m# Create the Details DataFrame\u001b[39;00m\n\u001b[1;32m    165\u001b[0m \u001b[38;5;28;01mif\u001b[39;00m details_data:\n",
      "File \u001b[0;32m~/miniconda3/envs/slices/lib/python3.9/site-packages/pandas/core/frame.py:4108\u001b[0m, in \u001b[0;36mDataFrame.__getitem__\u001b[0;34m(self, key)\u001b[0m\n\u001b[1;32m   4106\u001b[0m     \u001b[38;5;28;01mif\u001b[39;00m is_iterator(key):\n\u001b[1;32m   4107\u001b[0m         key \u001b[38;5;241m=\u001b[39m \u001b[38;5;28mlist\u001b[39m(key)\n\u001b[0;32m-> 4108\u001b[0m     indexer \u001b[38;5;241m=\u001b[39m \u001b[38;5;28;43mself\u001b[39;49m\u001b[38;5;241;43m.\u001b[39;49m\u001b[43mcolumns\u001b[49m\u001b[38;5;241;43m.\u001b[39;49m\u001b[43m_get_indexer_strict\u001b[49m\u001b[43m(\u001b[49m\u001b[43mkey\u001b[49m\u001b[43m,\u001b[49m\u001b[43m \u001b[49m\u001b[38;5;124;43m\"\u001b[39;49m\u001b[38;5;124;43mcolumns\u001b[39;49m\u001b[38;5;124;43m\"\u001b[39;49m\u001b[43m)\u001b[49m[\u001b[38;5;241m1\u001b[39m]\n\u001b[1;32m   4110\u001b[0m \u001b[38;5;66;03m# take() does not accept boolean indexers\u001b[39;00m\n\u001b[1;32m   4111\u001b[0m \u001b[38;5;28;01mif\u001b[39;00m \u001b[38;5;28mgetattr\u001b[39m(indexer, \u001b[38;5;124m\"\u001b[39m\u001b[38;5;124mdtype\u001b[39m\u001b[38;5;124m\"\u001b[39m, \u001b[38;5;28;01mNone\u001b[39;00m) \u001b[38;5;241m==\u001b[39m \u001b[38;5;28mbool\u001b[39m:\n",
      "File \u001b[0;32m~/miniconda3/envs/slices/lib/python3.9/site-packages/pandas/core/indexes/base.py:6200\u001b[0m, in \u001b[0;36mIndex._get_indexer_strict\u001b[0;34m(self, key, axis_name)\u001b[0m\n\u001b[1;32m   6197\u001b[0m \u001b[38;5;28;01melse\u001b[39;00m:\n\u001b[1;32m   6198\u001b[0m     keyarr, indexer, new_indexer \u001b[38;5;241m=\u001b[39m \u001b[38;5;28mself\u001b[39m\u001b[38;5;241m.\u001b[39m_reindex_non_unique(keyarr)\n\u001b[0;32m-> 6200\u001b[0m \u001b[38;5;28;43mself\u001b[39;49m\u001b[38;5;241;43m.\u001b[39;49m\u001b[43m_raise_if_missing\u001b[49m\u001b[43m(\u001b[49m\u001b[43mkeyarr\u001b[49m\u001b[43m,\u001b[49m\u001b[43m \u001b[49m\u001b[43mindexer\u001b[49m\u001b[43m,\u001b[49m\u001b[43m \u001b[49m\u001b[43maxis_name\u001b[49m\u001b[43m)\u001b[49m\n\u001b[1;32m   6202\u001b[0m keyarr \u001b[38;5;241m=\u001b[39m \u001b[38;5;28mself\u001b[39m\u001b[38;5;241m.\u001b[39mtake(indexer)\n\u001b[1;32m   6203\u001b[0m \u001b[38;5;28;01mif\u001b[39;00m \u001b[38;5;28misinstance\u001b[39m(key, Index):\n\u001b[1;32m   6204\u001b[0m     \u001b[38;5;66;03m# GH 42790 - Preserve name from an Index\u001b[39;00m\n",
      "File \u001b[0;32m~/miniconda3/envs/slices/lib/python3.9/site-packages/pandas/core/indexes/base.py:6249\u001b[0m, in \u001b[0;36mIndex._raise_if_missing\u001b[0;34m(self, key, indexer, axis_name)\u001b[0m\n\u001b[1;32m   6247\u001b[0m \u001b[38;5;28;01mif\u001b[39;00m nmissing:\n\u001b[1;32m   6248\u001b[0m     \u001b[38;5;28;01mif\u001b[39;00m nmissing \u001b[38;5;241m==\u001b[39m \u001b[38;5;28mlen\u001b[39m(indexer):\n\u001b[0;32m-> 6249\u001b[0m         \u001b[38;5;28;01mraise\u001b[39;00m \u001b[38;5;167;01mKeyError\u001b[39;00m(\u001b[38;5;124mf\u001b[39m\u001b[38;5;124m\"\u001b[39m\u001b[38;5;124mNone of [\u001b[39m\u001b[38;5;132;01m{\u001b[39;00mkey\u001b[38;5;132;01m}\u001b[39;00m\u001b[38;5;124m] are in the [\u001b[39m\u001b[38;5;132;01m{\u001b[39;00maxis_name\u001b[38;5;132;01m}\u001b[39;00m\u001b[38;5;124m]\u001b[39m\u001b[38;5;124m\"\u001b[39m)\n\u001b[1;32m   6251\u001b[0m     not_found \u001b[38;5;241m=\u001b[39m \u001b[38;5;28mlist\u001b[39m(ensure_index(key)[missing_mask\u001b[38;5;241m.\u001b[39mnonzero()[\u001b[38;5;241m0\u001b[39m]]\u001b[38;5;241m.\u001b[39munique())\n\u001b[1;32m   6252\u001b[0m     \u001b[38;5;28;01mraise\u001b[39;00m \u001b[38;5;167;01mKeyError\u001b[39;00m(\u001b[38;5;124mf\u001b[39m\u001b[38;5;124m\"\u001b[39m\u001b[38;5;132;01m{\u001b[39;00mnot_found\u001b[38;5;132;01m}\u001b[39;00m\u001b[38;5;124m not in index\u001b[39m\u001b[38;5;124m\"\u001b[39m)\n",
      "\u001b[0;31mKeyError\u001b[0m: \"None of [Index(['DRUG NAME', 'C', 'BW', 'W', 'P', 'AR', 'IU', 'O', 'CP', 'PL'], dtype='object')] are in the [columns]\""
     ]
    }
   ],
   "source": [
    "import os\n",
    "from bs4 import BeautifulSoup\n",
    "import pandas as pd\n",
    "import logging\n",
    "\n",
    "# Set up logging for better debug information\n",
    "logging.basicConfig(level=logging.INFO, format='%(asctime)s - %(levelname)s - %(message)s')\n",
    "\n",
    "def extract_drug_labeling_changes(html_file_path):\n",
    "    \"\"\"\n",
    "    Extracts drug labeling changes from an HTML file and returns two DataFrames:\n",
    "    1. Summary DataFrame indicating which sections were modified for each drug.\n",
    "    2. Details DataFrame containing summaries of changes to Contraindications, Warnings, Indications and Usage, Overdosage, Clinical Pharmacology, and Patient Labeling.\n",
    "    \"\"\"\n",
    "    # Check if the file exists\n",
    "    if not os.path.isfile(html_file_path):\n",
    "        logging.error(f\"The file '{html_file_path}' does not exist.\")\n",
    "        return None, None\n",
    "\n",
    "    # Read the HTML content from the file using cp1252 encoding\n",
    "    try:\n",
    "        with open(html_file_path, 'r', encoding='cp1252') as file:\n",
    "            html_content = file.read()\n",
    "    except UnicodeDecodeError as e:\n",
    "        logging.error(f\"UnicodeDecodeError: {e}\")\n",
    "        return None, None\n",
    "    except Exception as e:\n",
    "        logging.error(f\"Error reading file: {e}\")\n",
    "        return None, None\n",
    "\n",
    "    # Initialize BeautifulSoup\n",
    "    soup = BeautifulSoup(html_content, 'html.parser')\n",
    "\n",
    "    # Define the sections to look for and their corresponding abbreviations for Summary CSV\n",
    "    section_mapping_summary = {\n",
    "        'CONTRAINDICATIONS': 'C',\n",
    "        'BOXED WARNING': 'BW',\n",
    "        'BOXED WARNINGS': 'BW',  # Handling plural form\n",
    "        'WARNINGS': 'W',\n",
    "        'PRECAUTIONS': 'P',\n",
    "        'ADVERSE REACTIONS': 'AR',\n",
    "        'INDICATIONS AND USAGE': 'IU',\n",
    "        'OVERDOSAGE': 'O',\n",
    "        'CLINICAL PHARMACOLOGY': 'CP',\n",
    "        'PATIENT LABELING': 'PL'\n",
    "    }\n",
    "\n",
    "    # Define the sections to include in the Details CSV\n",
    "    detail_sections = [\n",
    "        'CONTRAINDICATIONS',\n",
    "        'WARNINGS',\n",
    "        'INDICATIONS AND USAGE',\n",
    "        'OVERDOSAGE',\n",
    "        'CLINICAL PHARMACOLOGY',\n",
    "        'PATIENT LABELING'\n",
    "    ]\n",
    "\n",
    "    # Initialize lists to store data for both CSVs\n",
    "    summary_data = []\n",
    "    details_data = []\n",
    "\n",
    "    # Find all drug sections by locating <a> tags with a 'name' attribute\n",
    "    drug_headers = soup.find_all('a', attrs={'name': True})\n",
    "\n",
    "    logging.info(f\"Found {len(drug_headers)} drug sections in the HTML.\")\n",
    "\n",
    "    for idx, header in enumerate(drug_headers, start=1):\n",
    "        # The drug name is within the following <h3> tag\n",
    "        h3 = header.find_next('h3')\n",
    "        if not h3:\n",
    "            logging.warning(f\"Drug section {idx}: <h3> tag not found after <a name='{header.get('name')}'>.\")\n",
    "            continue\n",
    "\n",
    "        # Extract the drug name from the <b> tag within <h3>\n",
    "        drug_name_tag = h3.find('b')\n",
    "        if not drug_name_tag:\n",
    "            # Sometimes the drug name might not be within a <b> tag\n",
    "            # Extract text before the first parenthesis '('\n",
    "            drug_name_text = h3.get_text(separator=' ', strip=True)\n",
    "            if '(' in drug_name_text:\n",
    "                drug_name = drug_name_text.split('(')[0].strip()\n",
    "            else:\n",
    "                drug_name = drug_name_text.strip()\n",
    "            logging.info(f\"Drug section {idx}: Drug name extracted without <b> tag: '{drug_name}'.\")\n",
    "        else:\n",
    "            drug_name = drug_name_tag.get_text(strip=True)\n",
    "            logging.info(f\"Drug section {idx}: Drug name extracted with <b> tag: '{drug_name}'.\")\n",
    "\n",
    "        # Initialize dictionary for the summary with default empty strings\n",
    "        summary_entry = {\n",
    "            'DRUG NAME': drug_name,\n",
    "            'C': '',\n",
    "            'BW': '',\n",
    "            'W': '',\n",
    "            'P': '',\n",
    "            'AR': '',\n",
    "            'IU': '',\n",
    "            'O': '',\n",
    "            'CP': '',\n",
    "            'PL': ''\n",
    "        }\n",
    "\n",
    "        # Initialize variables for the details\n",
    "        sections_modified = []\n",
    "        summary_text = \"\"\n",
    "\n",
    "        # Find the <dl> following the <h3>\n",
    "        dl = h3.find_next('dl')\n",
    "        if not dl:\n",
    "            logging.warning(f\"Drug section {idx} ('{drug_name}'): <dl> tag not found.\")\n",
    "            summary_data.append(summary_entry)\n",
    "            continue\n",
    "\n",
    "        # Iterate through all <dt> and <dd> tags in order within <dl>\n",
    "        # This handles cases where <dd> tags are interleaved with <p> or other tags\n",
    "        dl_children = dl.find_all(['dt', 'dd'], recursive=True)\n",
    "\n",
    "        current_section = None  # Tracks the current section (e.g., 'CONTRAINDICATIONS')\n",
    "\n",
    "        for element in dl_children:\n",
    "            if element.name == 'dt':\n",
    "                # Extract the section title\n",
    "                section_title = element.get_text(separator=' ', strip=True).upper()\n",
    "                main_section = section_title.split(':')[0].strip()\n",
    "\n",
    "                if main_section in section_mapping_summary:\n",
    "                    current_section = main_section\n",
    "                    abbrev = section_mapping_summary[main_section]\n",
    "                    summary_entry[abbrev] = 'X'\n",
    "                    sections_modified.append(main_section)\n",
    "                    logging.info(f\"Drug section {idx} ('{drug_name}'): Found modified section '{main_section}'.\")\n",
    "                else:\n",
    "                    current_section = None  # Sections we're not tracking\n",
    "            elif element.name == 'dd':\n",
    "                if current_section and current_section in detail_sections:\n",
    "                    # Extract the text content\n",
    "                    # Remove any nested tags and consolidate whitespace\n",
    "                    section_content = ' '.join(element.get_text(separator=' ', strip=True).split())\n",
    "                    summary_text += f\"{current_section}: {section_content} \"\n",
    "                    logging.info(f\"Drug section {idx} ('{drug_name}'): Extracted content for section '{current_section}'.\")\n",
    "\n",
    "        # Append the summary entry to the summary_data list\n",
    "        summary_data.append(summary_entry)\n",
    "\n",
    "        # If there is summary text, append to details_data\n",
    "        if summary_text:\n",
    "            details_entry = {\n",
    "                'Brand (Generic) Name': f\"{drug_name} (click product name to read prescribing information)\",\n",
    "                'Sections Modified': ' '.join(sections_modified),\n",
    "                'Summary of Changes to Contraindications, Warnings, Indications and Usage, Overdosage, Clinical Pharmacology, and Patient Labeling': summary_text.strip()\n",
    "            }\n",
    "            details_data.append(details_entry)\n",
    "            logging.info(f\"Drug section {idx} ('{drug_name}'): Added to details data.\")\n",
    "        else:\n",
    "            logging.info(f\"Drug section {idx} ('{drug_name}'): No details added.\")\n",
    "\n",
    "    # Create the Summary DataFrame\n",
    "    df_summary = pd.DataFrame(summary_data)\n",
    "\n",
    "    # Reorder columns as specified\n",
    "    columns_order_summary = ['DRUG NAME', 'C', 'BW', 'W', 'P', 'AR', 'IU', 'O', 'CP', 'PL']\n",
    "    df_summary = df_summary[columns_order_summary]\n",
    "\n",
    "    # Create the Details DataFrame\n",
    "    if details_data:\n",
    "        df_details = pd.DataFrame(details_data)\n",
    "\n",
    "        # Reorder columns as specified\n",
    "        columns_order_details = [\n",
    "            'Brand (Generic) Name',\n",
    "            'Sections Modified',\n",
    "            'Summary of Changes to Contraindications, Warnings, Indications and Usage, Overdosage, Clinical Pharmacology, and Patient Labeling'\n",
    "        ]\n",
    "        df_details = df_details[columns_order_details]\n",
    "    else:\n",
    "        df_details = pd.DataFrame(columns=[\n",
    "            'Brand (Generic) Name',\n",
    "            'Sections Modified',\n",
    "            'Summary of Changes to Contraindications, Warnings, Indications and Usage, Overdosage, Clinical Pharmacology, and Patient Labeling'\n",
    "        ])\n",
    "        logging.info(\"No detailed changes found for any drug.\")\n",
    "\n",
    "    return df_summary, df_details\n",
    "\n",
    "# Specify the path to your HTML file\n",
    "html_file_path = '/scratch/harsha.vasamsetti/MW-archive_1996-2007/safety/2001/aug01.htm'\n",
    "\n",
    "# Extract the data\n",
    "df_summary, df_details = extract_drug_labeling_changes(html_file_path)\n",
    "\n",
    "# Check if data was extracted successfully\n",
    "if df_summary is not None and df_details is not None:\n",
    "    # Display the Summary DataFrame\n",
    "    print(\"\\n--- Summary of Drug Labeling Changes ---\\n\")\n",
    "    display(df_summary)\n",
    "\n",
    "    # Display the Details DataFrame\n",
    "    print(\"\\n--- Detailed Changes to Contraindications, Warnings, Indications and Usage, Overdosage, Clinical Pharmacology, and Patient Labeling ---\\n\")\n",
    "    if not df_details.empty:\n",
    "        display(df_details)\n",
    "    else:\n",
    "        print(\"Details DataFrame is empty.\")\n",
    "\n",
    "    # Export to CSV files\n",
    "    summary_csv = 'drug_summary.csv'\n",
    "    details_csv = 'drug_table.csv'\n",
    "\n",
    "    df_summary.to_csv(summary_csv, index=False)\n",
    "    print(f\"\\nSummary data has been exported to '{summary_csv}'.\")\n",
    "\n",
    "    if not df_details.empty:\n",
    "        df_details.to_csv(details_csv, index=False)\n",
    "        print(f\"Details data has been exported to '{details_csv}'.\")\n",
    "    else:\n",
    "        print(f\"No details data to export to '{details_csv}'.\")\n",
    "else:\n",
    "    print(\"No data extracted due to previous errors.\")\n"
   ]
  },
  {
   "cell_type": "code",
   "execution_count": null,
   "metadata": {},
   "outputs": [],
   "source": []
  },
  {
   "cell_type": "markdown",
   "metadata": {},
   "source": [
    "## 2016-2008"
   ]
  },
  {
   "cell_type": "code",
   "execution_count": 9,
   "metadata": {},
   "outputs": [
    {
     "name": "stderr",
     "output_type": "stream",
     "text": [
      "Processing years:   0%|          | 0/9 [00:00<?, ?it/s]"
     ]
    },
    {
     "name": "stdout",
     "output_type": "stream",
     "text": [
      "Processing 2016 Jan...\n"
     ]
    },
    {
     "name": "stderr",
     "output_type": "stream",
     "text": []
    },
    {
     "name": "stdout",
     "output_type": "stream",
     "text": [
      "Table saved for 2016 Jan in '2016/Jan/Jan_fda_table.csv'\n",
      "Processing 2016 Feb...\n"
     ]
    },
    {
     "name": "stderr",
     "output_type": "stream",
     "text": []
    },
    {
     "name": "stdout",
     "output_type": "stream",
     "text": [
      "Table saved for 2016 Feb in '2016/Feb/Feb_fda_table.csv'\n",
      "Processing 2016 Mar...\n"
     ]
    },
    {
     "name": "stderr",
     "output_type": "stream",
     "text": []
    },
    {
     "name": "stdout",
     "output_type": "stream",
     "text": [
      "Table saved for 2016 Mar in '2016/Mar/Mar_fda_table.csv'\n",
      "Processing 2016 Apr...\n"
     ]
    },
    {
     "name": "stderr",
     "output_type": "stream",
     "text": []
    },
    {
     "name": "stdout",
     "output_type": "stream",
     "text": [
      "Table saved for 2016 Apr in '2016/Apr/Apr_fda_table.csv'\n",
      "Processing 2016 May...\n"
     ]
    },
    {
     "name": "stderr",
     "output_type": "stream",
     "text": []
    },
    {
     "name": "stdout",
     "output_type": "stream",
     "text": [
      "Table saved for 2016 May in '2016/May/May_fda_table.csv'\n",
      "Processing 2016 Jun...\n"
     ]
    },
    {
     "name": "stderr",
     "output_type": "stream",
     "text": []
    },
    {
     "name": "stdout",
     "output_type": "stream",
     "text": [
      "Table saved for 2016 Jun in '2016/Jun/Jun_fda_table.csv'\n",
      "Processing 2016 Jul...\n"
     ]
    },
    {
     "name": "stderr",
     "output_type": "stream",
     "text": [
      "Processing years:  11%|█         | 1/9 [00:18<02:25, 18.22s/it]"
     ]
    },
    {
     "name": "stdout",
     "output_type": "stream",
     "text": [
      "Table saved for 2016 Jul in '2016/Jul/Jul_fda_table.csv'\n"
     ]
    },
    {
     "name": "stderr",
     "output_type": "stream",
     "text": []
    },
    {
     "name": "stdout",
     "output_type": "stream",
     "text": [
      "Processing 2015 Jan...\n"
     ]
    },
    {
     "name": "stderr",
     "output_type": "stream",
     "text": []
    },
    {
     "name": "stdout",
     "output_type": "stream",
     "text": [
      "Table saved for 2015 Jan in '2015/Jan/Jan_fda_table.csv'\n",
      "Processing 2015 Feb...\n"
     ]
    },
    {
     "name": "stderr",
     "output_type": "stream",
     "text": []
    },
    {
     "name": "stdout",
     "output_type": "stream",
     "text": [
      "Table saved for 2015 Feb in '2015/Feb/Feb_fda_table.csv'\n",
      "Processing 2015 Mar...\n"
     ]
    },
    {
     "name": "stderr",
     "output_type": "stream",
     "text": []
    },
    {
     "name": "stdout",
     "output_type": "stream",
     "text": [
      "Table saved for 2015 Mar in '2015/Mar/Mar_fda_table.csv'\n",
      "Processing 2015 Apr...\n"
     ]
    },
    {
     "name": "stderr",
     "output_type": "stream",
     "text": []
    },
    {
     "name": "stdout",
     "output_type": "stream",
     "text": [
      "Table saved for 2015 Apr in '2015/Apr/Apr_fda_table.csv'\n",
      "Processing 2015 May...\n"
     ]
    },
    {
     "name": "stderr",
     "output_type": "stream",
     "text": []
    },
    {
     "name": "stdout",
     "output_type": "stream",
     "text": [
      "Table saved for 2015 May in '2015/May/May_fda_table.csv'\n",
      "Processing 2015 Jun...\n"
     ]
    },
    {
     "name": "stderr",
     "output_type": "stream",
     "text": []
    },
    {
     "name": "stdout",
     "output_type": "stream",
     "text": [
      "Table saved for 2015 Jun in '2015/Jun/Jun_fda_table.csv'\n",
      "Processing 2015 Jul...\n"
     ]
    },
    {
     "name": "stderr",
     "output_type": "stream",
     "text": []
    },
    {
     "name": "stdout",
     "output_type": "stream",
     "text": [
      "Table saved for 2015 Jul in '2015/Jul/Jul_fda_table.csv'\n",
      "Processing 2015 Aug...\n"
     ]
    },
    {
     "name": "stderr",
     "output_type": "stream",
     "text": []
    },
    {
     "name": "stdout",
     "output_type": "stream",
     "text": [
      "Table saved for 2015 Aug in '2015/Aug/Aug_fda_table.csv'\n",
      "Processing 2015 Sep...\n"
     ]
    },
    {
     "name": "stderr",
     "output_type": "stream",
     "text": []
    },
    {
     "name": "stdout",
     "output_type": "stream",
     "text": [
      "Table saved for 2015 Sep in '2015/Sep/Sep_fda_table.csv'\n",
      "Processing 2015 Oct...\n"
     ]
    },
    {
     "name": "stderr",
     "output_type": "stream",
     "text": []
    },
    {
     "name": "stdout",
     "output_type": "stream",
     "text": [
      "Table saved for 2015 Oct in '2015/Oct/Oct_fda_table.csv'\n",
      "Processing 2015 Nov...\n"
     ]
    },
    {
     "name": "stderr",
     "output_type": "stream",
     "text": []
    },
    {
     "name": "stdout",
     "output_type": "stream",
     "text": [
      "Table saved for 2015 Nov in '2015/Nov/Nov_fda_table.csv'\n",
      "Processing 2015 Dec...\n"
     ]
    },
    {
     "name": "stderr",
     "output_type": "stream",
     "text": [
      "Processing years:  22%|██▏       | 2/9 [00:44<02:40, 22.93s/it]"
     ]
    },
    {
     "name": "stdout",
     "output_type": "stream",
     "text": [
      "Table saved for 2015 Dec in '2015/Dec/Dec_fda_table.csv'\n"
     ]
    },
    {
     "name": "stderr",
     "output_type": "stream",
     "text": []
    },
    {
     "name": "stdout",
     "output_type": "stream",
     "text": [
      "Processing 2014 Jan...\n"
     ]
    },
    {
     "name": "stderr",
     "output_type": "stream",
     "text": []
    },
    {
     "name": "stdout",
     "output_type": "stream",
     "text": [
      "Table saved for 2014 Jan in '2014/Jan/Jan_fda_table.csv'\n",
      "Processing 2014 Feb...\n"
     ]
    },
    {
     "name": "stderr",
     "output_type": "stream",
     "text": []
    },
    {
     "name": "stdout",
     "output_type": "stream",
     "text": [
      "Table saved for 2014 Feb in '2014/Feb/Feb_fda_table.csv'\n",
      "Processing 2014 Mar...\n"
     ]
    },
    {
     "name": "stderr",
     "output_type": "stream",
     "text": []
    },
    {
     "name": "stdout",
     "output_type": "stream",
     "text": [
      "Table saved for 2014 Mar in '2014/Mar/Mar_fda_table.csv'\n",
      "Processing 2014 Apr...\n"
     ]
    },
    {
     "name": "stderr",
     "output_type": "stream",
     "text": []
    },
    {
     "name": "stdout",
     "output_type": "stream",
     "text": [
      "Table saved for 2014 Apr in '2014/Apr/Apr_fda_table.csv'\n",
      "Processing 2014 May...\n"
     ]
    },
    {
     "name": "stderr",
     "output_type": "stream",
     "text": []
    },
    {
     "name": "stdout",
     "output_type": "stream",
     "text": [
      "Table saved for 2014 May in '2014/May/May_fda_table.csv'\n",
      "Processing 2014 Jun...\n"
     ]
    },
    {
     "name": "stderr",
     "output_type": "stream",
     "text": []
    },
    {
     "name": "stdout",
     "output_type": "stream",
     "text": [
      "Table saved for 2014 Jun in '2014/Jun/Jun_fda_table.csv'\n",
      "Processing 2014 Jul...\n"
     ]
    },
    {
     "name": "stderr",
     "output_type": "stream",
     "text": []
    },
    {
     "name": "stdout",
     "output_type": "stream",
     "text": [
      "Table saved for 2014 Jul in '2014/Jul/Jul_fda_table.csv'\n",
      "Processing 2014 Aug...\n"
     ]
    },
    {
     "name": "stderr",
     "output_type": "stream",
     "text": []
    },
    {
     "name": "stdout",
     "output_type": "stream",
     "text": [
      "Table saved for 2014 Aug in '2014/Aug/Aug_fda_table.csv'\n",
      "Processing 2014 Sep...\n"
     ]
    },
    {
     "name": "stderr",
     "output_type": "stream",
     "text": []
    },
    {
     "name": "stdout",
     "output_type": "stream",
     "text": [
      "Table saved for 2014 Sep in '2014/Sep/Sep_fda_table.csv'\n",
      "Processing 2014 Oct...\n"
     ]
    },
    {
     "name": "stderr",
     "output_type": "stream",
     "text": []
    },
    {
     "name": "stdout",
     "output_type": "stream",
     "text": [
      "Table saved for 2014 Oct in '2014/Oct/Oct_fda_table.csv'\n",
      "Processing 2014 Nov...\n"
     ]
    },
    {
     "name": "stderr",
     "output_type": "stream",
     "text": []
    },
    {
     "name": "stdout",
     "output_type": "stream",
     "text": [
      "Table saved for 2014 Nov in '2014/Nov/Nov_fda_table.csv'\n",
      "Processing 2014 Dec...\n"
     ]
    },
    {
     "name": "stderr",
     "output_type": "stream",
     "text": [
      "Processing years:  33%|███▎      | 3/9 [01:10<02:25, 24.32s/it]"
     ]
    },
    {
     "name": "stdout",
     "output_type": "stream",
     "text": [
      "Table saved for 2014 Dec in '2014/Dec/Dec_fda_table.csv'\n"
     ]
    },
    {
     "name": "stderr",
     "output_type": "stream",
     "text": []
    },
    {
     "name": "stdout",
     "output_type": "stream",
     "text": [
      "Processing 2013 Jan...\n"
     ]
    },
    {
     "name": "stderr",
     "output_type": "stream",
     "text": []
    },
    {
     "name": "stdout",
     "output_type": "stream",
     "text": [
      "Table saved for 2013 Jan in '2013/Jan/Jan_fda_table.csv'\n",
      "Processing 2013 Feb...\n"
     ]
    },
    {
     "name": "stderr",
     "output_type": "stream",
     "text": []
    },
    {
     "name": "stdout",
     "output_type": "stream",
     "text": [
      "Table saved for 2013 Feb in '2013/Feb/Feb_fda_table.csv'\n",
      "Processing 2013 Mar...\n"
     ]
    },
    {
     "name": "stderr",
     "output_type": "stream",
     "text": []
    },
    {
     "name": "stdout",
     "output_type": "stream",
     "text": [
      "Table saved for 2013 Mar in '2013/Mar/Mar_fda_table.csv'\n",
      "Processing 2013 Apr...\n"
     ]
    },
    {
     "name": "stderr",
     "output_type": "stream",
     "text": []
    },
    {
     "name": "stdout",
     "output_type": "stream",
     "text": [
      "Table saved for 2013 Apr in '2013/Apr/Apr_fda_table.csv'\n",
      "Processing 2013 May...\n"
     ]
    },
    {
     "name": "stderr",
     "output_type": "stream",
     "text": []
    },
    {
     "name": "stdout",
     "output_type": "stream",
     "text": [
      "Table saved for 2013 May in '2013/May/May_fda_table.csv'\n",
      "Processing 2013 Jun...\n"
     ]
    },
    {
     "name": "stderr",
     "output_type": "stream",
     "text": []
    },
    {
     "name": "stdout",
     "output_type": "stream",
     "text": [
      "Table saved for 2013 Jun in '2013/Jun/Jun_fda_table.csv'\n",
      "Processing 2013 Jul...\n"
     ]
    },
    {
     "name": "stderr",
     "output_type": "stream",
     "text": []
    },
    {
     "name": "stdout",
     "output_type": "stream",
     "text": [
      "Table saved for 2013 Jul in '2013/Jul/Jul_fda_table.csv'\n",
      "Processing 2013 Aug...\n"
     ]
    },
    {
     "name": "stderr",
     "output_type": "stream",
     "text": []
    },
    {
     "name": "stdout",
     "output_type": "stream",
     "text": [
      "Table saved for 2013 Aug in '2013/Aug/Aug_fda_table.csv'\n",
      "Processing 2013 Sep...\n"
     ]
    },
    {
     "name": "stderr",
     "output_type": "stream",
     "text": []
    },
    {
     "name": "stdout",
     "output_type": "stream",
     "text": [
      "Table saved for 2013 Sep in '2013/Sep/Sep_fda_table.csv'\n",
      "Processing 2013 Oct...\n"
     ]
    },
    {
     "name": "stderr",
     "output_type": "stream",
     "text": []
    },
    {
     "name": "stdout",
     "output_type": "stream",
     "text": [
      "Table saved for 2013 Oct in '2013/Oct/Oct_fda_table.csv'\n",
      "Processing 2013 Nov...\n"
     ]
    },
    {
     "name": "stderr",
     "output_type": "stream",
     "text": []
    },
    {
     "name": "stdout",
     "output_type": "stream",
     "text": [
      "Table saved for 2013 Nov in '2013/Nov/Nov_fda_table.csv'\n",
      "Processing 2013 Dec...\n"
     ]
    },
    {
     "name": "stderr",
     "output_type": "stream",
     "text": [
      "Processing years:  44%|████▍     | 4/9 [01:42<02:16, 27.35s/it]"
     ]
    },
    {
     "name": "stdout",
     "output_type": "stream",
     "text": [
      "Table saved for 2013 Dec in '2013/Dec/Dec_fda_table.csv'\n"
     ]
    },
    {
     "name": "stderr",
     "output_type": "stream",
     "text": []
    },
    {
     "name": "stdout",
     "output_type": "stream",
     "text": [
      "Processing 2012 Jan...\n"
     ]
    },
    {
     "name": "stderr",
     "output_type": "stream",
     "text": []
    },
    {
     "name": "stdout",
     "output_type": "stream",
     "text": [
      "Table saved for 2012 Jan in '2012/Jan/Jan_fda_table.csv'\n",
      "Processing 2012 Feb...\n"
     ]
    },
    {
     "name": "stderr",
     "output_type": "stream",
     "text": []
    },
    {
     "name": "stdout",
     "output_type": "stream",
     "text": [
      "Table saved for 2012 Feb in '2012/Feb/Feb_fda_table.csv'\n",
      "Processing 2012 Mar...\n"
     ]
    },
    {
     "name": "stderr",
     "output_type": "stream",
     "text": []
    },
    {
     "name": "stdout",
     "output_type": "stream",
     "text": [
      "Table saved for 2012 Mar in '2012/Mar/Mar_fda_table.csv'\n",
      "Processing 2012 Apr...\n"
     ]
    },
    {
     "name": "stderr",
     "output_type": "stream",
     "text": []
    },
    {
     "name": "stdout",
     "output_type": "stream",
     "text": [
      "Table saved for 2012 Apr in '2012/Apr/Apr_fda_table.csv'\n",
      "Processing 2012 May...\n"
     ]
    },
    {
     "name": "stderr",
     "output_type": "stream",
     "text": []
    },
    {
     "name": "stdout",
     "output_type": "stream",
     "text": [
      "Table saved for 2012 May in '2012/May/May_fda_table.csv'\n",
      "Processing 2012 Jun...\n"
     ]
    },
    {
     "name": "stderr",
     "output_type": "stream",
     "text": []
    },
    {
     "name": "stdout",
     "output_type": "stream",
     "text": [
      "Table saved for 2012 Jun in '2012/Jun/Jun_fda_table.csv'\n",
      "Processing 2012 Jul...\n"
     ]
    },
    {
     "name": "stderr",
     "output_type": "stream",
     "text": []
    },
    {
     "name": "stdout",
     "output_type": "stream",
     "text": [
      "Table saved for 2012 Jul in '2012/Jul/Jul_fda_table.csv'\n",
      "Processing 2012 Aug...\n"
     ]
    },
    {
     "name": "stderr",
     "output_type": "stream",
     "text": []
    },
    {
     "name": "stdout",
     "output_type": "stream",
     "text": [
      "Table saved for 2012 Aug in '2012/Aug/Aug_fda_table.csv'\n",
      "Processing 2012 Sep...\n"
     ]
    },
    {
     "name": "stderr",
     "output_type": "stream",
     "text": []
    },
    {
     "name": "stdout",
     "output_type": "stream",
     "text": [
      "Table saved for 2012 Sep in '2012/Sep/Sep_fda_table.csv'\n",
      "Processing 2012 Oct...\n"
     ]
    },
    {
     "name": "stderr",
     "output_type": "stream",
     "text": []
    },
    {
     "name": "stdout",
     "output_type": "stream",
     "text": [
      "Table saved for 2012 Oct in '2012/Oct/Oct_fda_table.csv'\n",
      "Processing 2012 Nov...\n"
     ]
    },
    {
     "name": "stderr",
     "output_type": "stream",
     "text": []
    },
    {
     "name": "stdout",
     "output_type": "stream",
     "text": [
      "Table saved for 2012 Nov in '2012/Nov/Nov_fda_table.csv'\n",
      "Processing 2012 Dec...\n"
     ]
    },
    {
     "name": "stderr",
     "output_type": "stream",
     "text": [
      "Processing years:  56%|█████▌    | 5/9 [02:09<01:49, 27.38s/it]"
     ]
    },
    {
     "name": "stdout",
     "output_type": "stream",
     "text": [
      "Table saved for 2012 Dec in '2012/Dec/Dec_fda_table.csv'\n"
     ]
    },
    {
     "name": "stderr",
     "output_type": "stream",
     "text": []
    },
    {
     "name": "stdout",
     "output_type": "stream",
     "text": [
      "Processing 2011 Jan...\n"
     ]
    },
    {
     "name": "stderr",
     "output_type": "stream",
     "text": []
    },
    {
     "name": "stdout",
     "output_type": "stream",
     "text": [
      "Table saved for 2011 Jan in '2011/Jan/Jan_fda_table.csv'\n",
      "Processing 2011 Feb...\n"
     ]
    },
    {
     "name": "stderr",
     "output_type": "stream",
     "text": []
    },
    {
     "name": "stdout",
     "output_type": "stream",
     "text": [
      "Table saved for 2011 Feb in '2011/Feb/Feb_fda_table.csv'\n",
      "Processing 2011 Mar...\n"
     ]
    },
    {
     "name": "stderr",
     "output_type": "stream",
     "text": []
    },
    {
     "name": "stdout",
     "output_type": "stream",
     "text": [
      "Table saved for 2011 Mar in '2011/Mar/Mar_fda_table.csv'\n",
      "Processing 2011 Apr...\n"
     ]
    },
    {
     "name": "stderr",
     "output_type": "stream",
     "text": []
    },
    {
     "name": "stdout",
     "output_type": "stream",
     "text": [
      "Table saved for 2011 Apr in '2011/Apr/Apr_fda_table.csv'\n",
      "Processing 2011 May...\n"
     ]
    },
    {
     "name": "stderr",
     "output_type": "stream",
     "text": []
    },
    {
     "name": "stdout",
     "output_type": "stream",
     "text": [
      "Table saved for 2011 May in '2011/May/May_fda_table.csv'\n",
      "Processing 2011 Jun...\n"
     ]
    },
    {
     "name": "stderr",
     "output_type": "stream",
     "text": []
    },
    {
     "name": "stdout",
     "output_type": "stream",
     "text": [
      "Table saved for 2011 Jun in '2011/Jun/Jun_fda_table.csv'\n",
      "Processing 2011 Jul...\n"
     ]
    },
    {
     "name": "stderr",
     "output_type": "stream",
     "text": []
    },
    {
     "name": "stdout",
     "output_type": "stream",
     "text": [
      "Table saved for 2011 Jul in '2011/Jul/Jul_fda_table.csv'\n",
      "Processing 2011 Aug...\n"
     ]
    },
    {
     "name": "stderr",
     "output_type": "stream",
     "text": []
    },
    {
     "name": "stdout",
     "output_type": "stream",
     "text": [
      "Table saved for 2011 Aug in '2011/Aug/Aug_fda_table.csv'\n",
      "Processing 2011 Sep...\n"
     ]
    },
    {
     "name": "stderr",
     "output_type": "stream",
     "text": []
    },
    {
     "name": "stdout",
     "output_type": "stream",
     "text": [
      "Table saved for 2011 Sep in '2011/Sep/Sep_fda_table.csv'\n",
      "Processing 2011 Oct...\n"
     ]
    },
    {
     "name": "stderr",
     "output_type": "stream",
     "text": []
    },
    {
     "name": "stdout",
     "output_type": "stream",
     "text": [
      "Table saved for 2011 Oct in '2011/Oct/Oct_fda_table.csv'\n",
      "Processing 2011 Nov...\n"
     ]
    },
    {
     "name": "stderr",
     "output_type": "stream",
     "text": []
    },
    {
     "name": "stdout",
     "output_type": "stream",
     "text": [
      "Table saved for 2011 Nov in '2011/Nov/Nov_fda_table.csv'\n",
      "Processing 2011 Dec...\n"
     ]
    },
    {
     "name": "stderr",
     "output_type": "stream",
     "text": [
      "Processing years:  67%|██████▋   | 6/9 [02:36<01:20, 26.96s/it]"
     ]
    },
    {
     "name": "stdout",
     "output_type": "stream",
     "text": [
      "Table saved for 2011 Dec in '2011/Dec/Dec_fda_table.csv'\n"
     ]
    },
    {
     "name": "stderr",
     "output_type": "stream",
     "text": []
    },
    {
     "name": "stdout",
     "output_type": "stream",
     "text": [
      "Processing 2010 Jan...\n"
     ]
    },
    {
     "name": "stderr",
     "output_type": "stream",
     "text": []
    },
    {
     "name": "stdout",
     "output_type": "stream",
     "text": [
      "Table saved for 2010 Jan in '2010/Jan/Jan_fda_table.csv'\n",
      "Processing 2010 Feb...\n"
     ]
    },
    {
     "name": "stderr",
     "output_type": "stream",
     "text": []
    },
    {
     "name": "stdout",
     "output_type": "stream",
     "text": [
      "Table saved for 2010 Feb in '2010/Feb/Feb_fda_table.csv'\n",
      "Processing 2010 Mar...\n"
     ]
    },
    {
     "name": "stderr",
     "output_type": "stream",
     "text": []
    },
    {
     "name": "stdout",
     "output_type": "stream",
     "text": [
      "Table saved for 2010 Mar in '2010/Mar/Mar_fda_table.csv'\n",
      "Processing 2010 Apr...\n"
     ]
    },
    {
     "name": "stderr",
     "output_type": "stream",
     "text": []
    },
    {
     "name": "stdout",
     "output_type": "stream",
     "text": [
      "Table saved for 2010 Apr in '2010/Apr/Apr_fda_table.csv'\n",
      "Processing 2010 May...\n"
     ]
    },
    {
     "name": "stderr",
     "output_type": "stream",
     "text": []
    },
    {
     "name": "stdout",
     "output_type": "stream",
     "text": [
      "Table saved for 2010 May in '2010/May/May_fda_table.csv'\n",
      "Processing 2010 Jun...\n"
     ]
    },
    {
     "name": "stderr",
     "output_type": "stream",
     "text": []
    },
    {
     "name": "stdout",
     "output_type": "stream",
     "text": [
      "Table saved for 2010 Jun in '2010/Jun/Jun_fda_table.csv'\n",
      "Processing 2010 Jul...\n"
     ]
    },
    {
     "name": "stderr",
     "output_type": "stream",
     "text": []
    },
    {
     "name": "stdout",
     "output_type": "stream",
     "text": [
      "Table saved for 2010 Jul in '2010/Jul/Jul_fda_table.csv'\n",
      "Processing 2010 Aug...\n"
     ]
    },
    {
     "name": "stderr",
     "output_type": "stream",
     "text": []
    },
    {
     "name": "stdout",
     "output_type": "stream",
     "text": [
      "Table saved for 2010 Aug in '2010/Aug/Aug_fda_table.csv'\n",
      "Processing 2010 Sep...\n"
     ]
    },
    {
     "name": "stderr",
     "output_type": "stream",
     "text": []
    },
    {
     "name": "stdout",
     "output_type": "stream",
     "text": [
      "Table saved for 2010 Sep in '2010/Sep/Sep_fda_table.csv'\n",
      "Processing 2010 Oct...\n"
     ]
    },
    {
     "name": "stderr",
     "output_type": "stream",
     "text": []
    },
    {
     "name": "stdout",
     "output_type": "stream",
     "text": [
      "Table saved for 2010 Oct in '2010/Oct/Oct_fda_table.csv'\n",
      "Processing 2010 Nov...\n"
     ]
    },
    {
     "name": "stderr",
     "output_type": "stream",
     "text": []
    },
    {
     "name": "stdout",
     "output_type": "stream",
     "text": [
      "Table saved for 2010 Nov in '2010/Nov/Nov_fda_table.csv'\n",
      "Processing 2010 Dec...\n"
     ]
    },
    {
     "name": "stderr",
     "output_type": "stream",
     "text": [
      "Processing years:  78%|███████▊  | 7/9 [03:10<00:58, 29.26s/it]"
     ]
    },
    {
     "name": "stdout",
     "output_type": "stream",
     "text": [
      "Table saved for 2010 Dec in '2010/Dec/Dec_fda_table.csv'\n"
     ]
    },
    {
     "name": "stderr",
     "output_type": "stream",
     "text": []
    },
    {
     "name": "stdout",
     "output_type": "stream",
     "text": [
      "Processing 2009 Jan...\n"
     ]
    },
    {
     "name": "stderr",
     "output_type": "stream",
     "text": []
    },
    {
     "name": "stdout",
     "output_type": "stream",
     "text": [
      "Table saved for 2009 Jan in '2009/Jan/Jan_fda_table.csv'\n",
      "Processing 2009 Feb...\n"
     ]
    },
    {
     "name": "stderr",
     "output_type": "stream",
     "text": []
    },
    {
     "name": "stdout",
     "output_type": "stream",
     "text": [
      "Table saved for 2009 Feb in '2009/Feb/Feb_fda_table.csv'\n",
      "Processing 2009 Mar...\n"
     ]
    },
    {
     "name": "stderr",
     "output_type": "stream",
     "text": []
    },
    {
     "name": "stdout",
     "output_type": "stream",
     "text": [
      "Table saved for 2009 Mar in '2009/Mar/Mar_fda_table.csv'\n",
      "Processing 2009 Apr...\n"
     ]
    },
    {
     "name": "stderr",
     "output_type": "stream",
     "text": []
    },
    {
     "name": "stdout",
     "output_type": "stream",
     "text": [
      "No table found on the page: http://wayback.archive-it.org/7993/20170110235327/http://www.fda.gov/Safety/MedWatch/SafetyInformation/ucm153519.htm\n",
      "No data found for 2009 Apr.\n",
      "Processing 2009 May...\n"
     ]
    },
    {
     "name": "stderr",
     "output_type": "stream",
     "text": []
    },
    {
     "name": "stdout",
     "output_type": "stream",
     "text": [
      "Table saved for 2009 May in '2009/May/May_fda_table.csv'\n",
      "Processing 2009 Jun...\n"
     ]
    },
    {
     "name": "stderr",
     "output_type": "stream",
     "text": []
    },
    {
     "name": "stdout",
     "output_type": "stream",
     "text": [
      "Table saved for 2009 Jun in '2009/Jun/Jun_fda_table.csv'\n",
      "Processing 2009 Jul...\n"
     ]
    },
    {
     "name": "stderr",
     "output_type": "stream",
     "text": []
    },
    {
     "name": "stdout",
     "output_type": "stream",
     "text": [
      "Table saved for 2009 Jul in '2009/Jul/Jul_fda_table.csv'\n",
      "Processing 2009 Aug...\n"
     ]
    },
    {
     "name": "stderr",
     "output_type": "stream",
     "text": []
    },
    {
     "name": "stdout",
     "output_type": "stream",
     "text": [
      "Table saved for 2009 Aug in '2009/Aug/Aug_fda_table.csv'\n",
      "Processing 2009 Sep...\n"
     ]
    },
    {
     "name": "stderr",
     "output_type": "stream",
     "text": []
    },
    {
     "name": "stdout",
     "output_type": "stream",
     "text": [
      "Table saved for 2009 Sep in '2009/Sep/Sep_fda_table.csv'\n",
      "Processing 2009 Oct...\n"
     ]
    },
    {
     "name": "stderr",
     "output_type": "stream",
     "text": []
    },
    {
     "name": "stdout",
     "output_type": "stream",
     "text": [
      "Table saved for 2009 Oct in '2009/Oct/Oct_fda_table.csv'\n",
      "Processing 2009 Nov...\n"
     ]
    },
    {
     "name": "stderr",
     "output_type": "stream",
     "text": []
    },
    {
     "name": "stdout",
     "output_type": "stream",
     "text": [
      "Table saved for 2009 Nov in '2009/Nov/Nov_fda_table.csv'\n",
      "Processing 2009 Dec...\n"
     ]
    },
    {
     "name": "stderr",
     "output_type": "stream",
     "text": [
      "Processing years:  89%|████████▉ | 8/9 [03:33<00:27, 27.32s/it]"
     ]
    },
    {
     "name": "stdout",
     "output_type": "stream",
     "text": [
      "Table saved for 2009 Dec in '2009/Dec/Dec_fda_table.csv'\n"
     ]
    },
    {
     "name": "stderr",
     "output_type": "stream",
     "text": []
    },
    {
     "name": "stdout",
     "output_type": "stream",
     "text": [
      "Processing 2008 Jan...\n"
     ]
    },
    {
     "name": "stderr",
     "output_type": "stream",
     "text": []
    },
    {
     "name": "stdout",
     "output_type": "stream",
     "text": [
      "Table saved for 2008 Jan in '2008/Jan/Jan_fda_table.csv'\n",
      "Processing 2008 Feb...\n"
     ]
    },
    {
     "name": "stderr",
     "output_type": "stream",
     "text": []
    },
    {
     "name": "stdout",
     "output_type": "stream",
     "text": [
      "Table saved for 2008 Feb in '2008/Feb/Feb_fda_table.csv'\n",
      "Processing 2008 Mar...\n"
     ]
    },
    {
     "name": "stderr",
     "output_type": "stream",
     "text": []
    },
    {
     "name": "stdout",
     "output_type": "stream",
     "text": [
      "Table saved for 2008 Mar in '2008/Mar/Mar_fda_table.csv'\n",
      "Processing 2008 Apr...\n"
     ]
    },
    {
     "name": "stderr",
     "output_type": "stream",
     "text": []
    },
    {
     "name": "stdout",
     "output_type": "stream",
     "text": [
      "Table saved for 2008 Apr in '2008/Apr/Apr_fda_table.csv'\n",
      "Processing 2008 May...\n"
     ]
    },
    {
     "name": "stderr",
     "output_type": "stream",
     "text": []
    },
    {
     "name": "stdout",
     "output_type": "stream",
     "text": [
      "Table saved for 2008 May in '2008/May/May_fda_table.csv'\n",
      "Processing 2008 Jun...\n"
     ]
    },
    {
     "name": "stderr",
     "output_type": "stream",
     "text": []
    },
    {
     "name": "stdout",
     "output_type": "stream",
     "text": [
      "Table saved for 2008 Jun in '2008/Jun/Jun_fda_table.csv'\n",
      "Processing 2008 Jul...\n"
     ]
    },
    {
     "name": "stderr",
     "output_type": "stream",
     "text": []
    },
    {
     "name": "stdout",
     "output_type": "stream",
     "text": [
      "Table saved for 2008 Jul in '2008/Jul/Jul_fda_table.csv'\n",
      "Processing 2008 Aug...\n"
     ]
    },
    {
     "name": "stderr",
     "output_type": "stream",
     "text": []
    },
    {
     "name": "stdout",
     "output_type": "stream",
     "text": [
      "Table saved for 2008 Aug in '2008/Aug/Aug_fda_table.csv'\n",
      "Processing 2008 Sep...\n"
     ]
    },
    {
     "name": "stderr",
     "output_type": "stream",
     "text": []
    },
    {
     "name": "stdout",
     "output_type": "stream",
     "text": [
      "Table saved for 2008 Sep in '2008/Sep/Sep_fda_table.csv'\n",
      "Processing 2008 Oct...\n"
     ]
    },
    {
     "name": "stderr",
     "output_type": "stream",
     "text": []
    },
    {
     "name": "stdout",
     "output_type": "stream",
     "text": [
      "Table saved for 2008 Oct in '2008/Oct/Oct_fda_table.csv'\n",
      "Processing 2008 Nov...\n"
     ]
    },
    {
     "name": "stderr",
     "output_type": "stream",
     "text": []
    },
    {
     "name": "stdout",
     "output_type": "stream",
     "text": [
      "Table saved for 2008 Nov in '2008/Nov/Nov_fda_table.csv'\n",
      "Processing 2008 Dec...\n"
     ]
    },
    {
     "name": "stderr",
     "output_type": "stream",
     "text": [
      "Processing years: 100%|██████████| 9/9 [03:57<00:00, 26.44s/it]"
     ]
    },
    {
     "name": "stdout",
     "output_type": "stream",
     "text": [
      "No table found on the page: http://wayback.archive-it.org/7993/20170110235327/http://www.fda.gov/Safety/MedWatch/SafetyInformation/ucm123731.htm\n",
      "No data found for 2008 Dec.\n",
      "All tables processed and saved.\n"
     ]
    },
    {
     "name": "stderr",
     "output_type": "stream",
     "text": [
      "\n"
     ]
    }
   ],
   "source": [
    "import os\n",
    "import requests\n",
    "from bs4 import BeautifulSoup\n",
    "import pandas as pd\n",
    "from tqdm import tqdm  # Import tqdm for progress bars\n",
    "\n",
    "# Function to fetch the table from a specific URL\n",
    "def fetch_table_from_url(url):\n",
    "    # Send GET request to fetch the page\n",
    "    response = requests.get(url)\n",
    "    \n",
    "    # Parse the HTML using BeautifulSoup\n",
    "    soup = BeautifulSoup(response.content, 'html.parser')\n",
    "    \n",
    "    # Attempt to find the table by a specific attribute or header content\n",
    "    table = soup.find('table', {'height': '1289'})  # Adjust this to match a unique attribute or use a method to check headers\n",
    "    if not table:\n",
    "        table = soup.find('table')  # Fallback to the first table if specific criteria fail\n",
    "        if not table:\n",
    "            print(f\"No table found on the page: {url}\")\n",
    "            return pd.DataFrame()\n",
    "    \n",
    "    # Extract the rows from the table\n",
    "    rows = table.find_all('tr')\n",
    "    \n",
    "    data = []\n",
    "    \n",
    "    # Loop through the rows and extract columns, skipping empty or header rows\n",
    "    for row in rows:\n",
    "        cols = row.find_all('td')\n",
    "        if len(cols) == 0 or 'DRUG NAME' in row.get_text():  # Skip header or empty rows\n",
    "            continue\n",
    "        \n",
    "        # Extract drug name and link\n",
    "        drug_name_elem = cols[0].find('a')\n",
    "        if drug_name_elem:\n",
    "            drug_name = drug_name_elem.text.strip()\n",
    "        else:\n",
    "            drug_name = cols[0].text.strip()\n",
    "        \n",
    "        # Extract the other columns (BW, C, W, P, AR, PPI/MG)\n",
    "        bw = cols[1].text.strip() if len(cols) > 1 else ''\n",
    "        c = cols[2].text.strip() if len(cols) > 2 else ''\n",
    "        w = cols[3].text.strip() if len(cols) > 3 else ''\n",
    "        p = cols[4].text.strip() if len(cols) > 4 else ''\n",
    "        ar = cols[5].text.strip() if len(cols) > 5 else ''\n",
    "        ppi_mg = cols[6].text.strip() if len(cols) > 6 else ''\n",
    "        \n",
    "        # Append data to the list\n",
    "        data.append([drug_name, bw, c, w, p, ar, ppi_mg])\n",
    "    \n",
    "    # Return the data in DataFrame format\n",
    "    columns = ['Drug Name', 'BW', 'C', 'W', 'P', 'AR', 'PPI/MG']\n",
    "    df = pd.DataFrame(data, columns=columns)\n",
    "    \n",
    "    return df\n",
    "\n",
    "# Function to save the extracted table to CSV in the appropriate directory\n",
    "def save_table_to_csv(df, year, month):\n",
    "    # Create base directory for the year\n",
    "    base_dir = str(year)\n",
    "    if not os.path.exists(base_dir):\n",
    "        os.makedirs(base_dir)\n",
    "    \n",
    "    # Create directory for the month\n",
    "    month_dir = os.path.join(base_dir, month)\n",
    "    if not os.path.exists(month_dir):\n",
    "        os.makedirs(month_dir)\n",
    "    \n",
    "    # Define the path for the CSV file\n",
    "    csv_path = os.path.join(month_dir, f'{month}_fda_table.csv')\n",
    "    \n",
    "    # Save the DataFrame as CSV\n",
    "    df.to_csv(csv_path, index=False)\n",
    "    print(f\"Table saved for {year} {month} in '{csv_path}'\")\n",
    "\n",
    "# Define the URLs for multiple years and months\n",
    "urls = {\n",
    "    '2016': {\n",
    "        'Jan': 'http://wayback.archive-it.org/7993/20170110235327/http://www.fda.gov/Safety/MedWatch/SafetyInformation/ucm485289.htm',\n",
    "        'Feb': 'http://wayback.archive-it.org/7993/20170110235327/http://www.fda.gov/Safety/MedWatch/SafetyInformation/ucm489329.htm',\n",
    "        'Mar': 'http://wayback.archive-it.org/7993/20170110235327/http://www.fda.gov/Safety/MedWatch/SafetyInformation/ucm494834.htm',\n",
    "        'Apr': 'http://wayback.archive-it.org/7993/20170110235327/http://www.fda.gov/Safety/MedWatch/SafetyInformation/ucm499575.htm',\n",
    "        'May': 'http://wayback.archive-it.org/7993/20170110235327/http://www.fda.gov/Safety/MedWatch/SafetyInformation/ucm505586.htm',\n",
    "        'Jun': 'http://wayback.archive-it.org/7993/20170110235327/http://www.fda.gov/Safety/MedWatch/SafetyInformation/ucm509048.htm',\n",
    "        'Jul': 'http://wayback.archive-it.org/7993/20170110235327/http://www.fda.gov/Safety/MedWatch/SafetyInformation/ucm514705.htm',\n",
    "    },\n",
    "    '2015': {\n",
    "        'Jan': 'http://wayback.archive-it.org/7993/20170110235327/http://www.fda.gov/Safety/MedWatch/SafetyInformation/ucm433045.htm',\n",
    "        'Feb': 'http://wayback.archive-it.org/7993/20170110235327/http://www.fda.gov/Safety/MedWatch/SafetyInformation/ucm436827.htm',\n",
    "        'Mar': 'http://wayback.archive-it.org/7993/20170110235327/http://www.fda.gov/Safety/MedWatch/SafetyInformation/ucm441224.htm',\n",
    "        'Apr': 'http://wayback.archive-it.org/7993/20170110235327/http://www.fda.gov/Safety/MedWatch/SafetyInformation/ucm446032.htm',\n",
    "        'May': 'http://wayback.archive-it.org/7993/20170110235327/http://www.fda.gov/Safety/MedWatch/SafetyInformation/ucm450062.htm',\n",
    "        'Jun': 'http://wayback.archive-it.org/7993/20170110235327/http://www.fda.gov/Safety/MedWatch/SafetyInformation/ucm453965.htm',\n",
    "        'Jul': 'http://wayback.archive-it.org/7993/20170110235327/http://www.fda.gov/Safety/MedWatch/SafetyInformation/ucm457920.htm',\n",
    "        'Aug': 'http://wayback.archive-it.org/7993/20170110235327/http://www.fda.gov/Safety/MedWatch/SafetyInformation/ucm460662.htm',\n",
    "        'Sep': 'http://wayback.archive-it.org/7993/20170110235327/http://www.fda.gov/Safety/MedWatch/SafetyInformation/ucm465836.htm',\n",
    "        'Oct': 'http://wayback.archive-it.org/7993/20170110235327/http://www.fda.gov/Safety/MedWatch/SafetyInformation/ucm471840.htm',\n",
    "        'Nov': 'http://wayback.archive-it.org/7993/20170110235327/http://www.fda.gov/Safety/MedWatch/SafetyInformation/ucm476260.htm',\n",
    "        'Dec': 'http://wayback.archive-it.org/7993/20170110235327/http://www.fda.gov/Safety/MedWatch/SafetyInformation/ucm480758.htm',\n",
    "    },\n",
    "    '2014': {\n",
    "        'Jan': 'http://wayback.archive-it.org/7993/20170110235327/http://www.fda.gov/Safety/MedWatch/SafetyInformation/ucm384738.htm',\n",
    "        'Feb': 'http://wayback.archive-it.org/7993/20170110235327/http://www.fda.gov/Safety/MedWatch/SafetyInformation/ucm388717.htm',\n",
    "        'Mar': 'http://wayback.archive-it.org/7993/20170110235327/http://www.fda.gov/Safety/MedWatch/SafetyInformation/ucm392205.htm',\n",
    "        'Apr': 'http://wayback.archive-it.org/7993/20170110235327/http://www.fda.gov/Safety/MedWatch/SafetyInformation/ucm396456.htm',\n",
    "        'May': 'http://wayback.archive-it.org/7993/20170110235327/http://www.fda.gov/Safety/MedWatch/SafetyInformation/ucm400227.htm',\n",
    "        'Jun': 'http://wayback.archive-it.org/7993/20170110235327/http://www.fda.gov/Safety/MedWatch/SafetyInformation/ucm402776.htm',\n",
    "        'Jul': 'http://wayback.archive-it.org/7993/20170110235327/http://www.fda.gov/Safety/MedWatch/SafetyInformation/ucm409189.htm',\n",
    "        'Aug': 'http://wayback.archive-it.org/7993/20170110235327/http://www.fda.gov/Safety/MedWatch/SafetyInformation/ucm413266.htm',\n",
    "        'Sep': 'http://wayback.archive-it.org/7993/20170110235327/http://www.fda.gov/Safety/MedWatch/SafetyInformation/ucm417235.htm',\n",
    "        'Oct': 'http://wayback.archive-it.org/7993/20170110235327/http://www.fda.gov/Safety/MedWatch/SafetyInformation/ucm422591.htm',\n",
    "        'Nov': 'http://wayback.archive-it.org/7993/20170110235327/http://www.fda.gov/Safety/MedWatch/SafetyInformation/ucm425985.htm',\n",
    "        'Dec': 'http://wayback.archive-it.org/7993/20170110235327/http://www.fda.gov/Safety/MedWatch/SafetyInformation/ucm429250.htm',\n",
    "    },\n",
    "    '2013': {\n",
    "        'Jan': 'http://wayback.archive-it.org/7993/20170110235327/http://www.fda.gov/Safety/MedWatch/SafetyInformation/ucm338038.htm',\n",
    "        'Feb': 'http://wayback.archive-it.org/7993/20170110235327/http://www.fda.gov/Safety/MedWatch/SafetyInformation/ucm342027.htm',\n",
    "        'Mar': 'http://wayback.archive-it.org/7993/20170110235327/http://www.fda.gov/Safety/MedWatch/SafetyInformation/ucm346535.htm',\n",
    "        'Apr': 'http://wayback.archive-it.org/7993/20170110235327/http://www.fda.gov/Safety/MedWatch/SafetyInformation/ucm348021.htm',\n",
    "        'May': 'http://wayback.archive-it.org/7993/20170110235327/http://www.fda.gov/Safety/MedWatch/SafetyInformation/ucm355680.htm',\n",
    "        'Jun': 'http://wayback.archive-it.org/7993/20170110235327/http://www.fda.gov/Safety/MedWatch/SafetyInformation/ucm359843.htm',\n",
    "        'Jul': 'http://wayback.archive-it.org/7993/20170110235327/http://www.fda.gov/Safety/MedWatch/SafetyInformation/ucm363949.htm',\n",
    "        'Aug': 'http://wayback.archive-it.org/7993/20170110235327/http://www.fda.gov/Safety/MedWatch/SafetyInformation/ucm365214.htm',\n",
    "        'Sep': 'http://wayback.archive-it.org/7993/20170110235327/http://www.fda.gov/Safety/MedWatch/SafetyInformation/ucm371272.htm',\n",
    "        'Oct': 'http://wayback.archive-it.org/7993/20170110235327/http://www.fda.gov/Safety/MedWatch/SafetyInformation/ucm373523.htm',\n",
    "        'Nov': 'http://wayback.archive-it.org/7993/20170110235327/http://www.fda.gov/Safety/MedWatch/SafetyInformation/ucm377096.htm',\n",
    "        'Dec': 'http://wayback.archive-it.org/7993/20170110235327/http://www.fda.gov/Safety/MedWatch/SafetyInformation/ucm380539.htm',\n",
    "    },\n",
    "    '2012': {\n",
    "        'Jan': 'http://wayback.archive-it.org/7993/20170110235327/http://www.fda.gov/Safety/MedWatch/SafetyInformation/ucm289859.htm',\n",
    "        'Feb': 'http://wayback.archive-it.org/7993/20170110235327/http://www.fda.gov/Safety/MedWatch/SafetyInformation/ucm294217.htm',\n",
    "        'Mar': 'http://wayback.archive-it.org/7993/20170110235327/http://www.fda.gov/Safety/MedWatch/SafetyInformation/ucm299284.htm',\n",
    "        'Apr': 'http://wayback.archive-it.org/7993/20170110235327/http://www.fda.gov/Safety/MedWatch/SafetyInformation/ucm302285.htm',\n",
    "        'May': 'http://wayback.archive-it.org/7993/20170110235327/http://www.fda.gov/Safety/MedWatch/SafetyInformation/Safety-RelatedDrugLabelingChanges/ucm306941.htm',\n",
    "        'Jun': 'http://wayback.archive-it.org/7993/20170110235327/http://www.fda.gov/Safety/MedWatch/SafetyInformation/ucm309380.htm',\n",
    "        'Jul': 'http://wayback.archive-it.org/7993/20170110235327/http://www.fda.gov/Safety/MedWatch/SafetyInformation/ucm314601.htm',\n",
    "        'Aug': 'http://wayback.archive-it.org/7993/20170110235327/http://www.fda.gov/Safety/MedWatch/SafetyInformation/ucm315860.htm',\n",
    "        'Sep': 'http://wayback.archive-it.org/7993/20170110235327/http://www.fda.gov/Safety/MedWatch/SafetyInformation/Safety-RelatedDrugLabelingChanges/ucm323036.htm',\n",
    "        'Oct': 'http://wayback.archive-it.org/7993/20170110235327/http://www.fda.gov/Safety/MedWatch/SafetyInformation/ucm326133.htm',\n",
    "        'Nov': 'http://wayback.archive-it.org/7993/20170110235327/http://www.fda.gov/Safety/MedWatch/SafetyInformation/ucm330881.htm',\n",
    "        'Dec': 'http://wayback.archive-it.org/7993/20170110235327/http://www.fda.gov/Safety/MedWatch/SafetyInformation/ucm332340.htm',\n",
    "    },\n",
    "    '2011': {\n",
    "        'Jan': 'http://wayback.archive-it.org/7993/20170110235327/http://www.fda.gov/Safety/MedWatch/SafetyInformation/ucm240075.htm',\n",
    "        'Feb': 'http://wayback.archive-it.org/7993/20170110235327/http://www.fda.gov/Safety/MedWatch/SafetyInformation/ucm242998.htm',\n",
    "        'Mar': 'http://wayback.archive-it.org/7993/20170110235327/http://www.fda.gov/Safety/MedWatch/SafetyInformation/ucm249643.htm',\n",
    "        'Apr': 'http://wayback.archive-it.org/7993/20170110235327/http://www.fda.gov/Safety/MedWatch/SafetyInformation/ucm253470.htm',\n",
    "        'May': 'http://wayback.archive-it.org/7993/20170110235327/http://www.fda.gov/Safety/MedWatch/SafetyInformation/ucm258300.htm',\n",
    "        'Jun': 'http://wayback.archive-it.org/7993/20170110235327/http://www.fda.gov/Safety/MedWatch/SafetyInformation/ucm261325.htm',\n",
    "        'Jul': 'http://wayback.archive-it.org/7993/20170110235327/http://www.fda.gov/Safety/MedWatch/SafetyInformation/ucm266122.htm',\n",
    "        'Aug': 'http://wayback.archive-it.org/7993/20170110235327/http://www.fda.gov/Safety/MedWatch/SafetyInformation/ucm268289.htm',\n",
    "        'Sep': 'http://wayback.archive-it.org/7993/20170110235327/http://www.fda.gov/Safety/MedWatch/SafetyInformation/ucm274280.htm',\n",
    "        'Oct': 'http://wayback.archive-it.org/7993/20170110235327/http://www.fda.gov/Safety/MedWatch/SafetyInformation/ucm279222.htm',\n",
    "        'Nov': 'http://wayback.archive-it.org/7993/20170110235327/http://www.fda.gov/Safety/MedWatch/SafetyInformation/ucm282966.htm',\n",
    "        'Dec': 'http://wayback.archive-it.org/7993/20170110235327/http://www.fda.gov/Safety/MedWatch/SafetyInformation/ucm284231.htm',\n",
    "    },\n",
    "    '2010': {\n",
    "        'Jan': 'http://wayback.archive-it.org/7993/20170110235327/http://www.fda.gov/Safety/MedWatch/SafetyInformation/ucm200254.htm',\n",
    "        'Feb': 'http://wayback.archive-it.org/7993/20170110235327/http://www.fda.gov/Safety/MedWatch/SafetyInformation/ucm202912.htm',\n",
    "        'Mar': 'http://wayback.archive-it.org/7993/20170110235327/http://www.fda.gov/Safety/MedWatch/SafetyInformation/ucm207384.htm',\n",
    "        'Apr': 'http://wayback.archive-it.org/7993/20170110235327/http://www.fda.gov/Safety/MedWatch/SafetyInformation/ucm209165.htm',\n",
    "        'May': 'http://wayback.archive-it.org/7993/20170110235327/http://www.fda.gov/Safety/MedWatch/SafetyInformation/ucm214902.htm',\n",
    "        'Jun': 'http://wayback.archive-it.org/7993/20170110235327/http://www.fda.gov/Safety/MedWatch/SafetyInformation/ucm218813.htm',\n",
    "        'Jul': 'http://wayback.archive-it.org/7993/20170110235327/http://www.fda.gov/Safety/MedWatch/SafetyInformation/ucm220128.htm',\n",
    "        'Aug': 'http://wayback.archive-it.org/7993/20170110235327/http://www.fda.gov/Safety/MedWatch/SafetyInformation/ucm225299.htm',\n",
    "        'Sep': 'http://wayback.archive-it.org/7993/20170110235327/http://www.fda.gov/Safety/MedWatch/SafetyInformation/ucm228392.htm',\n",
    "        'Oct': 'http://wayback.archive-it.org/7993/20170110235327/http://www.fda.gov/Safety/MedWatch/SafetyInformation/ucm230721.htm',\n",
    "        'Nov': 'http://wayback.archive-it.org/7993/20170110235327/http://www.fda.gov/Safety/MedWatch/SafetyInformation/ucm233345.htm',\n",
    "        'Dec': 'http://wayback.archive-it.org/7993/20170110235327/http://www.fda.gov/Safety/MedWatch/SafetyInformation/ucm235838.htm',\n",
    "    },\n",
    "    '2009': {\n",
    "        'Jan': 'http://wayback.archive-it.org/7993/20170110235327/http://www.fda.gov/Safety/MedWatch/SafetyInformation/Safety-RelatedDrugLabelingChanges/ucm094574.htm',\n",
    "        'Feb': 'http://wayback.archive-it.org/7993/20170110235327/http://www.fda.gov/Safety/MedWatch/SafetyInformation/Safety-RelatedDrugLabelingChanges/ucm132995.htm',\n",
    "        'Mar': 'http://wayback.archive-it.org/7993/20170110235327/http://www.fda.gov/Safety/MedWatch/SafetyInformation/Safety-RelatedDrugLabelingChanges/ucm133470.htm',\n",
    "        'Apr': 'http://wayback.archive-it.org/7993/20170110235327/http://www.fda.gov/Safety/MedWatch/SafetyInformation/ucm153519.htm',\n",
    "        'May': 'http://wayback.archive-it.org/7993/20170110235327/http://www.fda.gov/Safety/MedWatch/SafetyInformation/ucm153798.htm',\n",
    "        'Jun': 'http://wayback.archive-it.org/7993/20170110235327/http://www.fda.gov/Safety/MedWatch/SafetyInformation/ucm153825.htm',\n",
    "        'Jul': 'http://wayback.archive-it.org/7993/20170110235327/http://www.fda.gov/Safety/MedWatch/SafetyInformation/ucm172740.htm',\n",
    "        'Aug': 'http://wayback.archive-it.org/7993/20170110235327/http://www.fda.gov/Safety/MedWatch/SafetyInformation/ucm181141.htm',\n",
    "        'Sep': 'http://wayback.archive-it.org/7993/20170110235327/http://www.fda.gov/Safety/MedWatch/SafetyInformation/ucm183107.htm',\n",
    "        'Oct': 'http://wayback.archive-it.org/7993/20170110235327/http://www.fda.gov/Safety/MedWatch/SafetyInformation/ucm187420.htm',\n",
    "        'Nov': 'http://wayback.archive-it.org/7993/20170110235327/http://www.fda.gov/Safety/MedWatch/SafetyInformation/ucm191946.htm',\n",
    "        'Dec': 'http://wayback.archive-it.org/7993/20170110235327/http://www.fda.gov/Safety/MedWatch/SafetyInformation/ucm194965.htm',\n",
    "    },\n",
    "    '2008': {\n",
    "        'Jan': 'http://wayback.archive-it.org/7993/20170110235327/http://www.fda.gov/Safety/MedWatch/SafetyInformation/Safety-RelatedDrugLabelingChanges/ucm094577.htm',\n",
    "        'Feb': 'http://wayback.archive-it.org/7993/20170110235327/http://www.fda.gov/Safety/MedWatch/SafetyInformation/Safety-RelatedDrugLabelingChanges/ucm103512.htm',\n",
    "        'Mar': 'http://wayback.archive-it.org/7993/20170110235327/http://www.fda.gov/Safety/MedWatch/SafetyInformation/Safety-RelatedDrugLabelingChanges/ucm103518.htm',\n",
    "        'Apr': 'http://wayback.archive-it.org/7993/20170110235327/http://www.fda.gov/Safety/MedWatch/SafetyInformation/Safety-RelatedDrugLabelingChanges/ucm105784.htm',\n",
    "        'May': 'http://wayback.archive-it.org/7993/20170110235327/http://www.fda.gov/Safety/MedWatch/SafetyInformation/Safety-RelatedDrugLabelingChanges/ucm105786.htm',\n",
    "        'Jun': 'http://wayback.archive-it.org/7993/20170110235327/http://www.fda.gov/Safety/MedWatch/SafetyInformation/Safety-RelatedDrugLabelingChanges/ucm105789.htm',\n",
    "        'Jul': 'http://wayback.archive-it.org/7993/20170110235327/http://www.fda.gov/Safety/MedWatch/SafetyInformation/Safety-RelatedDrugLabelingChanges/ucm105792.htm',\n",
    "        'Aug': 'http://wayback.archive-it.org/7993/20170110235327/http://www.fda.gov/Safety/MedWatch/SafetyInformation/Safety-RelatedDrugLabelingChanges/ucm105793.htm',\n",
    "        'Sep': 'http://wayback.archive-it.org/7993/20170110235327/http://www.fda.gov/Safety/MedWatch/SafetyInformation/Safety-RelatedDrugLabelingChanges/ucm105795.htm',\n",
    "        'Oct': 'http://wayback.archive-it.org/7993/20170110235327/http://www.fda.gov/Safety/MedWatch/SafetyInformation/Safety-RelatedDrugLabelingChanges/ucm105797.htm',\n",
    "        'Nov': 'http://wayback.archive-it.org/7993/20170110235327/http://www.fda.gov/Safety/MedWatch/SafetyInformation/Safety-RelatedDrugLabelingChanges/ucm105799.htm',\n",
    "        'Dec': 'http://wayback.archive-it.org/7993/20170110235327/http://www.fda.gov/Safety/MedWatch/SafetyInformation/ucm123731.htm',\n",
    "    }\n",
    "}\n",
    "\n",
    "\n",
    "# Iterate over each year, month, and URL, fetch the table, and save it to the appropriate folder\n",
    "for year, months in tqdm(urls.items(), desc=\"Processing years\"):\n",
    "    for month, url in tqdm(months.items(), desc=f\"Processing {year} months\", leave=False):\n",
    "        print(f\"Processing {year} {month}...\")\n",
    "        table_df = fetch_table_from_url(url)\n",
    "        \n",
    "        if not table_df.empty:\n",
    "            save_table_to_csv(table_df, year, month)\n",
    "        else:\n",
    "            print(f\"No data found for {year} {month}.\")\n",
    "\n",
    "print(\"All tables processed and saved.\")\n"
   ]
  },
  {
   "cell_type": "code",
   "execution_count": 12,
   "metadata": {},
   "outputs": [
    {
     "name": "stdout",
     "output_type": "stream",
     "text": [
      "Processing 2011 Feb...\n",
      "Table saved for 2011 Feb in '2011/Feb/Feb_fda_table.csv'\n",
      "All tables processed and saved.\n"
     ]
    }
   ],
   "source": [
    "import os\n",
    "import requests\n",
    "from bs4 import BeautifulSoup\n",
    "import pandas as pd\n",
    "\n",
    "# Function to fetch the table from a specific URL\n",
    "def fetch_table_from_url(url):\n",
    "    # Send GET request to fetch the page\n",
    "    response = requests.get(url)\n",
    "    \n",
    "    # Parse the HTML using BeautifulSoup\n",
    "    soup = BeautifulSoup(response.content, 'html.parser')\n",
    "    \n",
    "    # Attempt to find the table by a specific attribute or header content\n",
    "    table = soup.find('table', {'height': '1289'})  # Adjust this to match a unique attribute or use a method to check headers\n",
    "    if not table:\n",
    "        table = soup.find('table')  # Fallback to the first table if specific criteria fail\n",
    "        if not table:\n",
    "            print(f\"No table found on the page: {url}\")\n",
    "            return pd.DataFrame()\n",
    "    \n",
    "    # Extract the rows from the table\n",
    "    rows = table.find_all('tr')\n",
    "    \n",
    "    data = []\n",
    "    \n",
    "    # Loop through the rows and extract columns, skipping empty or header rows\n",
    "    for row in rows:\n",
    "        cols = row.find_all('td')\n",
    "        if len(cols) == 0 or 'DRUG NAME' in row.get_text():  # Skip header or empty rows\n",
    "            continue\n",
    "        \n",
    "        # Extract drug name and link\n",
    "        drug_name_elem = cols[0].find('a')\n",
    "        if drug_name_elem:\n",
    "            drug_name = drug_name_elem.text.strip()\n",
    "        else:\n",
    "            drug_name = cols[0].text.strip()\n",
    "        \n",
    "        # Extract the other columns (BW, C, W, P, AR, PPI/MG)\n",
    "        bw = cols[1].text.strip() if len(cols) > 1 else ''\n",
    "        c = cols[2].text.strip() if len(cols) > 2 else ''\n",
    "        w = cols[3].text.strip() if len(cols) > 3 else ''\n",
    "        p = cols[4].text.strip() if len(cols) > 4 else ''\n",
    "        ar = cols[5].text.strip() if len(cols) > 5 else ''\n",
    "        ppi_mg = cols[6].text.strip() if len(cols) > 6 else ''\n",
    "        \n",
    "        # Append data to the list\n",
    "        data.append([drug_name, bw, c, w, p, ar, ppi_mg])\n",
    "    \n",
    "    # Return the data in DataFrame format\n",
    "    columns = ['Drug Name', 'BW', 'C', 'W', 'P', 'AR', 'PPI/MG']\n",
    "    df = pd.DataFrame(data, columns=columns)\n",
    "    \n",
    "    return df\n",
    "\n",
    "# Function to save the extracted table to CSV in the appropriate directory\n",
    "def save_table_to_csv(df, year, month):\n",
    "    # Create base directory for the year\n",
    "    base_dir = str(year)\n",
    "    if not os.path.exists(base_dir):\n",
    "        os.makedirs(base_dir)\n",
    "    \n",
    "    # Create directory for the month\n",
    "    month_dir = os.path.join(base_dir, month)\n",
    "    if not os.path.exists(month_dir):\n",
    "        os.makedirs(month_dir)\n",
    "    \n",
    "    # Define the path for the CSV file\n",
    "    csv_path = os.path.join(month_dir, f'{month}_fda_table.csv')\n",
    "    \n",
    "    # Save the DataFrame as CSV\n",
    "    df.to_csv(csv_path, index=False)\n",
    "    print(f\"Table saved for {year} {month} in '{csv_path}'\")\n",
    "\n",
    "# Define the URLs for multiple years and months\n",
    "urls = {\n",
    "    '2011': {\n",
    "        'Feb': 'http://wayback.archive-it.org/7993/20170110235327/http://www.fda.gov/Safety/MedWatch/SafetyInformation/ucm242998.htm',\n",
    "    },\n",
    "}\n",
    "\n",
    "# Iterate over each year, month, and URL, fetch the table, and save it to the appropriate folder\n",
    "for year, months in urls.items():\n",
    "    for month, url in months.items():\n",
    "        print(f\"Processing {year} {month}...\")\n",
    "        table_df = fetch_table_from_url(url)\n",
    "        \n",
    "        if not table_df.empty:\n",
    "            save_table_to_csv(table_df, year, month)\n",
    "        else:\n",
    "            print(f\"No data found for {year} {month}.\")\n",
    "\n",
    "print(\"All tables processed and saved.\")\n"
   ]
  },
  {
   "cell_type": "code",
   "execution_count": 14,
   "metadata": {},
   "outputs": [
    {
     "name": "stdout",
     "output_type": "stream",
     "text": [
      "Downloading http://wayback.archive-it.org/7993/20170110235327/http://www.fda.gov/Safety/MedWatch/SafetyInformation/ucm485289.htm to webpages/2016_Jan...\n"
     ]
    },
    {
     "name": "stderr",
     "output_type": "stream",
     "text": [
      "--2024-10-22 16:16:16--  http://wayback.archive-it.org/7993/20170110235327/http://www.fda.gov/Safety/MedWatch/SafetyInformation/ucm485289.htm\n",
      "Resolving wayback.archive-it.org (wayback.archive-it.org)... 207.241.225.8, 207.241.232.8\n",
      "Connecting to wayback.archive-it.org (wayback.archive-it.org)|207.241.225.8|:80... connected.\n",
      "HTTP request sent, awaiting response... 302 FOUND\n",
      "Location: http://wayback.archive-it.org/7993/20170111133123/http://www.fda.gov/Safety/MedWatch/SafetyInformation/ucm485289.htm [following]\n",
      "--2024-10-22 16:16:16--  http://wayback.archive-it.org/7993/20170111133123/http://www.fda.gov/Safety/MedWatch/SafetyInformation/ucm485289.htm\n",
      "Reusing existing connection to wayback.archive-it.org:80.\n",
      "HTTP request sent, awaiting response... 200 OK\n",
      "Length: 68607 (67K) [text/html]\n",
      "Saving to: ‘webpages/2016_Jan/wayback.archive-it.org/7993/20170110235327/http:/www.fda.gov/Safety/MedWatch/SafetyInformation/ucm485289.htm’\n",
      "\n",
      "     0K .......... .......... .......... .......... .......... 74% 66.8K 0s\n",
      "    50K .......... ......                                     100% 68.6K=1.0s\n",
      "\n",
      "2024-10-22 16:16:18 (67.3 KB/s) - ‘webpages/2016_Jan/wayback.archive-it.org/7993/20170110235327/http:/www.fda.gov/Safety/MedWatch/SafetyInformation/ucm485289.htm’ saved [68607/68607]\n",
      "\n",
      "FINISHED --2024-10-22 16:16:18--\n",
      "Total wall clock time: 2.0s\n",
      "Downloaded: 1 files, 67K in 1.0s (67.3 KB/s)\n",
      "Converting links in webpages/2016_Jan/wayback.archive-it.org/7993/20170110235327/http:/www.fda.gov/Safety/MedWatch/SafetyInformation/ucm485289.htm... 9-126\n",
      "Converted links in 1 files in 0.003 seconds.\n",
      "--2024-10-22 16:16:18--  http://wayback.archive-it.org/7993/20170110235327/http://www.fda.gov/Safety/MedWatch/SafetyInformation/ucm489329.htm\n",
      "Resolving wayback.archive-it.org (wayback.archive-it.org)... 207.241.225.8, 207.241.232.8\n",
      "Connecting to wayback.archive-it.org (wayback.archive-it.org)|207.241.225.8|:80... "
     ]
    },
    {
     "name": "stdout",
     "output_type": "stream",
     "text": [
      "Downloading http://wayback.archive-it.org/7993/20170110235327/http://www.fda.gov/Safety/MedWatch/SafetyInformation/ucm489329.htm to webpages/2016_Feb...\n"
     ]
    },
    {
     "name": "stderr",
     "output_type": "stream",
     "text": [
      "connected.\n",
      "HTTP request sent, awaiting response... 302 FOUND\n",
      "Location: http://wayback.archive-it.org/7993/20170111133127/http://www.fda.gov/Safety/MedWatch/SafetyInformation/ucm489329.htm [following]\n",
      "--2024-10-22 16:16:18--  http://wayback.archive-it.org/7993/20170111133127/http://www.fda.gov/Safety/MedWatch/SafetyInformation/ucm489329.htm\n",
      "Reusing existing connection to wayback.archive-it.org:80.\n",
      "HTTP request sent, awaiting response... 200 OK\n",
      "Length: 57665 (56K) [text/html]\n",
      "Saving to: ‘webpages/2016_Feb/wayback.archive-it.org/7993/20170110235327/http:/www.fda.gov/Safety/MedWatch/SafetyInformation/ucm489329.htm’\n",
      "\n",
      "     0K .......... .......... .......... .......... .......... 88% 70.0K 0s\n",
      "    50K ......                                                100%  144K=0.8s\n",
      "\n",
      "2024-10-22 16:16:20 (74.3 KB/s) - ‘webpages/2016_Feb/wayback.archive-it.org/7993/20170110235327/http:/www.fda.gov/Safety/MedWatch/SafetyInformation/ucm489329.htm’ saved [57665/57665]\n",
      "\n",
      "FINISHED --2024-10-22 16:16:20--\n",
      "Total wall clock time: 1.8s\n",
      "Downloaded: 1 files, 56K in 0.8s (74.3 KB/s)\n",
      "Converting links in webpages/2016_Feb/wayback.archive-it.org/7993/20170110235327/http:/www.fda.gov/Safety/MedWatch/SafetyInformation/ucm489329.htm... 9-119\n",
      "Converted links in 1 files in 0.003 seconds.\n",
      "--2024-10-22 16:16:20--  http://wayback.archive-it.org/7993/20170110235327/http://www.fda.gov/Safety/MedWatch/SafetyInformation/ucm494834.htm\n",
      "Resolving wayback.archive-it.org (wayback.archive-it.org)... 207.241.225.8, 207.241.232.8\n",
      "Connecting to wayback.archive-it.org (wayback.archive-it.org)|207.241.225.8|:80... "
     ]
    },
    {
     "name": "stdout",
     "output_type": "stream",
     "text": [
      "Downloading http://wayback.archive-it.org/7993/20170110235327/http://www.fda.gov/Safety/MedWatch/SafetyInformation/ucm494834.htm to webpages/2016_Mar...\n"
     ]
    },
    {
     "name": "stderr",
     "output_type": "stream",
     "text": [
      "connected.\n",
      "HTTP request sent, awaiting response... 302 FOUND\n",
      "Location: http://wayback.archive-it.org/7993/20170111133129/http://www.fda.gov/Safety/MedWatch/SafetyInformation/ucm494834.htm [following]\n",
      "--2024-10-22 16:16:20--  http://wayback.archive-it.org/7993/20170111133129/http://www.fda.gov/Safety/MedWatch/SafetyInformation/ucm494834.htm\n",
      "Reusing existing connection to wayback.archive-it.org:80.\n",
      "HTTP request sent, awaiting response... 200 OK\n",
      "Length: 65234 (64K) [text/html]\n",
      "Saving to: ‘webpages/2016_Mar/wayback.archive-it.org/7993/20170110235327/http:/www.fda.gov/Safety/MedWatch/SafetyInformation/ucm494834.htm’\n",
      "\n",
      "     0K .......... .......... .......... .......... .......... 78% 71.0K 0s\n",
      "    50K .......... ...                                        100% 58.4K=0.9s\n",
      "\n",
      "2024-10-22 16:16:21 (67.8 KB/s) - ‘webpages/2016_Mar/wayback.archive-it.org/7993/20170110235327/http:/www.fda.gov/Safety/MedWatch/SafetyInformation/ucm494834.htm’ saved [65234/65234]\n",
      "\n",
      "FINISHED --2024-10-22 16:16:21--\n",
      "Total wall clock time: 1.8s\n",
      "Downloaded: 1 files, 64K in 0.9s (67.8 KB/s)\n",
      "Converting links in webpages/2016_Mar/wayback.archive-it.org/7993/20170110235327/http:/www.fda.gov/Safety/MedWatch/SafetyInformation/ucm494834.htm... 9-133\n",
      "Converted links in 1 files in 0.003 seconds.\n",
      "--2024-10-22 16:16:21--  http://wayback.archive-it.org/7993/20170110235327/http://www.fda.gov/Safety/MedWatch/SafetyInformation/ucm499575.htm\n",
      "Resolving wayback.archive-it.org (wayback.archive-it.org)... 207.241.225.8, 207.241.232.8\n",
      "Connecting to wayback.archive-it.org (wayback.archive-it.org)|207.241.225.8|:80... "
     ]
    },
    {
     "name": "stdout",
     "output_type": "stream",
     "text": [
      "Downloading http://wayback.archive-it.org/7993/20170110235327/http://www.fda.gov/Safety/MedWatch/SafetyInformation/ucm499575.htm to webpages/2016_Apr...\n"
     ]
    },
    {
     "name": "stderr",
     "output_type": "stream",
     "text": [
      "connected.\n",
      "HTTP request sent, awaiting response... 302 FOUND\n",
      "Location: http://wayback.archive-it.org/7993/20170111133132/http://www.fda.gov/Safety/MedWatch/SafetyInformation/ucm499575.htm [following]\n",
      "--2024-10-22 16:16:22--  http://wayback.archive-it.org/7993/20170111133132/http://www.fda.gov/Safety/MedWatch/SafetyInformation/ucm499575.htm\n",
      "Reusing existing connection to wayback.archive-it.org:80.\n",
      "HTTP request sent, awaiting response... 200 OK\n",
      "Length: 62830 (61K) [text/html]\n",
      "Saving to: ‘webpages/2016_Apr/wayback.archive-it.org/7993/20170110235327/http:/www.fda.gov/Safety/MedWatch/SafetyInformation/ucm499575.htm’\n",
      "\n",
      "     0K .......... .......... .......... .......... .......... 81% 39.1K 0s\n",
      "    50K .......... .                                          100% 7.18M=1.3s\n",
      "\n",
      "2024-10-22 16:16:24 (47.9 KB/s) - ‘webpages/2016_Apr/wayback.archive-it.org/7993/20170110235327/http:/www.fda.gov/Safety/MedWatch/SafetyInformation/ucm499575.htm’ saved [62830/62830]\n",
      "\n",
      "FINISHED --2024-10-22 16:16:24--\n",
      "Total wall clock time: 2.3s\n",
      "Downloaded: 1 files, 61K in 1.3s (47.9 KB/s)\n",
      "Converting links in webpages/2016_Apr/wayback.archive-it.org/7993/20170110235327/http:/www.fda.gov/Safety/MedWatch/SafetyInformation/ucm499575.htm... 9-127\n",
      "Converted links in 1 files in 0.003 seconds.\n",
      "--2024-10-22 16:16:24--  http://wayback.archive-it.org/7993/20170110235327/http://www.fda.gov/Safety/MedWatch/SafetyInformation/ucm505586.htm\n",
      "Resolving wayback.archive-it.org (wayback.archive-it.org)... 207.241.225.8, 207.241.232.8\n",
      "Connecting to wayback.archive-it.org (wayback.archive-it.org)|207.241.225.8|:80... "
     ]
    },
    {
     "name": "stdout",
     "output_type": "stream",
     "text": [
      "Downloading http://wayback.archive-it.org/7993/20170110235327/http://www.fda.gov/Safety/MedWatch/SafetyInformation/ucm505586.htm to webpages/2016_May...\n"
     ]
    },
    {
     "name": "stderr",
     "output_type": "stream",
     "text": [
      "connected.\n",
      "HTTP request sent, awaiting response... 302 FOUND\n",
      "Location: http://wayback.archive-it.org/7993/20170111133135/http://www.fda.gov/Safety/MedWatch/SafetyInformation/ucm505586.htm [following]\n",
      "--2024-10-22 16:16:24--  http://wayback.archive-it.org/7993/20170111133135/http://www.fda.gov/Safety/MedWatch/SafetyInformation/ucm505586.htm\n",
      "Reusing existing connection to wayback.archive-it.org:80.\n",
      "HTTP request sent, awaiting response... 200 OK\n",
      "Length: 99360 (97K) [text/html]\n",
      "Saving to: ‘webpages/2016_May/wayback.archive-it.org/7993/20170110235327/http:/www.fda.gov/Safety/MedWatch/SafetyInformation/ucm505586.htm’\n",
      "\n",
      "     0K .......... .......... .......... .......... .......... 51% 70.3K 1s\n",
      "    50K .......... .......... .......... .......... .......   100% 66.3K=1.4s\n",
      "\n",
      "2024-10-22 16:16:26 (68.3 KB/s) - ‘webpages/2016_May/wayback.archive-it.org/7993/20170110235327/http:/www.fda.gov/Safety/MedWatch/SafetyInformation/ucm505586.htm’ saved [99360/99360]\n",
      "\n",
      "FINISHED --2024-10-22 16:16:26--\n",
      "Total wall clock time: 2.4s\n",
      "Downloaded: 1 files, 97K in 1.4s (68.3 KB/s)\n",
      "Converting links in webpages/2016_May/wayback.archive-it.org/7993/20170110235327/http:/www.fda.gov/Safety/MedWatch/SafetyInformation/ucm505586.htm... 9-184\n",
      "Converted links in 1 files in 0.004 seconds.\n",
      "--2024-10-22 16:16:26--  http://wayback.archive-it.org/7993/20170110235327/http://www.fda.gov/Safety/MedWatch/SafetyInformation/ucm509048.htm\n",
      "Resolving wayback.archive-it.org (wayback.archive-it.org)... 207.241.225.8, 207.241.232.8\n",
      "Connecting to wayback.archive-it.org (wayback.archive-it.org)|207.241.225.8|:80... "
     ]
    },
    {
     "name": "stdout",
     "output_type": "stream",
     "text": [
      "Downloading http://wayback.archive-it.org/7993/20170110235327/http://www.fda.gov/Safety/MedWatch/SafetyInformation/ucm509048.htm to webpages/2016_Jun...\n"
     ]
    },
    {
     "name": "stderr",
     "output_type": "stream",
     "text": [
      "connected.\n",
      "HTTP request sent, awaiting response... 302 FOUND\n",
      "Location: http://wayback.archive-it.org/7993/20170111133136/http://www.fda.gov/Safety/MedWatch/SafetyInformation/ucm509048.htm [following]\n",
      "--2024-10-22 16:16:27--  http://wayback.archive-it.org/7993/20170111133136/http://www.fda.gov/Safety/MedWatch/SafetyInformation/ucm509048.htm\n",
      "Reusing existing connection to wayback.archive-it.org:80.\n",
      "HTTP request sent, awaiting response... 200 OK\n",
      "Length: 70054 (68K) [text/html]\n",
      "Saving to: ‘webpages/2016_Jun/wayback.archive-it.org/7993/20170110235327/http:/www.fda.gov/Safety/MedWatch/SafetyInformation/ucm509048.htm’\n",
      "\n",
      "     0K .......... .......... .......... .......... .......... 73% 71.2K 0s\n",
      "    50K .......... ........                                   100% 78.5K=0.9s\n",
      "\n",
      "2024-10-22 16:16:28 (73.0 KB/s) - ‘webpages/2016_Jun/wayback.archive-it.org/7993/20170110235327/http:/www.fda.gov/Safety/MedWatch/SafetyInformation/ucm509048.htm’ saved [70054/70054]\n",
      "\n",
      "FINISHED --2024-10-22 16:16:28--\n",
      "Total wall clock time: 1.8s\n",
      "Downloaded: 1 files, 68K in 0.9s (73.0 KB/s)\n",
      "Converting links in webpages/2016_Jun/wayback.archive-it.org/7993/20170110235327/http:/www.fda.gov/Safety/MedWatch/SafetyInformation/ucm509048.htm... 9-140\n",
      "Converted links in 1 files in 0.003 seconds.\n",
      "--2024-10-22 16:16:28--  http://wayback.archive-it.org/7993/20170110235327/http://www.fda.gov/Safety/MedWatch/SafetyInformation/ucm514705.htm\n",
      "Resolving wayback.archive-it.org (wayback.archive-it.org)... 207.241.225.8, 207.241.232.8\n",
      "Connecting to wayback.archive-it.org (wayback.archive-it.org)|207.241.225.8|:80... "
     ]
    },
    {
     "name": "stdout",
     "output_type": "stream",
     "text": [
      "Downloading http://wayback.archive-it.org/7993/20170110235327/http://www.fda.gov/Safety/MedWatch/SafetyInformation/ucm514705.htm to webpages/2016_Jul...\n"
     ]
    },
    {
     "name": "stderr",
     "output_type": "stream",
     "text": [
      "connected.\n",
      "HTTP request sent, awaiting response... 302 FOUND\n",
      "Location: http://wayback.archive-it.org/7993/20170111133139/http://www.fda.gov/Safety/MedWatch/SafetyInformation/ucm514705.htm [following]\n",
      "--2024-10-22 16:16:28--  http://wayback.archive-it.org/7993/20170111133139/http://www.fda.gov/Safety/MedWatch/SafetyInformation/ucm514705.htm\n",
      "Reusing existing connection to wayback.archive-it.org:80.\n",
      "HTTP request sent, awaiting response... 200 OK\n",
      "Length: 76002 (74K) [text/html]\n",
      "Saving to: ‘webpages/2016_Jul/wayback.archive-it.org/7993/20170110235327/http:/www.fda.gov/Safety/MedWatch/SafetyInformation/ucm514705.htm’\n",
      "\n",
      "     0K .......... .......... .......... .......... .......... 67% 71.3K 0s\n",
      "    50K .......... .......... ....                            100% 52.0K=1.2s\n",
      "\n",
      "2024-10-22 16:16:30 (63.6 KB/s) - ‘webpages/2016_Jul/wayback.archive-it.org/7993/20170110235327/http:/www.fda.gov/Safety/MedWatch/SafetyInformation/ucm514705.htm’ saved [76002/76002]\n",
      "\n",
      "FINISHED --2024-10-22 16:16:30--\n",
      "Total wall clock time: 2.1s\n",
      "Downloaded: 1 files, 74K in 1.2s (63.6 KB/s)\n",
      "Converting links in webpages/2016_Jul/wayback.archive-it.org/7993/20170110235327/http:/www.fda.gov/Safety/MedWatch/SafetyInformation/ucm514705.htm... 9-150\n",
      "Converted links in 1 files in 0.003 seconds.\n",
      "--2024-10-22 16:16:30--  http://wayback.archive-it.org/7993/20170110235327/http://www.fda.gov/Safety/MedWatch/SafetyInformation/ucm433045.htm\n",
      "Resolving wayback.archive-it.org (wayback.archive-it.org)... 207.241.225.8, 207.241.232.8\n",
      "Connecting to wayback.archive-it.org (wayback.archive-it.org)|207.241.225.8|:80... "
     ]
    },
    {
     "name": "stdout",
     "output_type": "stream",
     "text": [
      "Downloading http://wayback.archive-it.org/7993/20170110235327/http://www.fda.gov/Safety/MedWatch/SafetyInformation/ucm433045.htm to webpages/2015_Jan...\n"
     ]
    },
    {
     "name": "stderr",
     "output_type": "stream",
     "text": [
      "connected.\n",
      "HTTP request sent, awaiting response... 302 FOUND\n",
      "Location: http://wayback.archive-it.org/7993/20170111133143/http://www.fda.gov/Safety/MedWatch/SafetyInformation/ucm433045.htm [following]\n",
      "--2024-10-22 16:16:31--  http://wayback.archive-it.org/7993/20170111133143/http://www.fda.gov/Safety/MedWatch/SafetyInformation/ucm433045.htm\n",
      "Reusing existing connection to wayback.archive-it.org:80.\n",
      "HTTP request sent, awaiting response... 200 OK\n",
      "Length: 60200 (59K) [text/html]\n",
      "Saving to: ‘webpages/2015_Jan/wayback.archive-it.org/7993/20170110235327/http:/www.fda.gov/Safety/MedWatch/SafetyInformation/ucm433045.htm’\n",
      "\n",
      "     0K .......... .......... .......... .......... .......... 85% 70.6K 0s\n",
      "    50K ........                                              100% 37.5K=0.9s\n",
      "\n",
      "2024-10-22 16:16:32 (62.4 KB/s) - ‘webpages/2015_Jan/wayback.archive-it.org/7993/20170110235327/http:/www.fda.gov/Safety/MedWatch/SafetyInformation/ucm433045.htm’ saved [60200/60200]\n",
      "\n",
      "FINISHED --2024-10-22 16:16:32--\n",
      "Total wall clock time: 1.9s\n",
      "Downloaded: 1 files, 59K in 0.9s (62.4 KB/s)\n",
      "Converting links in webpages/2015_Jan/wayback.archive-it.org/7993/20170110235327/http:/www.fda.gov/Safety/MedWatch/SafetyInformation/ucm433045.htm... 9-123\n",
      "Converted links in 1 files in 0.002 seconds.\n",
      "--2024-10-22 16:16:32--  http://wayback.archive-it.org/7993/20170110235327/http://www.fda.gov/Safety/MedWatch/SafetyInformation/ucm436827.htm\n",
      "Resolving wayback.archive-it.org (wayback.archive-it.org)... 207.241.225.8, 207.241.232.8\n",
      "Connecting to wayback.archive-it.org (wayback.archive-it.org)|207.241.225.8|:80... "
     ]
    },
    {
     "name": "stdout",
     "output_type": "stream",
     "text": [
      "Downloading http://wayback.archive-it.org/7993/20170110235327/http://www.fda.gov/Safety/MedWatch/SafetyInformation/ucm436827.htm to webpages/2015_Feb...\n"
     ]
    },
    {
     "name": "stderr",
     "output_type": "stream",
     "text": [
      "connected.\n",
      "HTTP request sent, awaiting response... 302 FOUND\n",
      "Location: http://wayback.archive-it.org/7993/20170111133145/http://www.fda.gov/Safety/MedWatch/SafetyInformation/ucm436827.htm [following]\n",
      "--2024-10-22 16:16:33--  http://wayback.archive-it.org/7993/20170111133145/http://www.fda.gov/Safety/MedWatch/SafetyInformation/ucm436827.htm\n",
      "Reusing existing connection to wayback.archive-it.org:80.\n",
      "HTTP request sent, awaiting response... 200 OK\n",
      "Length: 71720 (70K) [text/html]\n",
      "Saving to: ‘webpages/2015_Feb/wayback.archive-it.org/7993/20170110235327/http:/www.fda.gov/Safety/MedWatch/SafetyInformation/ucm436827.htm’\n",
      "\n",
      "     0K .......... .......... .......... .......... .......... 71% 64.8K 0s\n",
      "    50K .......... ..........                                 100% 78.1K=1.0s\n",
      "\n",
      "2024-10-22 16:16:34 (68.1 KB/s) - ‘webpages/2015_Feb/wayback.archive-it.org/7993/20170110235327/http:/www.fda.gov/Safety/MedWatch/SafetyInformation/ucm436827.htm’ saved [71720/71720]\n",
      "\n",
      "FINISHED --2024-10-22 16:16:34--\n",
      "Total wall clock time: 2.1s\n",
      "Downloaded: 1 files, 70K in 1.0s (68.1 KB/s)\n",
      "Converting links in webpages/2015_Feb/wayback.archive-it.org/7993/20170110235327/http:/www.fda.gov/Safety/MedWatch/SafetyInformation/ucm436827.htm... 9-144\n",
      "Converted links in 1 files in 0.003 seconds.\n",
      "--2024-10-22 16:16:34--  http://wayback.archive-it.org/7993/20170110235327/http://www.fda.gov/Safety/MedWatch/SafetyInformation/ucm441224.htm\n",
      "Resolving wayback.archive-it.org (wayback.archive-it.org)... 207.241.225.8, 207.241.232.8\n",
      "Connecting to wayback.archive-it.org (wayback.archive-it.org)|207.241.225.8|:80... "
     ]
    },
    {
     "name": "stdout",
     "output_type": "stream",
     "text": [
      "Downloading http://wayback.archive-it.org/7993/20170110235327/http://www.fda.gov/Safety/MedWatch/SafetyInformation/ucm441224.htm to webpages/2015_Mar...\n"
     ]
    },
    {
     "name": "stderr",
     "output_type": "stream",
     "text": [
      "connected.\n",
      "HTTP request sent, awaiting response... 302 FOUND\n",
      "Location: http://wayback.archive-it.org/7993/20170111133148/http://www.fda.gov/Safety/MedWatch/SafetyInformation/ucm441224.htm [following]\n",
      "--2024-10-22 16:16:35--  http://wayback.archive-it.org/7993/20170111133148/http://www.fda.gov/Safety/MedWatch/SafetyInformation/ucm441224.htm\n",
      "Reusing existing connection to wayback.archive-it.org:80.\n",
      "HTTP request sent, awaiting response... 200 OK\n",
      "Length: 85425 (83K) [text/html]\n",
      "Saving to: ‘webpages/2015_Mar/wayback.archive-it.org/7993/20170110235327/http:/www.fda.gov/Safety/MedWatch/SafetyInformation/ucm441224.htm’\n",
      "\n",
      "     0K .......... .......... .......... .......... .......... 59% 65.0K 1s\n",
      "    50K .......... .......... .......... ...                  100% 65.2K=1.3s\n",
      "\n",
      "2024-10-22 16:16:36 (65.1 KB/s) - ‘webpages/2015_Mar/wayback.archive-it.org/7993/20170110235327/http:/www.fda.gov/Safety/MedWatch/SafetyInformation/ucm441224.htm’ saved [85425/85425]\n",
      "\n",
      "FINISHED --2024-10-22 16:16:36--\n",
      "Total wall clock time: 2.3s\n",
      "Downloaded: 1 files, 83K in 1.3s (65.1 KB/s)\n",
      "Converting links in webpages/2015_Mar/wayback.archive-it.org/7993/20170110235327/http:/www.fda.gov/Safety/MedWatch/SafetyInformation/ucm441224.htm... 9-165\n",
      "Converted links in 1 files in 0.003 seconds.\n",
      "--2024-10-22 16:16:36--  http://wayback.archive-it.org/7993/20170110235327/http://www.fda.gov/Safety/MedWatch/SafetyInformation/ucm446032.htm\n",
      "Resolving wayback.archive-it.org (wayback.archive-it.org)... 207.241.225.8, 207.241.232.8\n",
      "Connecting to wayback.archive-it.org (wayback.archive-it.org)|207.241.225.8|:80... "
     ]
    },
    {
     "name": "stdout",
     "output_type": "stream",
     "text": [
      "Downloading http://wayback.archive-it.org/7993/20170110235327/http://www.fda.gov/Safety/MedWatch/SafetyInformation/ucm446032.htm to webpages/2015_Apr...\n"
     ]
    },
    {
     "name": "stderr",
     "output_type": "stream",
     "text": [
      "connected.\n",
      "HTTP request sent, awaiting response... 302 FOUND\n",
      "Location: http://wayback.archive-it.org/7993/20170111133152/http://www.fda.gov/Safety/MedWatch/SafetyInformation/ucm446032.htm [following]\n",
      "--2024-10-22 16:16:37--  http://wayback.archive-it.org/7993/20170111133152/http://www.fda.gov/Safety/MedWatch/SafetyInformation/ucm446032.htm\n",
      "Reusing existing connection to wayback.archive-it.org:80.\n",
      "HTTP request sent, awaiting response... 200 OK\n",
      "Length: 78912 (77K) [text/html]\n",
      "Saving to: ‘webpages/2015_Apr/wayback.archive-it.org/7993/20170110235327/http:/www.fda.gov/Safety/MedWatch/SafetyInformation/ucm446032.htm’\n",
      "\n",
      "     0K .......... .......... .......... .......... .......... 64% 70.9K 0s\n",
      "    50K .......... .......... .......                         100% 58.0K=1.2s\n",
      "\n",
      "2024-10-22 16:16:38 (65.8 KB/s) - ‘webpages/2015_Apr/wayback.archive-it.org/7993/20170110235327/http:/www.fda.gov/Safety/MedWatch/SafetyInformation/ucm446032.htm’ saved [78912/78912]\n",
      "\n",
      "FINISHED --2024-10-22 16:16:38--\n",
      "Total wall clock time: 2.1s\n",
      "Downloaded: 1 files, 77K in 1.2s (65.8 KB/s)\n",
      "Converting links in webpages/2015_Apr/wayback.archive-it.org/7993/20170110235327/http:/www.fda.gov/Safety/MedWatch/SafetyInformation/ucm446032.htm... 9-153\n",
      "Converted links in 1 files in 0.003 seconds.\n",
      "--2024-10-22 16:16:38--  http://wayback.archive-it.org/7993/20170110235327/http://www.fda.gov/Safety/MedWatch/SafetyInformation/ucm450062.htm\n",
      "Resolving wayback.archive-it.org (wayback.archive-it.org)... 207.241.225.8, 207.241.232.8\n",
      "Connecting to wayback.archive-it.org (wayback.archive-it.org)|207.241.225.8|:80... "
     ]
    },
    {
     "name": "stdout",
     "output_type": "stream",
     "text": [
      "Downloading http://wayback.archive-it.org/7993/20170110235327/http://www.fda.gov/Safety/MedWatch/SafetyInformation/ucm450062.htm to webpages/2015_May...\n"
     ]
    },
    {
     "name": "stderr",
     "output_type": "stream",
     "text": [
      "connected.\n",
      "HTTP request sent, awaiting response... 302 FOUND\n",
      "Location: http://wayback.archive-it.org/7993/20170111133154/http://www.fda.gov/Safety/MedWatch/SafetyInformation/ucm450062.htm [following]\n",
      "--2024-10-22 16:16:39--  http://wayback.archive-it.org/7993/20170111133154/http://www.fda.gov/Safety/MedWatch/SafetyInformation/ucm450062.htm\n",
      "Reusing existing connection to wayback.archive-it.org:80.\n",
      "HTTP request sent, awaiting response... 200 OK\n",
      "Length: 70266 (69K) [text/html]\n",
      "Saving to: ‘webpages/2015_May/wayback.archive-it.org/7993/20170110235327/http:/www.fda.gov/Safety/MedWatch/SafetyInformation/ucm450062.htm’\n",
      "\n",
      "     0K .......... .......... .......... .......... .......... 72% 70.4K 0s\n",
      "    50K .......... ........                                   100% 66.0K=1.0s\n",
      "\n",
      "2024-10-22 16:16:41 (69.1 KB/s) - ‘webpages/2015_May/wayback.archive-it.org/7993/20170110235327/http:/www.fda.gov/Safety/MedWatch/SafetyInformation/ucm450062.htm’ saved [70266/70266]\n",
      "\n",
      "FINISHED --2024-10-22 16:16:41--\n",
      "Total wall clock time: 2.1s\n",
      "Downloaded: 1 files, 69K in 1.0s (69.1 KB/s)\n",
      "Converting links in webpages/2015_May/wayback.archive-it.org/7993/20170110235327/http:/www.fda.gov/Safety/MedWatch/SafetyInformation/ucm450062.htm... 9-141\n",
      "Converted links in 1 files in 0.003 seconds.\n",
      "--2024-10-22 16:16:41--  http://wayback.archive-it.org/7993/20170110235327/http://www.fda.gov/Safety/MedWatch/SafetyInformation/ucm453965.htm\n",
      "Resolving wayback.archive-it.org (wayback.archive-it.org)... 207.241.225.8, 207.241.232.8\n",
      "Connecting to wayback.archive-it.org (wayback.archive-it.org)|207.241.225.8|:80... "
     ]
    },
    {
     "name": "stdout",
     "output_type": "stream",
     "text": [
      "Downloading http://wayback.archive-it.org/7993/20170110235327/http://www.fda.gov/Safety/MedWatch/SafetyInformation/ucm453965.htm to webpages/2015_Jun...\n"
     ]
    },
    {
     "name": "stderr",
     "output_type": "stream",
     "text": [
      "connected.\n",
      "HTTP request sent, awaiting response... 302 FOUND\n",
      "Location: http://wayback.archive-it.org/7993/20170111133155/http://www.fda.gov/Safety/MedWatch/SafetyInformation/ucm453965.htm [following]\n",
      "--2024-10-22 16:16:41--  http://wayback.archive-it.org/7993/20170111133155/http://www.fda.gov/Safety/MedWatch/SafetyInformation/ucm453965.htm\n",
      "Reusing existing connection to wayback.archive-it.org:80.\n",
      "HTTP request sent, awaiting response... 200 OK\n",
      "Length: 70880 (69K) [text/html]\n",
      "Saving to: ‘webpages/2015_Jun/wayback.archive-it.org/7993/20170110235327/http:/www.fda.gov/Safety/MedWatch/SafetyInformation/ucm453965.htm’\n",
      "\n",
      "     0K .......... .......... .......... .......... .......... 72% 70.9K 0s\n",
      "    50K .......... .........                                  100% 81.7K=0.9s\n",
      "\n",
      "2024-10-22 16:16:43 (73.6 KB/s) - ‘webpages/2015_Jun/wayback.archive-it.org/7993/20170110235327/http:/www.fda.gov/Safety/MedWatch/SafetyInformation/ucm453965.htm’ saved [70880/70880]\n",
      "\n",
      "FINISHED --2024-10-22 16:16:43--\n",
      "Total wall clock time: 2.0s\n",
      "Downloaded: 1 files, 69K in 0.9s (73.6 KB/s)\n",
      "Converting links in webpages/2015_Jun/wayback.archive-it.org/7993/20170110235327/http:/www.fda.gov/Safety/MedWatch/SafetyInformation/ucm453965.htm... 9-128\n",
      "Converted links in 1 files in 0.003 seconds.\n",
      "--2024-10-22 16:16:43--  http://wayback.archive-it.org/7993/20170110235327/http://www.fda.gov/Safety/MedWatch/SafetyInformation/ucm457920.htm\n",
      "Resolving wayback.archive-it.org (wayback.archive-it.org)... 207.241.225.8, 207.241.232.8\n",
      "Connecting to wayback.archive-it.org (wayback.archive-it.org)|207.241.225.8|:80... "
     ]
    },
    {
     "name": "stdout",
     "output_type": "stream",
     "text": [
      "Downloading http://wayback.archive-it.org/7993/20170110235327/http://www.fda.gov/Safety/MedWatch/SafetyInformation/ucm457920.htm to webpages/2015_Jul...\n"
     ]
    },
    {
     "name": "stderr",
     "output_type": "stream",
     "text": [
      "connected.\n",
      "HTTP request sent, awaiting response... 302 FOUND\n",
      "Location: http://wayback.archive-it.org/7993/20170111133156/http://www.fda.gov/Safety/MedWatch/SafetyInformation/ucm457920.htm [following]\n",
      "--2024-10-22 16:16:43--  http://wayback.archive-it.org/7993/20170111133156/http://www.fda.gov/Safety/MedWatch/SafetyInformation/ucm457920.htm\n",
      "Reusing existing connection to wayback.archive-it.org:80.\n",
      "HTTP request sent, awaiting response... 200 OK\n",
      "Length: 89918 (88K) [text/html]\n",
      "Saving to: ‘webpages/2015_Jul/wayback.archive-it.org/7993/20170110235327/http:/www.fda.gov/Safety/MedWatch/SafetyInformation/ucm457920.htm’\n",
      "\n",
      "     0K .......... .......... .......... .......... .......... 56% 65.6K 1s\n",
      "    50K .......... .......... .......... .......              100% 68.7K=1.3s\n",
      "\n",
      "2024-10-22 16:16:45 (66.9 KB/s) - ‘webpages/2015_Jul/wayback.archive-it.org/7993/20170110235327/http:/www.fda.gov/Safety/MedWatch/SafetyInformation/ucm457920.htm’ saved [89918/89918]\n",
      "\n",
      "FINISHED --2024-10-22 16:16:45--\n",
      "Total wall clock time: 2.3s\n",
      "Downloaded: 1 files, 88K in 1.3s (66.9 KB/s)\n",
      "Converting links in webpages/2015_Jul/wayback.archive-it.org/7993/20170110235327/http:/www.fda.gov/Safety/MedWatch/SafetyInformation/ucm457920.htm... 9-151\n",
      "Converted links in 1 files in 0.003 seconds.\n",
      "--2024-10-22 16:16:45--  http://wayback.archive-it.org/7993/20170110235327/http://www.fda.gov/Safety/MedWatch/SafetyInformation/ucm460662.htm\n",
      "Resolving wayback.archive-it.org (wayback.archive-it.org)... 207.241.225.8, 207.241.232.8\n",
      "Connecting to wayback.archive-it.org (wayback.archive-it.org)|207.241.225.8|:80... "
     ]
    },
    {
     "name": "stdout",
     "output_type": "stream",
     "text": [
      "Downloading http://wayback.archive-it.org/7993/20170110235327/http://www.fda.gov/Safety/MedWatch/SafetyInformation/ucm460662.htm to webpages/2015_Aug...\n"
     ]
    },
    {
     "name": "stderr",
     "output_type": "stream",
     "text": [
      "connected.\n",
      "HTTP request sent, awaiting response... 302 FOUND\n",
      "Location: http://wayback.archive-it.org/7993/20170111133200/http://www.fda.gov/Safety/MedWatch/SafetyInformation/ucm460662.htm [following]\n",
      "--2024-10-22 16:16:45--  http://wayback.archive-it.org/7993/20170111133200/http://www.fda.gov/Safety/MedWatch/SafetyInformation/ucm460662.htm\n",
      "Reusing existing connection to wayback.archive-it.org:80.\n",
      "HTTP request sent, awaiting response... 200 OK\n",
      "Length: 69480 (68K) [text/html]\n",
      "Saving to: ‘webpages/2015_Aug/wayback.archive-it.org/7993/20170110235327/http:/www.fda.gov/Safety/MedWatch/SafetyInformation/ucm460662.htm’\n",
      "\n",
      "     0K .......... .......... .......... .......... .......... 73% 70.2K 0s\n",
      "    50K .......... .......                                    100% 75.2K=0.9s\n",
      "\n",
      "2024-10-22 16:16:47 (71.5 KB/s) - ‘webpages/2015_Aug/wayback.archive-it.org/7993/20170110235327/http:/www.fda.gov/Safety/MedWatch/SafetyInformation/ucm460662.htm’ saved [69480/69480]\n",
      "\n",
      "FINISHED --2024-10-22 16:16:47--\n",
      "Total wall clock time: 1.9s\n",
      "Downloaded: 1 files, 68K in 0.9s (71.5 KB/s)\n",
      "Converting links in webpages/2015_Aug/wayback.archive-it.org/7993/20170110235327/http:/www.fda.gov/Safety/MedWatch/SafetyInformation/ucm460662.htm... 9-141\n",
      "Converted links in 1 files in 0.003 seconds.\n",
      "--2024-10-22 16:16:47--  http://wayback.archive-it.org/7993/20170110235327/http://www.fda.gov/Safety/MedWatch/SafetyInformation/ucm465836.htm\n",
      "Resolving wayback.archive-it.org (wayback.archive-it.org)... 207.241.225.8, 207.241.232.8\n",
      "Connecting to wayback.archive-it.org (wayback.archive-it.org)|207.241.225.8|:80... "
     ]
    },
    {
     "name": "stdout",
     "output_type": "stream",
     "text": [
      "Downloading http://wayback.archive-it.org/7993/20170110235327/http://www.fda.gov/Safety/MedWatch/SafetyInformation/ucm465836.htm to webpages/2015_Sep...\n"
     ]
    },
    {
     "name": "stderr",
     "output_type": "stream",
     "text": [
      "connected.\n",
      "HTTP request sent, awaiting response... 302 FOUND\n",
      "Location: http://wayback.archive-it.org/7993/20170111133201/http://www.fda.gov/Safety/MedWatch/SafetyInformation/ucm465836.htm [following]\n",
      "--2024-10-22 16:16:47--  http://wayback.archive-it.org/7993/20170111133201/http://www.fda.gov/Safety/MedWatch/SafetyInformation/ucm465836.htm\n",
      "Reusing existing connection to wayback.archive-it.org:80.\n",
      "HTTP request sent, awaiting response... 200 OK\n",
      "Length: 74471 (73K) [text/html]\n",
      "Saving to: ‘webpages/2015_Sep/wayback.archive-it.org/7993/20170110235327/http:/www.fda.gov/Safety/MedWatch/SafetyInformation/ucm465836.htm’\n",
      "\n",
      "     0K .......... .......... .......... .......... .......... 68% 65.1K 0s\n",
      "    50K .......... .......... ..                              100% 76.7K=1.1s\n",
      "\n",
      "2024-10-22 16:16:49 (68.3 KB/s) - ‘webpages/2015_Sep/wayback.archive-it.org/7993/20170110235327/http:/www.fda.gov/Safety/MedWatch/SafetyInformation/ucm465836.htm’ saved [74471/74471]\n",
      "\n",
      "FINISHED --2024-10-22 16:16:49--\n",
      "Total wall clock time: 2.0s\n",
      "Downloaded: 1 files, 73K in 1.1s (68.3 KB/s)\n",
      "Converting links in webpages/2015_Sep/wayback.archive-it.org/7993/20170110235327/http:/www.fda.gov/Safety/MedWatch/SafetyInformation/ucm465836.htm... 9-146\n",
      "Converted links in 1 files in 0.003 seconds.\n",
      "--2024-10-22 16:16:49--  http://wayback.archive-it.org/7993/20170110235327/http://www.fda.gov/Safety/MedWatch/SafetyInformation/ucm471840.htm\n",
      "Resolving wayback.archive-it.org (wayback.archive-it.org)... 207.241.225.8, 207.241.232.8\n",
      "Connecting to wayback.archive-it.org (wayback.archive-it.org)|207.241.225.8|:80... "
     ]
    },
    {
     "name": "stdout",
     "output_type": "stream",
     "text": [
      "Downloading http://wayback.archive-it.org/7993/20170110235327/http://www.fda.gov/Safety/MedWatch/SafetyInformation/ucm471840.htm to webpages/2015_Oct...\n"
     ]
    },
    {
     "name": "stderr",
     "output_type": "stream",
     "text": [
      "connected.\n",
      "HTTP request sent, awaiting response... 302 FOUND\n",
      "Location: http://wayback.archive-it.org/7993/20170111133206/http://www.fda.gov/Safety/MedWatch/SafetyInformation/ucm471840.htm [following]\n",
      "--2024-10-22 16:16:49--  http://wayback.archive-it.org/7993/20170111133206/http://www.fda.gov/Safety/MedWatch/SafetyInformation/ucm471840.htm\n",
      "Reusing existing connection to wayback.archive-it.org:80.\n",
      "HTTP request sent, awaiting response... 200 OK\n",
      "Length: 59799 (58K) [text/html]\n",
      "Saving to: ‘webpages/2015_Oct/wayback.archive-it.org/7993/20170110235327/http:/www.fda.gov/Safety/MedWatch/SafetyInformation/ucm471840.htm’\n",
      "\n",
      "     0K .......... .......... .......... .......... .......... 85% 69.7K 0s\n",
      "    50K ........                                              100% 35.8K=1.0s\n",
      "\n",
      "2024-10-22 16:16:51 (61.3 KB/s) - ‘webpages/2015_Oct/wayback.archive-it.org/7993/20170110235327/http:/www.fda.gov/Safety/MedWatch/SafetyInformation/ucm471840.htm’ saved [59799/59799]\n",
      "\n",
      "FINISHED --2024-10-22 16:16:51--\n",
      "Total wall clock time: 1.8s\n",
      "Downloaded: 1 files, 58K in 1.0s (61.3 KB/s)\n",
      "Converting links in webpages/2015_Oct/wayback.archive-it.org/7993/20170110235327/http:/www.fda.gov/Safety/MedWatch/SafetyInformation/ucm471840.htm... 9-124\n",
      "Converted links in 1 files in 0.003 seconds.\n",
      "--2024-10-22 16:16:51--  http://wayback.archive-it.org/7993/20170110235327/http://www.fda.gov/Safety/MedWatch/SafetyInformation/ucm476260.htm\n",
      "Resolving wayback.archive-it.org (wayback.archive-it.org)... 207.241.225.8, 207.241.232.8\n",
      "Connecting to wayback.archive-it.org (wayback.archive-it.org)|207.241.225.8|:80... "
     ]
    },
    {
     "name": "stdout",
     "output_type": "stream",
     "text": [
      "Downloading http://wayback.archive-it.org/7993/20170110235327/http://www.fda.gov/Safety/MedWatch/SafetyInformation/ucm476260.htm to webpages/2015_Nov...\n"
     ]
    },
    {
     "name": "stderr",
     "output_type": "stream",
     "text": [
      "connected.\n",
      "HTTP request sent, awaiting response... 302 FOUND\n",
      "Location: http://wayback.archive-it.org/7993/20170111133208/http://www.fda.gov/Safety/MedWatch/SafetyInformation/ucm476260.htm [following]\n",
      "--2024-10-22 16:16:51--  http://wayback.archive-it.org/7993/20170111133208/http://www.fda.gov/Safety/MedWatch/SafetyInformation/ucm476260.htm\n",
      "Reusing existing connection to wayback.archive-it.org:80.\n",
      "HTTP request sent, awaiting response... 200 OK\n",
      "Length: 56753 (55K) [text/html]\n",
      "Saving to: ‘webpages/2015_Nov/wayback.archive-it.org/7993/20170110235327/http:/www.fda.gov/Safety/MedWatch/SafetyInformation/ucm476260.htm’\n",
      "\n",
      "     0K .......... .......... .......... .......... .......... 90% 65.0K 0s\n",
      "    50K .....                                                 100%  122K=0.8s\n",
      "\n",
      "2024-10-22 16:16:52 (68.2 KB/s) - ‘webpages/2015_Nov/wayback.archive-it.org/7993/20170110235327/http:/www.fda.gov/Safety/MedWatch/SafetyInformation/ucm476260.htm’ saved [56753/56753]\n",
      "\n",
      "FINISHED --2024-10-22 16:16:52--\n",
      "Total wall clock time: 1.8s\n",
      "Downloaded: 1 files, 55K in 0.8s (68.2 KB/s)\n",
      "Converting links in webpages/2015_Nov/wayback.archive-it.org/7993/20170110235327/http:/www.fda.gov/Safety/MedWatch/SafetyInformation/ucm476260.htm... 9-117\n",
      "Converted links in 1 files in 0.003 seconds.\n",
      "--2024-10-22 16:16:52--  http://wayback.archive-it.org/7993/20170110235327/http://www.fda.gov/Safety/MedWatch/SafetyInformation/ucm480758.htm\n",
      "Resolving wayback.archive-it.org (wayback.archive-it.org)... 207.241.225.8, 207.241.232.8\n",
      "Connecting to wayback.archive-it.org (wayback.archive-it.org)|207.241.225.8|:80... "
     ]
    },
    {
     "name": "stdout",
     "output_type": "stream",
     "text": [
      "Downloading http://wayback.archive-it.org/7993/20170110235327/http://www.fda.gov/Safety/MedWatch/SafetyInformation/ucm480758.htm to webpages/2015_Dec...\n"
     ]
    },
    {
     "name": "stderr",
     "output_type": "stream",
     "text": [
      "connected.\n",
      "HTTP request sent, awaiting response... 302 FOUND\n",
      "Location: http://wayback.archive-it.org/7993/20170111133210/http://www.fda.gov/Safety/MedWatch/SafetyInformation/ucm480758.htm [following]\n",
      "--2024-10-22 16:16:53--  http://wayback.archive-it.org/7993/20170111133210/http://www.fda.gov/Safety/MedWatch/SafetyInformation/ucm480758.htm\n",
      "Reusing existing connection to wayback.archive-it.org:80.\n",
      "HTTP request sent, awaiting response... 200 OK\n",
      "Length: 62357 (61K) [text/html]\n",
      "Saving to: ‘webpages/2015_Dec/wayback.archive-it.org/7993/20170110235327/http:/www.fda.gov/Safety/MedWatch/SafetyInformation/ucm480758.htm’\n",
      "\n",
      "     0K .......... .......... .......... .......... .......... 82% 70.2K 0s\n",
      "    50K ..........                                            100% 45.7K=1.0s\n",
      "\n",
      "2024-10-22 16:16:54 (64.0 KB/s) - ‘webpages/2015_Dec/wayback.archive-it.org/7993/20170110235327/http:/www.fda.gov/Safety/MedWatch/SafetyInformation/ucm480758.htm’ saved [62357/62357]\n",
      "\n",
      "FINISHED --2024-10-22 16:16:54--\n",
      "Total wall clock time: 1.9s\n",
      "Downloaded: 1 files, 61K in 1.0s (64.0 KB/s)\n",
      "Converting links in webpages/2015_Dec/wayback.archive-it.org/7993/20170110235327/http:/www.fda.gov/Safety/MedWatch/SafetyInformation/ucm480758.htm... 9-129\n",
      "Converted links in 1 files in 0.003 seconds.\n",
      "--2024-10-22 16:16:54--  http://wayback.archive-it.org/7993/20170110235327/http://www.fda.gov/Safety/MedWatch/SafetyInformation/ucm384738.htm\n",
      "Resolving wayback.archive-it.org (wayback.archive-it.org)... 207.241.225.8, 207.241.232.8\n",
      "Connecting to wayback.archive-it.org (wayback.archive-it.org)|207.241.225.8|:80... "
     ]
    },
    {
     "name": "stdout",
     "output_type": "stream",
     "text": [
      "Downloading http://wayback.archive-it.org/7993/20170110235327/http://www.fda.gov/Safety/MedWatch/SafetyInformation/ucm384738.htm to webpages/2014_Jan...\n"
     ]
    },
    {
     "name": "stderr",
     "output_type": "stream",
     "text": [
      "connected.\n",
      "HTTP request sent, awaiting response... 302 FOUND\n",
      "Location: http://wayback.archive-it.org/7993/20170111133212/http://www.fda.gov/Safety/MedWatch/SafetyInformation/ucm384738.htm [following]\n",
      "--2024-10-22 16:16:55--  http://wayback.archive-it.org/7993/20170111133212/http://www.fda.gov/Safety/MedWatch/SafetyInformation/ucm384738.htm\n",
      "Reusing existing connection to wayback.archive-it.org:80.\n",
      "HTTP request sent, awaiting response... 200 OK\n",
      "Length: 57678 (56K) [text/html]\n",
      "Saving to: ‘webpages/2014_Jan/wayback.archive-it.org/7993/20170110235327/http:/www.fda.gov/Safety/MedWatch/SafetyInformation/ucm384738.htm’\n",
      "\n",
      "     0K .......... .......... .......... .......... .......... 88% 71.6K 0s\n",
      "    50K ......                                                100%  159K=0.7s\n",
      "\n",
      "2024-10-22 16:16:56 (76.3 KB/s) - ‘webpages/2014_Jan/wayback.archive-it.org/7993/20170110235327/http:/www.fda.gov/Safety/MedWatch/SafetyInformation/ucm384738.htm’ saved [57678/57678]\n",
      "\n",
      "FINISHED --2024-10-22 16:16:56--\n",
      "Total wall clock time: 1.9s\n",
      "Downloaded: 1 files, 56K in 0.7s (76.3 KB/s)\n",
      "Converting links in webpages/2014_Jan/wayback.archive-it.org/7993/20170110235327/http:/www.fda.gov/Safety/MedWatch/SafetyInformation/ucm384738.htm... 8-131\n",
      "Converted links in 1 files in 0.003 seconds.\n",
      "--2024-10-22 16:16:56--  http://wayback.archive-it.org/7993/20170110235327/http://www.fda.gov/Safety/MedWatch/SafetyInformation/ucm388717.htm\n",
      "Resolving wayback.archive-it.org (wayback.archive-it.org)... 207.241.225.8, 207.241.232.8\n",
      "Connecting to wayback.archive-it.org (wayback.archive-it.org)|207.241.225.8|:80... "
     ]
    },
    {
     "name": "stdout",
     "output_type": "stream",
     "text": [
      "Downloading http://wayback.archive-it.org/7993/20170110235327/http://www.fda.gov/Safety/MedWatch/SafetyInformation/ucm388717.htm to webpages/2014_Feb...\n"
     ]
    },
    {
     "name": "stderr",
     "output_type": "stream",
     "text": [
      "connected.\n",
      "HTTP request sent, awaiting response... 302 FOUND\n",
      "Location: http://wayback.archive-it.org/7993/20170111133213/http://www.fda.gov/Safety/MedWatch/SafetyInformation/ucm388717.htm [following]\n",
      "--2024-10-22 16:16:57--  http://wayback.archive-it.org/7993/20170111133213/http://www.fda.gov/Safety/MedWatch/SafetyInformation/ucm388717.htm\n",
      "Reusing existing connection to wayback.archive-it.org:80.\n",
      "HTTP request sent, awaiting response... 200 OK\n",
      "Length: 63827 (62K) [text/html]\n",
      "Saving to: ‘webpages/2014_Feb/wayback.archive-it.org/7993/20170110235327/http:/www.fda.gov/Safety/MedWatch/SafetyInformation/ucm388717.htm’\n",
      "\n",
      "     0K .......... .......... .......... .......... .......... 80% 50.5K 0s\n",
      "    50K .......... ..                                         100% 49.9K=1.2s\n",
      "\n",
      "2024-10-22 16:16:59 (50.4 KB/s) - ‘webpages/2014_Feb/wayback.archive-it.org/7993/20170110235327/http:/www.fda.gov/Safety/MedWatch/SafetyInformation/ucm388717.htm’ saved [63827/63827]\n",
      "\n",
      "FINISHED --2024-10-22 16:16:59--\n",
      "Total wall clock time: 2.3s\n",
      "Downloaded: 1 files, 62K in 1.2s (50.4 KB/s)\n",
      "Converting links in webpages/2014_Feb/wayback.archive-it.org/7993/20170110235327/http:/www.fda.gov/Safety/MedWatch/SafetyInformation/ucm388717.htm... 8-143\n",
      "Converted links in 1 files in 0.003 seconds.\n",
      "--2024-10-22 16:16:59--  http://wayback.archive-it.org/7993/20170110235327/http://www.fda.gov/Safety/MedWatch/SafetyInformation/ucm392205.htm\n",
      "Resolving wayback.archive-it.org (wayback.archive-it.org)... 207.241.225.8, 207.241.232.8\n",
      "Connecting to wayback.archive-it.org (wayback.archive-it.org)|207.241.225.8|:80... "
     ]
    },
    {
     "name": "stdout",
     "output_type": "stream",
     "text": [
      "Downloading http://wayback.archive-it.org/7993/20170110235327/http://www.fda.gov/Safety/MedWatch/SafetyInformation/ucm392205.htm to webpages/2014_Mar...\n"
     ]
    },
    {
     "name": "stderr",
     "output_type": "stream",
     "text": [
      "connected.\n",
      "HTTP request sent, awaiting response... 302 FOUND\n",
      "Location: http://wayback.archive-it.org/7993/20170111133215/http://www.fda.gov/Safety/MedWatch/SafetyInformation/ucm392205.htm [following]\n",
      "--2024-10-22 16:16:59--  http://wayback.archive-it.org/7993/20170111133215/http://www.fda.gov/Safety/MedWatch/SafetyInformation/ucm392205.htm\n",
      "Reusing existing connection to wayback.archive-it.org:80.\n",
      "HTTP request sent, awaiting response... 200 OK\n",
      "Length: 61692 (60K) [text/html]\n",
      "Saving to: ‘webpages/2014_Mar/wayback.archive-it.org/7993/20170110235327/http:/www.fda.gov/Safety/MedWatch/SafetyInformation/ucm392205.htm’\n",
      "\n",
      "     0K .......... .......... .......... .......... .......... 82% 71.2K 0s\n",
      "    50K ..........                                            100% 43.9K=0.9s\n",
      "\n",
      "2024-10-22 16:17:01 (64.4 KB/s) - ‘webpages/2014_Mar/wayback.archive-it.org/7993/20170110235327/http:/www.fda.gov/Safety/MedWatch/SafetyInformation/ucm392205.htm’ saved [61692/61692]\n",
      "\n",
      "FINISHED --2024-10-22 16:17:01--\n",
      "Total wall clock time: 2.0s\n",
      "Downloaded: 1 files, 60K in 0.9s (64.4 KB/s)\n",
      "Converting links in webpages/2014_Mar/wayback.archive-it.org/7993/20170110235327/http:/www.fda.gov/Safety/MedWatch/SafetyInformation/ucm392205.htm... 8-138\n",
      "Converted links in 1 files in 0.003 seconds.\n",
      "--2024-10-22 16:17:01--  http://wayback.archive-it.org/7993/20170110235327/http://www.fda.gov/Safety/MedWatch/SafetyInformation/ucm396456.htm\n",
      "Resolving wayback.archive-it.org (wayback.archive-it.org)... 207.241.225.8, 207.241.232.8\n",
      "Connecting to wayback.archive-it.org (wayback.archive-it.org)|207.241.225.8|:80... "
     ]
    },
    {
     "name": "stdout",
     "output_type": "stream",
     "text": [
      "Downloading http://wayback.archive-it.org/7993/20170110235327/http://www.fda.gov/Safety/MedWatch/SafetyInformation/ucm396456.htm to webpages/2014_Apr...\n"
     ]
    },
    {
     "name": "stderr",
     "output_type": "stream",
     "text": [
      "connected.\n",
      "HTTP request sent, awaiting response... 302 FOUND\n",
      "Location: http://wayback.archive-it.org/7993/20170111133219/http://www.fda.gov/Safety/MedWatch/SafetyInformation/ucm396456.htm [following]\n",
      "--2024-10-22 16:17:01--  http://wayback.archive-it.org/7993/20170111133219/http://www.fda.gov/Safety/MedWatch/SafetyInformation/ucm396456.htm\n",
      "Reusing existing connection to wayback.archive-it.org:80.\n",
      "HTTP request sent, awaiting response... 200 OK\n",
      "Length: 76577 (75K) [text/html]\n",
      "Saving to: ‘webpages/2014_Apr/wayback.archive-it.org/7993/20170110235327/http:/www.fda.gov/Safety/MedWatch/SafetyInformation/ucm396456.htm’\n",
      "\n",
      "     0K .......... .......... .......... .......... .......... 66% 65.4K 0s\n",
      "    50K .......... .......... ....                            100% 48.9K=1.3s\n",
      "\n",
      "2024-10-22 16:17:03 (58.8 KB/s) - ‘webpages/2014_Apr/wayback.archive-it.org/7993/20170110235327/http:/www.fda.gov/Safety/MedWatch/SafetyInformation/ucm396456.htm’ saved [76577/76577]\n",
      "\n",
      "FINISHED --2024-10-22 16:17:03--\n",
      "Total wall clock time: 2.3s\n",
      "Downloaded: 1 files, 75K in 1.3s (58.8 KB/s)\n",
      "Converting links in webpages/2014_Apr/wayback.archive-it.org/7993/20170110235327/http:/www.fda.gov/Safety/MedWatch/SafetyInformation/ucm396456.htm... 8-161\n",
      "Converted links in 1 files in 0.003 seconds.\n",
      "--2024-10-22 16:17:03--  http://wayback.archive-it.org/7993/20170110235327/http://www.fda.gov/Safety/MedWatch/SafetyInformation/ucm400227.htm\n",
      "Resolving wayback.archive-it.org (wayback.archive-it.org)... 207.241.225.8, 207.241.232.8\n",
      "Connecting to wayback.archive-it.org (wayback.archive-it.org)|207.241.225.8|:80... "
     ]
    },
    {
     "name": "stdout",
     "output_type": "stream",
     "text": [
      "Downloading http://wayback.archive-it.org/7993/20170110235327/http://www.fda.gov/Safety/MedWatch/SafetyInformation/ucm400227.htm to webpages/2014_May...\n"
     ]
    },
    {
     "name": "stderr",
     "output_type": "stream",
     "text": [
      "connected.\n",
      "HTTP request sent, awaiting response... 302 FOUND\n",
      "Location: http://wayback.archive-it.org/7993/20170111133221/http://www.fda.gov/Safety/MedWatch/SafetyInformation/ucm400227.htm [following]\n",
      "--2024-10-22 16:17:04--  http://wayback.archive-it.org/7993/20170111133221/http://www.fda.gov/Safety/MedWatch/SafetyInformation/ucm400227.htm\n",
      "Reusing existing connection to wayback.archive-it.org:80.\n",
      "HTTP request sent, awaiting response... 200 OK\n",
      "Length: 64595 (63K) [text/html]\n",
      "Saving to: ‘webpages/2014_May/wayback.archive-it.org/7993/20170110235327/http:/www.fda.gov/Safety/MedWatch/SafetyInformation/ucm400227.htm’\n",
      "\n",
      "     0K .......... .......... .......... .......... .......... 79% 67.6K 0s\n",
      "    50K .......... ...                                        100% 52.3K=1.0s\n",
      "\n",
      "2024-10-22 16:17:05 (63.7 KB/s) - ‘webpages/2014_May/wayback.archive-it.org/7993/20170110235327/http:/www.fda.gov/Safety/MedWatch/SafetyInformation/ucm400227.htm’ saved [64595/64595]\n",
      "\n",
      "FINISHED --2024-10-22 16:17:05--\n",
      "Total wall clock time: 2.0s\n",
      "Downloaded: 1 files, 63K in 1.0s (63.7 KB/s)\n",
      "Converting links in webpages/2014_May/wayback.archive-it.org/7993/20170110235327/http:/www.fda.gov/Safety/MedWatch/SafetyInformation/ucm400227.htm... 8-146\n",
      "Converted links in 1 files in 0.003 seconds.\n",
      "--2024-10-22 16:17:05--  http://wayback.archive-it.org/7993/20170110235327/http://www.fda.gov/Safety/MedWatch/SafetyInformation/ucm402776.htm\n",
      "Resolving wayback.archive-it.org (wayback.archive-it.org)... 207.241.225.8, 207.241.232.8\n",
      "Connecting to wayback.archive-it.org (wayback.archive-it.org)|207.241.225.8|:80... "
     ]
    },
    {
     "name": "stdout",
     "output_type": "stream",
     "text": [
      "Downloading http://wayback.archive-it.org/7993/20170110235327/http://www.fda.gov/Safety/MedWatch/SafetyInformation/ucm402776.htm to webpages/2014_Jun...\n"
     ]
    },
    {
     "name": "stderr",
     "output_type": "stream",
     "text": [
      "connected.\n",
      "HTTP request sent, awaiting response... 302 FOUND\n",
      "Location: http://wayback.archive-it.org/7993/20170111133224/http://www.fda.gov/Safety/MedWatch/SafetyInformation/ucm402776.htm [following]\n",
      "--2024-10-22 16:17:05--  http://wayback.archive-it.org/7993/20170111133224/http://www.fda.gov/Safety/MedWatch/SafetyInformation/ucm402776.htm\n",
      "Reusing existing connection to wayback.archive-it.org:80.\n",
      "HTTP request sent, awaiting response... "
     ]
    },
    {
     "ename": "KeyboardInterrupt",
     "evalue": "",
     "output_type": "error",
     "traceback": [
      "\u001b[0;31m---------------------------------------------------------------------------\u001b[0m",
      "\u001b[0;31mKeyboardInterrupt\u001b[0m                         Traceback (most recent call last)",
      "Cell \u001b[0;32mIn[14], line 161\u001b[0m\n\u001b[1;32m    159\u001b[0m \u001b[38;5;28;01mfor\u001b[39;00m year, months \u001b[38;5;129;01min\u001b[39;00m urls\u001b[38;5;241m.\u001b[39mitems():\n\u001b[1;32m    160\u001b[0m     \u001b[38;5;28;01mfor\u001b[39;00m month, url \u001b[38;5;129;01min\u001b[39;00m months\u001b[38;5;241m.\u001b[39mitems():\n\u001b[0;32m--> 161\u001b[0m         \u001b[43mdownload_entire_page\u001b[49m\u001b[43m(\u001b[49m\u001b[43murl\u001b[49m\u001b[43m,\u001b[49m\u001b[43m \u001b[49m\u001b[43myear\u001b[49m\u001b[43m,\u001b[49m\u001b[43m \u001b[49m\u001b[43mmonth\u001b[49m\u001b[43m)\u001b[49m\n\u001b[1;32m    163\u001b[0m \u001b[38;5;66;03m# Create a zip file with all the downloaded pages\u001b[39;00m\n\u001b[1;32m    164\u001b[0m zip_file_path \u001b[38;5;241m=\u001b[39m \u001b[38;5;124m'\u001b[39m\u001b[38;5;124mwebpages_full_archive.zip\u001b[39m\u001b[38;5;124m'\u001b[39m\n",
      "Cell \u001b[0;32mIn[14], line 150\u001b[0m, in \u001b[0;36mdownload_entire_page\u001b[0;34m(url, year, month)\u001b[0m\n\u001b[1;32m    148\u001b[0m     \u001b[38;5;28mprint\u001b[39m(\u001b[38;5;124mf\u001b[39m\u001b[38;5;124m\"\u001b[39m\u001b[38;5;124mDownloading \u001b[39m\u001b[38;5;132;01m{\u001b[39;00murl\u001b[38;5;132;01m}\u001b[39;00m\u001b[38;5;124m to \u001b[39m\u001b[38;5;132;01m{\u001b[39;00mfolder_name\u001b[38;5;132;01m}\u001b[39;00m\u001b[38;5;124m...\u001b[39m\u001b[38;5;124m\"\u001b[39m)\n\u001b[1;32m    149\u001b[0m     \u001b[38;5;66;03m# Using wget command to download entire webpage including all assets recursively\u001b[39;00m\n\u001b[0;32m--> 150\u001b[0m     \u001b[43msubprocess\u001b[49m\u001b[38;5;241;43m.\u001b[39;49m\u001b[43mrun\u001b[49m\u001b[43m(\u001b[49m\u001b[43m[\u001b[49m\u001b[38;5;124;43m'\u001b[39;49m\u001b[38;5;124;43mwget\u001b[39;49m\u001b[38;5;124;43m'\u001b[39;49m\u001b[43m,\u001b[49m\u001b[43m \u001b[49m\u001b[38;5;124;43m'\u001b[39;49m\u001b[38;5;124;43m--recursive\u001b[39;49m\u001b[38;5;124;43m'\u001b[39;49m\u001b[43m,\u001b[49m\u001b[43m \u001b[49m\u001b[38;5;124;43m'\u001b[39;49m\u001b[38;5;124;43m--page-requisites\u001b[39;49m\u001b[38;5;124;43m'\u001b[39;49m\u001b[43m,\u001b[49m\u001b[43m \u001b[49m\u001b[38;5;124;43m'\u001b[39;49m\u001b[38;5;124;43m--html-extension\u001b[39;49m\u001b[38;5;124;43m'\u001b[39;49m\u001b[43m,\u001b[49m\n\u001b[1;32m    151\u001b[0m \u001b[43m                    \u001b[49m\u001b[38;5;124;43m'\u001b[39;49m\u001b[38;5;124;43m--convert-links\u001b[39;49m\u001b[38;5;124;43m'\u001b[39;49m\u001b[43m,\u001b[49m\u001b[43m \u001b[49m\u001b[38;5;124;43m'\u001b[39;49m\u001b[38;5;124;43m--no-parent\u001b[39;49m\u001b[38;5;124;43m'\u001b[39;49m\u001b[43m,\u001b[49m\u001b[43m \u001b[49m\u001b[38;5;124;43m'\u001b[39;49m\u001b[38;5;124;43m--directory-prefix\u001b[39;49m\u001b[38;5;124;43m'\u001b[39;49m\u001b[43m,\u001b[49m\u001b[43m \u001b[49m\u001b[43mfolder_name\u001b[49m\u001b[43m,\u001b[49m\u001b[43m \u001b[49m\u001b[43murl\u001b[49m\u001b[43m]\u001b[49m\u001b[43m,\u001b[49m\u001b[43m \u001b[49m\u001b[43mcheck\u001b[49m\u001b[38;5;241;43m=\u001b[39;49m\u001b[38;5;28;43;01mTrue\u001b[39;49;00m\u001b[43m)\u001b[49m\n\u001b[1;32m    152\u001b[0m \u001b[38;5;28;01mexcept\u001b[39;00m subprocess\u001b[38;5;241m.\u001b[39mCalledProcessError \u001b[38;5;28;01mas\u001b[39;00m e:\n\u001b[1;32m    153\u001b[0m     \u001b[38;5;28mprint\u001b[39m(\u001b[38;5;124mf\u001b[39m\u001b[38;5;124m\"\u001b[39m\u001b[38;5;124mFailed to download \u001b[39m\u001b[38;5;132;01m{\u001b[39;00murl\u001b[38;5;132;01m}\u001b[39;00m\u001b[38;5;124m: \u001b[39m\u001b[38;5;132;01m{\u001b[39;00m\u001b[38;5;28mstr\u001b[39m(e)\u001b[38;5;132;01m}\u001b[39;00m\u001b[38;5;124m\"\u001b[39m)\n",
      "File \u001b[0;32m~/miniconda3/envs/slices/lib/python3.9/subprocess.py:507\u001b[0m, in \u001b[0;36mrun\u001b[0;34m(input, capture_output, timeout, check, *popenargs, **kwargs)\u001b[0m\n\u001b[1;32m    505\u001b[0m \u001b[38;5;28;01mwith\u001b[39;00m Popen(\u001b[38;5;241m*\u001b[39mpopenargs, \u001b[38;5;241m*\u001b[39m\u001b[38;5;241m*\u001b[39mkwargs) \u001b[38;5;28;01mas\u001b[39;00m process:\n\u001b[1;32m    506\u001b[0m     \u001b[38;5;28;01mtry\u001b[39;00m:\n\u001b[0;32m--> 507\u001b[0m         stdout, stderr \u001b[38;5;241m=\u001b[39m \u001b[43mprocess\u001b[49m\u001b[38;5;241;43m.\u001b[39;49m\u001b[43mcommunicate\u001b[49m\u001b[43m(\u001b[49m\u001b[38;5;28;43minput\u001b[39;49m\u001b[43m,\u001b[49m\u001b[43m \u001b[49m\u001b[43mtimeout\u001b[49m\u001b[38;5;241;43m=\u001b[39;49m\u001b[43mtimeout\u001b[49m\u001b[43m)\u001b[49m\n\u001b[1;32m    508\u001b[0m     \u001b[38;5;28;01mexcept\u001b[39;00m TimeoutExpired \u001b[38;5;28;01mas\u001b[39;00m exc:\n\u001b[1;32m    509\u001b[0m         process\u001b[38;5;241m.\u001b[39mkill()\n",
      "File \u001b[0;32m~/miniconda3/envs/slices/lib/python3.9/subprocess.py:1126\u001b[0m, in \u001b[0;36mPopen.communicate\u001b[0;34m(self, input, timeout)\u001b[0m\n\u001b[1;32m   1124\u001b[0m         stderr \u001b[38;5;241m=\u001b[39m \u001b[38;5;28mself\u001b[39m\u001b[38;5;241m.\u001b[39mstderr\u001b[38;5;241m.\u001b[39mread()\n\u001b[1;32m   1125\u001b[0m         \u001b[38;5;28mself\u001b[39m\u001b[38;5;241m.\u001b[39mstderr\u001b[38;5;241m.\u001b[39mclose()\n\u001b[0;32m-> 1126\u001b[0m     \u001b[38;5;28;43mself\u001b[39;49m\u001b[38;5;241;43m.\u001b[39;49m\u001b[43mwait\u001b[49m\u001b[43m(\u001b[49m\u001b[43m)\u001b[49m\n\u001b[1;32m   1127\u001b[0m \u001b[38;5;28;01melse\u001b[39;00m:\n\u001b[1;32m   1128\u001b[0m     \u001b[38;5;28;01mif\u001b[39;00m timeout \u001b[38;5;129;01mis\u001b[39;00m \u001b[38;5;129;01mnot\u001b[39;00m \u001b[38;5;28;01mNone\u001b[39;00m:\n",
      "File \u001b[0;32m~/miniconda3/envs/slices/lib/python3.9/subprocess.py:1189\u001b[0m, in \u001b[0;36mPopen.wait\u001b[0;34m(self, timeout)\u001b[0m\n\u001b[1;32m   1187\u001b[0m     endtime \u001b[38;5;241m=\u001b[39m _time() \u001b[38;5;241m+\u001b[39m timeout\n\u001b[1;32m   1188\u001b[0m \u001b[38;5;28;01mtry\u001b[39;00m:\n\u001b[0;32m-> 1189\u001b[0m     \u001b[38;5;28;01mreturn\u001b[39;00m \u001b[38;5;28;43mself\u001b[39;49m\u001b[38;5;241;43m.\u001b[39;49m\u001b[43m_wait\u001b[49m\u001b[43m(\u001b[49m\u001b[43mtimeout\u001b[49m\u001b[38;5;241;43m=\u001b[39;49m\u001b[43mtimeout\u001b[49m\u001b[43m)\u001b[49m\n\u001b[1;32m   1190\u001b[0m \u001b[38;5;28;01mexcept\u001b[39;00m \u001b[38;5;167;01mKeyboardInterrupt\u001b[39;00m:\n\u001b[1;32m   1191\u001b[0m     \u001b[38;5;66;03m# https://bugs.python.org/issue25942\u001b[39;00m\n\u001b[1;32m   1192\u001b[0m     \u001b[38;5;66;03m# The first keyboard interrupt waits briefly for the child to\u001b[39;00m\n\u001b[1;32m   1193\u001b[0m     \u001b[38;5;66;03m# exit under the common assumption that it also received the ^C\u001b[39;00m\n\u001b[1;32m   1194\u001b[0m     \u001b[38;5;66;03m# generated SIGINT and will exit rapidly.\u001b[39;00m\n\u001b[1;32m   1195\u001b[0m     \u001b[38;5;28;01mif\u001b[39;00m timeout \u001b[38;5;129;01mis\u001b[39;00m \u001b[38;5;129;01mnot\u001b[39;00m \u001b[38;5;28;01mNone\u001b[39;00m:\n",
      "File \u001b[0;32m~/miniconda3/envs/slices/lib/python3.9/subprocess.py:1933\u001b[0m, in \u001b[0;36mPopen._wait\u001b[0;34m(self, timeout)\u001b[0m\n\u001b[1;32m   1931\u001b[0m \u001b[38;5;28;01mif\u001b[39;00m \u001b[38;5;28mself\u001b[39m\u001b[38;5;241m.\u001b[39mreturncode \u001b[38;5;129;01mis\u001b[39;00m \u001b[38;5;129;01mnot\u001b[39;00m \u001b[38;5;28;01mNone\u001b[39;00m:\n\u001b[1;32m   1932\u001b[0m     \u001b[38;5;28;01mbreak\u001b[39;00m  \u001b[38;5;66;03m# Another thread waited.\u001b[39;00m\n\u001b[0;32m-> 1933\u001b[0m (pid, sts) \u001b[38;5;241m=\u001b[39m \u001b[38;5;28;43mself\u001b[39;49m\u001b[38;5;241;43m.\u001b[39;49m\u001b[43m_try_wait\u001b[49m\u001b[43m(\u001b[49m\u001b[38;5;241;43m0\u001b[39;49m\u001b[43m)\u001b[49m\n\u001b[1;32m   1934\u001b[0m \u001b[38;5;66;03m# Check the pid and loop as waitpid has been known to\u001b[39;00m\n\u001b[1;32m   1935\u001b[0m \u001b[38;5;66;03m# return 0 even without WNOHANG in odd situations.\u001b[39;00m\n\u001b[1;32m   1936\u001b[0m \u001b[38;5;66;03m# http://bugs.python.org/issue14396.\u001b[39;00m\n\u001b[1;32m   1937\u001b[0m \u001b[38;5;28;01mif\u001b[39;00m pid \u001b[38;5;241m==\u001b[39m \u001b[38;5;28mself\u001b[39m\u001b[38;5;241m.\u001b[39mpid:\n",
      "File \u001b[0;32m~/miniconda3/envs/slices/lib/python3.9/subprocess.py:1891\u001b[0m, in \u001b[0;36mPopen._try_wait\u001b[0;34m(self, wait_flags)\u001b[0m\n\u001b[1;32m   1889\u001b[0m \u001b[38;5;250m\u001b[39m\u001b[38;5;124;03m\"\"\"All callers to this function MUST hold self._waitpid_lock.\"\"\"\u001b[39;00m\n\u001b[1;32m   1890\u001b[0m \u001b[38;5;28;01mtry\u001b[39;00m:\n\u001b[0;32m-> 1891\u001b[0m     (pid, sts) \u001b[38;5;241m=\u001b[39m \u001b[43mos\u001b[49m\u001b[38;5;241;43m.\u001b[39;49m\u001b[43mwaitpid\u001b[49m\u001b[43m(\u001b[49m\u001b[38;5;28;43mself\u001b[39;49m\u001b[38;5;241;43m.\u001b[39;49m\u001b[43mpid\u001b[49m\u001b[43m,\u001b[49m\u001b[43m \u001b[49m\u001b[43mwait_flags\u001b[49m\u001b[43m)\u001b[49m\n\u001b[1;32m   1892\u001b[0m \u001b[38;5;28;01mexcept\u001b[39;00m \u001b[38;5;167;01mChildProcessError\u001b[39;00m:\n\u001b[1;32m   1893\u001b[0m     \u001b[38;5;66;03m# This happens if SIGCLD is set to be ignored or waiting\u001b[39;00m\n\u001b[1;32m   1894\u001b[0m     \u001b[38;5;66;03m# for child processes has otherwise been disabled for our\u001b[39;00m\n\u001b[1;32m   1895\u001b[0m     \u001b[38;5;66;03m# process.  This child is dead, we can't get the status.\u001b[39;00m\n\u001b[1;32m   1896\u001b[0m     pid \u001b[38;5;241m=\u001b[39m \u001b[38;5;28mself\u001b[39m\u001b[38;5;241m.\u001b[39mpid\n",
      "\u001b[0;31mKeyboardInterrupt\u001b[0m: "
     ]
    }
   ],
   "source": [
    "import os\n",
    "import subprocess\n",
    "from zipfile import ZipFile\n",
    "urls = {\n",
    "    '2016': {\n",
    "        'Jan': 'http://wayback.archive-it.org/7993/20170110235327/http://www.fda.gov/Safety/MedWatch/SafetyInformation/ucm485289.htm',\n",
    "        'Feb': 'http://wayback.archive-it.org/7993/20170110235327/http://www.fda.gov/Safety/MedWatch/SafetyInformation/ucm489329.htm',\n",
    "        'Mar': 'http://wayback.archive-it.org/7993/20170110235327/http://www.fda.gov/Safety/MedWatch/SafetyInformation/ucm494834.htm',\n",
    "        'Apr': 'http://wayback.archive-it.org/7993/20170110235327/http://www.fda.gov/Safety/MedWatch/SafetyInformation/ucm499575.htm',\n",
    "        'May': 'http://wayback.archive-it.org/7993/20170110235327/http://www.fda.gov/Safety/MedWatch/SafetyInformation/ucm505586.htm',\n",
    "        'Jun': 'http://wayback.archive-it.org/7993/20170110235327/http://www.fda.gov/Safety/MedWatch/SafetyInformation/ucm509048.htm',\n",
    "        'Jul': 'http://wayback.archive-it.org/7993/20170110235327/http://www.fda.gov/Safety/MedWatch/SafetyInformation/ucm514705.htm',\n",
    "    },\n",
    "    '2015': {\n",
    "        'Jan': 'http://wayback.archive-it.org/7993/20170110235327/http://www.fda.gov/Safety/MedWatch/SafetyInformation/ucm433045.htm',\n",
    "        'Feb': 'http://wayback.archive-it.org/7993/20170110235327/http://www.fda.gov/Safety/MedWatch/SafetyInformation/ucm436827.htm',\n",
    "        'Mar': 'http://wayback.archive-it.org/7993/20170110235327/http://www.fda.gov/Safety/MedWatch/SafetyInformation/ucm441224.htm',\n",
    "        'Apr': 'http://wayback.archive-it.org/7993/20170110235327/http://www.fda.gov/Safety/MedWatch/SafetyInformation/ucm446032.htm',\n",
    "        'May': 'http://wayback.archive-it.org/7993/20170110235327/http://www.fda.gov/Safety/MedWatch/SafetyInformation/ucm450062.htm',\n",
    "        'Jun': 'http://wayback.archive-it.org/7993/20170110235327/http://www.fda.gov/Safety/MedWatch/SafetyInformation/ucm453965.htm',\n",
    "        'Jul': 'http://wayback.archive-it.org/7993/20170110235327/http://www.fda.gov/Safety/MedWatch/SafetyInformation/ucm457920.htm',\n",
    "        'Aug': 'http://wayback.archive-it.org/7993/20170110235327/http://www.fda.gov/Safety/MedWatch/SafetyInformation/ucm460662.htm',\n",
    "        'Sep': 'http://wayback.archive-it.org/7993/20170110235327/http://www.fda.gov/Safety/MedWatch/SafetyInformation/ucm465836.htm',\n",
    "        'Oct': 'http://wayback.archive-it.org/7993/20170110235327/http://www.fda.gov/Safety/MedWatch/SafetyInformation/ucm471840.htm',\n",
    "        'Nov': 'http://wayback.archive-it.org/7993/20170110235327/http://www.fda.gov/Safety/MedWatch/SafetyInformation/ucm476260.htm',\n",
    "        'Dec': 'http://wayback.archive-it.org/7993/20170110235327/http://www.fda.gov/Safety/MedWatch/SafetyInformation/ucm480758.htm',\n",
    "    },\n",
    "    '2014': {\n",
    "        'Jan': 'http://wayback.archive-it.org/7993/20170110235327/http://www.fda.gov/Safety/MedWatch/SafetyInformation/ucm384738.htm',\n",
    "        'Feb': 'http://wayback.archive-it.org/7993/20170110235327/http://www.fda.gov/Safety/MedWatch/SafetyInformation/ucm388717.htm',\n",
    "        'Mar': 'http://wayback.archive-it.org/7993/20170110235327/http://www.fda.gov/Safety/MedWatch/SafetyInformation/ucm392205.htm',\n",
    "        'Apr': 'http://wayback.archive-it.org/7993/20170110235327/http://www.fda.gov/Safety/MedWatch/SafetyInformation/ucm396456.htm',\n",
    "        'May': 'http://wayback.archive-it.org/7993/20170110235327/http://www.fda.gov/Safety/MedWatch/SafetyInformation/ucm400227.htm',\n",
    "        'Jun': 'http://wayback.archive-it.org/7993/20170110235327/http://www.fda.gov/Safety/MedWatch/SafetyInformation/ucm402776.htm',\n",
    "        'Jul': 'http://wayback.archive-it.org/7993/20170110235327/http://www.fda.gov/Safety/MedWatch/SafetyInformation/ucm409189.htm',\n",
    "        'Aug': 'http://wayback.archive-it.org/7993/20170110235327/http://www.fda.gov/Safety/MedWatch/SafetyInformation/ucm413266.htm',\n",
    "        'Sep': 'http://wayback.archive-it.org/7993/20170110235327/http://www.fda.gov/Safety/MedWatch/SafetyInformation/ucm417235.htm',\n",
    "        'Oct': 'http://wayback.archive-it.org/7993/20170110235327/http://www.fda.gov/Safety/MedWatch/SafetyInformation/ucm422591.htm',\n",
    "        'Nov': 'http://wayback.archive-it.org/7993/20170110235327/http://www.fda.gov/Safety/MedWatch/SafetyInformation/ucm425985.htm',\n",
    "        'Dec': 'http://wayback.archive-it.org/7993/20170110235327/http://www.fda.gov/Safety/MedWatch/SafetyInformation/ucm429250.htm',\n",
    "    },\n",
    "    '2013': {\n",
    "        'Jan': 'http://wayback.archive-it.org/7993/20170110235327/http://www.fda.gov/Safety/MedWatch/SafetyInformation/ucm338038.htm',\n",
    "        'Feb': 'http://wayback.archive-it.org/7993/20170110235327/http://www.fda.gov/Safety/MedWatch/SafetyInformation/ucm342027.htm',\n",
    "        'Mar': 'http://wayback.archive-it.org/7993/20170110235327/http://www.fda.gov/Safety/MedWatch/SafetyInformation/ucm346535.htm',\n",
    "        'Apr': 'http://wayback.archive-it.org/7993/20170110235327/http://www.fda.gov/Safety/MedWatch/SafetyInformation/ucm348021.htm',\n",
    "        'May': 'http://wayback.archive-it.org/7993/20170110235327/http://www.fda.gov/Safety/MedWatch/SafetyInformation/ucm355680.htm',\n",
    "        'Jun': 'http://wayback.archive-it.org/7993/20170110235327/http://www.fda.gov/Safety/MedWatch/SafetyInformation/ucm359843.htm',\n",
    "        'Jul': 'http://wayback.archive-it.org/7993/20170110235327/http://www.fda.gov/Safety/MedWatch/SafetyInformation/ucm363949.htm',\n",
    "        'Aug': 'http://wayback.archive-it.org/7993/20170110235327/http://www.fda.gov/Safety/MedWatch/SafetyInformation/ucm365214.htm',\n",
    "        'Sep': 'http://wayback.archive-it.org/7993/20170110235327/http://www.fda.gov/Safety/MedWatch/SafetyInformation/ucm371272.htm',\n",
    "        'Oct': 'http://wayback.archive-it.org/7993/20170110235327/http://www.fda.gov/Safety/MedWatch/SafetyInformation/ucm373523.htm',\n",
    "        'Nov': 'http://wayback.archive-it.org/7993/20170110235327/http://www.fda.gov/Safety/MedWatch/SafetyInformation/ucm377096.htm',\n",
    "        'Dec': 'http://wayback.archive-it.org/7993/20170110235327/http://www.fda.gov/Safety/MedWatch/SafetyInformation/ucm380539.htm',\n",
    "    },\n",
    "    '2012': {\n",
    "        'Jan': 'http://wayback.archive-it.org/7993/20170110235327/http://www.fda.gov/Safety/MedWatch/SafetyInformation/ucm289859.htm',\n",
    "        'Feb': 'http://wayback.archive-it.org/7993/20170110235327/http://www.fda.gov/Safety/MedWatch/SafetyInformation/ucm294217.htm',\n",
    "        'Mar': 'http://wayback.archive-it.org/7993/20170110235327/http://www.fda.gov/Safety/MedWatch/SafetyInformation/ucm299284.htm',\n",
    "        'Apr': 'http://wayback.archive-it.org/7993/20170110235327/http://www.fda.gov/Safety/MedWatch/SafetyInformation/ucm302285.htm',\n",
    "        'May': 'http://wayback.archive-it.org/7993/20170110235327/http://www.fda.gov/Safety/MedWatch/SafetyInformation/Safety-RelatedDrugLabelingChanges/ucm306941.htm',\n",
    "        'Jun': 'http://wayback.archive-it.org/7993/20170110235327/http://www.fda.gov/Safety/MedWatch/SafetyInformation/ucm309380.htm',\n",
    "        'Jul': 'http://wayback.archive-it.org/7993/20170110235327/http://www.fda.gov/Safety/MedWatch/SafetyInformation/ucm314601.htm',\n",
    "        'Aug': 'http://wayback.archive-it.org/7993/20170110235327/http://www.fda.gov/Safety/MedWatch/SafetyInformation/ucm315860.htm',\n",
    "        'Sep': 'http://wayback.archive-it.org/7993/20170110235327/http://www.fda.gov/Safety/MedWatch/SafetyInformation/Safety-RelatedDrugLabelingChanges/ucm323036.htm',\n",
    "        'Oct': 'http://wayback.archive-it.org/7993/20170110235327/http://www.fda.gov/Safety/MedWatch/SafetyInformation/ucm326133.htm',\n",
    "        'Nov': 'http://wayback.archive-it.org/7993/20170110235327/http://www.fda.gov/Safety/MedWatch/SafetyInformation/ucm330881.htm',\n",
    "        'Dec': 'http://wayback.archive-it.org/7993/20170110235327/http://www.fda.gov/Safety/MedWatch/SafetyInformation/ucm332340.htm',\n",
    "    },\n",
    "    '2011': {\n",
    "        'Jan': 'http://wayback.archive-it.org/7993/20170110235327/http://www.fda.gov/Safety/MedWatch/SafetyInformation/ucm240075.htm',\n",
    "        'Feb': 'http://wayback.archive-it.org/7993/20170110235327/http://www.fda.gov/Safety/MedWatch/SafetyInformation/ucm242998.htm',\n",
    "        'Mar': 'http://wayback.archive-it.org/7993/20170110235327/http://www.fda.gov/Safety/MedWatch/SafetyInformation/ucm249643.htm',\n",
    "        'Apr': 'http://wayback.archive-it.org/7993/20170110235327/http://www.fda.gov/Safety/MedWatch/SafetyInformation/ucm253470.htm',\n",
    "        'May': 'http://wayback.archive-it.org/7993/20170110235327/http://www.fda.gov/Safety/MedWatch/SafetyInformation/ucm258300.htm',\n",
    "        'Jun': 'http://wayback.archive-it.org/7993/20170110235327/http://www.fda.gov/Safety/MedWatch/SafetyInformation/ucm261325.htm',\n",
    "        'Jul': 'http://wayback.archive-it.org/7993/20170110235327/http://www.fda.gov/Safety/MedWatch/SafetyInformation/ucm266122.htm',\n",
    "        'Aug': 'http://wayback.archive-it.org/7993/20170110235327/http://www.fda.gov/Safety/MedWatch/SafetyInformation/ucm268289.htm',\n",
    "        'Sep': 'http://wayback.archive-it.org/7993/20170110235327/http://www.fda.gov/Safety/MedWatch/SafetyInformation/ucm274280.htm',\n",
    "        'Oct': 'http://wayback.archive-it.org/7993/20170110235327/http://www.fda.gov/Safety/MedWatch/SafetyInformation/ucm279222.htm',\n",
    "        'Nov': 'http://wayback.archive-it.org/7993/20170110235327/http://www.fda.gov/Safety/MedWatch/SafetyInformation/ucm282966.htm',\n",
    "        'Dec': 'http://wayback.archive-it.org/7993/20170110235327/http://www.fda.gov/Safety/MedWatch/SafetyInformation/ucm284231.htm',\n",
    "    },\n",
    "    '2010': {\n",
    "        'Jan': 'http://wayback.archive-it.org/7993/20170110235327/http://www.fda.gov/Safety/MedWatch/SafetyInformation/ucm200254.htm',\n",
    "        'Feb': 'http://wayback.archive-it.org/7993/20170110235327/http://www.fda.gov/Safety/MedWatch/SafetyInformation/ucm202912.htm',\n",
    "        'Mar': 'http://wayback.archive-it.org/7993/20170110235327/http://www.fda.gov/Safety/MedWatch/SafetyInformation/ucm207384.htm',\n",
    "        'Apr': 'http://wayback.archive-it.org/7993/20170110235327/http://www.fda.gov/Safety/MedWatch/SafetyInformation/ucm209165.htm',\n",
    "        'May': 'http://wayback.archive-it.org/7993/20170110235327/http://www.fda.gov/Safety/MedWatch/SafetyInformation/ucm214902.htm',\n",
    "        'Jun': 'http://wayback.archive-it.org/7993/20170110235327/http://www.fda.gov/Safety/MedWatch/SafetyInformation/ucm218813.htm',\n",
    "        'Jul': 'http://wayback.archive-it.org/7993/20170110235327/http://www.fda.gov/Safety/MedWatch/SafetyInformation/ucm220128.htm',\n",
    "        'Aug': 'http://wayback.archive-it.org/7993/20170110235327/http://www.fda.gov/Safety/MedWatch/SafetyInformation/ucm225299.htm',\n",
    "        'Sep': 'http://wayback.archive-it.org/7993/20170110235327/http://www.fda.gov/Safety/MedWatch/SafetyInformation/ucm228392.htm',\n",
    "        'Oct': 'http://wayback.archive-it.org/7993/20170110235327/http://www.fda.gov/Safety/MedWatch/SafetyInformation/ucm230721.htm',\n",
    "        'Nov': 'http://wayback.archive-it.org/7993/20170110235327/http://www.fda.gov/Safety/MedWatch/SafetyInformation/ucm233345.htm',\n",
    "        'Dec': 'http://wayback.archive-it.org/7993/20170110235327/http://www.fda.gov/Safety/MedWatch/SafetyInformation/ucm235838.htm',\n",
    "    },\n",
    "    '2009': {\n",
    "        'Jan': 'http://wayback.archive-it.org/7993/20170110235327/http://www.fda.gov/Safety/MedWatch/SafetyInformation/Safety-RelatedDrugLabelingChanges/ucm094574.htm',\n",
    "        'Feb': 'http://wayback.archive-it.org/7993/20170110235327/http://www.fda.gov/Safety/MedWatch/SafetyInformation/Safety-RelatedDrugLabelingChanges/ucm132995.htm',\n",
    "        'Mar': 'http://wayback.archive-it.org/7993/20170110235327/http://www.fda.gov/Safety/MedWatch/SafetyInformation/Safety-RelatedDrugLabelingChanges/ucm133470.htm',\n",
    "        'Apr': 'http://wayback.archive-it.org/7993/20170110235327/http://www.fda.gov/Safety/MedWatch/SafetyInformation/ucm153519.htm',\n",
    "        'May': 'http://wayback.archive-it.org/7993/20170110235327/http://www.fda.gov/Safety/MedWatch/SafetyInformation/ucm153798.htm',\n",
    "        'Jun': 'http://wayback.archive-it.org/7993/20170110235327/http://www.fda.gov/Safety/MedWatch/SafetyInformation/ucm153825.htm',\n",
    "        'Jul': 'http://wayback.archive-it.org/7993/20170110235327/http://www.fda.gov/Safety/MedWatch/SafetyInformation/ucm172740.htm',\n",
    "        'Aug': 'http://wayback.archive-it.org/7993/20170110235327/http://www.fda.gov/Safety/MedWatch/SafetyInformation/ucm181141.htm',\n",
    "        'Sep': 'http://wayback.archive-it.org/7993/20170110235327/http://www.fda.gov/Safety/MedWatch/SafetyInformation/ucm183107.htm',\n",
    "        'Oct': 'http://wayback.archive-it.org/7993/20170110235327/http://www.fda.gov/Safety/MedWatch/SafetyInformation/ucm187420.htm',\n",
    "        'Nov': 'http://wayback.archive-it.org/7993/20170110235327/http://www.fda.gov/Safety/MedWatch/SafetyInformation/ucm191946.htm',\n",
    "        'Dec': 'http://wayback.archive-it.org/7993/20170110235327/http://www.fda.gov/Safety/MedWatch/SafetyInformation/ucm194965.htm',\n",
    "    },\n",
    "    '2008': {\n",
    "        'Jan': 'http://wayback.archive-it.org/7993/20170110235327/http://www.fda.gov/Safety/MedWatch/SafetyInformation/Safety-RelatedDrugLabelingChanges/ucm094577.htm',\n",
    "        'Feb': 'http://wayback.archive-it.org/7993/20170110235327/http://www.fda.gov/Safety/MedWatch/SafetyInformation/Safety-RelatedDrugLabelingChanges/ucm103512.htm',\n",
    "        'Mar': 'http://wayback.archive-it.org/7993/20170110235327/http://www.fda.gov/Safety/MedWatch/SafetyInformation/Safety-RelatedDrugLabelingChanges/ucm103518.htm',\n",
    "        'Apr': 'http://wayback.archive-it.org/7993/20170110235327/http://www.fda.gov/Safety/MedWatch/SafetyInformation/Safety-RelatedDrugLabelingChanges/ucm105784.htm',\n",
    "        'May': 'http://wayback.archive-it.org/7993/20170110235327/http://www.fda.gov/Safety/MedWatch/SafetyInformation/Safety-RelatedDrugLabelingChanges/ucm105786.htm',\n",
    "        'Jun': 'http://wayback.archive-it.org/7993/20170110235327/http://www.fda.gov/Safety/MedWatch/SafetyInformation/Safety-RelatedDrugLabelingChanges/ucm105789.htm',\n",
    "        'Jul': 'http://wayback.archive-it.org/7993/20170110235327/http://www.fda.gov/Safety/MedWatch/SafetyInformation/Safety-RelatedDrugLabelingChanges/ucm105792.htm',\n",
    "        'Aug': 'http://wayback.archive-it.org/7993/20170110235327/http://www.fda.gov/Safety/MedWatch/SafetyInformation/Safety-RelatedDrugLabelingChanges/ucm105793.htm',\n",
    "        'Sep': 'http://wayback.archive-it.org/7993/20170110235327/http://www.fda.gov/Safety/MedWatch/SafetyInformation/Safety-RelatedDrugLabelingChanges/ucm105795.htm',\n",
    "        'Oct': 'http://wayback.archive-it.org/7993/20170110235327/http://www.fda.gov/Safety/MedWatch/SafetyInformation/Safety-RelatedDrugLabelingChanges/ucm105797.htm',\n",
    "        'Nov': 'http://wayback.archive-it.org/7993/20170110235327/http://www.fda.gov/Safety/MedWatch/SafetyInformation/Safety-RelatedDrugLabelingChanges/ucm105799.htm',\n",
    "        'Dec': 'http://wayback.archive-it.org/7993/20170110235327/http://www.fda.gov/Safety/MedWatch/SafetyInformation/ucm123731.htm',\n",
    "    }\n",
    "}\n",
    "\n",
    "# Function to download the content from the URL\n",
    "def download_page(url):\n",
    "    try:\n",
    "        response = requests.get(url)\n",
    "        if response.status_code == 200:\n",
    "            return response.text\n",
    "        else:\n",
    "            print(f\"Failed to retrieve {url}\")\n",
    "            return None\n",
    "    except Exception as e:\n",
    "        print(f\"Error while downloading {url}: {str(e)}\")\n",
    "        return None\n",
    "    \n",
    "\n",
    "# Function to download the entire webpage with assets using wget\n",
    "def download_entire_page(url, year, month):\n",
    "    folder_name = f\"webpages/{year}_{month}\"\n",
    "    os.makedirs(folder_name, exist_ok=True)\n",
    "    \n",
    "    try:\n",
    "        print(f\"Downloading {url} to {folder_name}...\")\n",
    "        # Using wget command to download entire webpage including all assets recursively\n",
    "        subprocess.run(['wget', '--recursive', '--page-requisites', '--html-extension',\n",
    "                        '--convert-links', '--no-parent', '--directory-prefix', folder_name, url], check=True)\n",
    "    except subprocess.CalledProcessError as e:\n",
    "        print(f\"Failed to download {url}: {str(e)}\")\n",
    "\n",
    "# Create base directory for storing downloaded pages\n",
    "os.makedirs('webpages', exist_ok=True)\n",
    "\n",
    "# Loop through URLs and download each page with assets\n",
    "for year, months in urls.items():\n",
    "    for month, url in months.items():\n",
    "        download_entire_page(url, year, month)\n",
    "\n",
    "# Create a zip file with all the downloaded pages\n",
    "zip_file_path = 'webpages_full_archive.zip'\n",
    "with ZipFile(zip_file_path, 'w') as zipf:\n",
    "    for folder_name, subfolders, filenames in os.walk('webpages'):\n",
    "        for filename in filenames:\n",
    "            file_path = os.path.join(folder_name, filename)\n",
    "            zipf.write(file_path, os.path.relpath(file_path, 'webpages'))\n",
    "\n",
    "print(f\"All webpages with their assets have been downloaded and saved into {zip_file_path}\")"
   ]
  },
  {
   "cell_type": "code",
   "execution_count": null,
   "metadata": {},
   "outputs": [],
   "source": []
  },
  {
   "cell_type": "code",
   "execution_count": null,
   "metadata": {},
   "outputs": [],
   "source": []
  },
  {
   "cell_type": "code",
   "execution_count": 23,
   "metadata": {},
   "outputs": [
    {
     "name": "stdout",
     "output_type": "stream",
     "text": [
      "Processing 2008 Dec...\n",
      "Table saved for 2008 Dec in '2008/Dec/Dec_fda_table.csv'\n",
      "All tables processed and saved.\n"
     ]
    }
   ],
   "source": [
    "import os\n",
    "import requests\n",
    "from bs4 import BeautifulSoup\n",
    "import pandas as pd\n",
    "\n",
    "# Function to fetch the table from a specific URL\n",
    "def fetch_table_from_url(url):\n",
    "    # Send GET request to fetch the page\n",
    "    response = requests.get(url)\n",
    "    \n",
    "    # Parse the HTML using BeautifulSoup\n",
    "    soup = BeautifulSoup(response.content, 'html.parser')\n",
    "    \n",
    "    # Attempt to find the table by a specific attribute or header content\n",
    "    table = soup.find('table', {'height': '2225'})  # Adjust this to match a unique attribute or use a method to check headers  # 1461\n",
    "    if not table:\n",
    "        table = soup.find('table')  # Fallback to the first table if specific criteria fail\n",
    "        if not table:\n",
    "            print(f\"No table found on the page: {url}\")\n",
    "            return pd.DataFrame()\n",
    "    \n",
    "    # Extract the rows from the table\n",
    "    rows = table.find_all('tr')\n",
    "    \n",
    "    data = []\n",
    "    \n",
    "    # Loop through the rows and extract columns, skipping empty or header rows\n",
    "    for row in rows:\n",
    "        cols = row.find_all('td')\n",
    "        if len(cols) == 0 or 'DRUG NAME' in row.get_text():  # Skip header or empty rows\n",
    "            continue\n",
    "        \n",
    "        # Extract drug name and link\n",
    "        drug_name_elem = cols[0].find('a')\n",
    "        if drug_name_elem:\n",
    "            drug_name = drug_name_elem.text.strip()\n",
    "        else:\n",
    "            drug_name = cols[0].text.strip()\n",
    "        \n",
    "        # Extract the other columns (BW, C, W, P, AR, PPI/MG)\n",
    "        bw = cols[1].text.strip() if len(cols) > 1 else ''\n",
    "        c = cols[2].text.strip() if len(cols) > 2 else ''\n",
    "        w = cols[3].text.strip() if len(cols) > 3 else ''\n",
    "        p = cols[4].text.strip() if len(cols) > 4 else ''\n",
    "        ar = cols[5].text.strip() if len(cols) > 5 else ''\n",
    "        ppi_mg = cols[6].text.strip() if len(cols) > 6 else ''\n",
    "        \n",
    "        # Append data to the list\n",
    "        data.append([drug_name, bw, c, w, p, ar, ppi_mg])\n",
    "    \n",
    "    # Return the data in DataFrame format\n",
    "    columns = ['Drug Name', 'BW', 'C', 'W', 'P', 'AR', 'PPI/MG']\n",
    "    df = pd.DataFrame(data, columns=columns)\n",
    "    \n",
    "    return df\n",
    "\n",
    "# Function to save the extracted table to CSV in the appropriate directory\n",
    "def save_table_to_csv(df, year, month):\n",
    "    # Create base directory for the year\n",
    "    base_dir = str(year)\n",
    "    if not os.path.exists(base_dir):\n",
    "        os.makedirs(base_dir)\n",
    "    \n",
    "    # Create directory for the month\n",
    "    month_dir = os.path.join(base_dir, month)\n",
    "    if not os.path.exists(month_dir):\n",
    "        os.makedirs(month_dir)\n",
    "    \n",
    "    # Define the path for the CSV file\n",
    "    csv_path = os.path.join(month_dir, f'{month}_fda_table.csv')\n",
    "    \n",
    "    # Save the DataFrame as CSV\n",
    "    df.to_csv(csv_path, index=False)\n",
    "    print(f\"Table saved for {year} {month} in '{csv_path}'\")\n",
    "\n",
    "# Define the URLs for multiple years and months\n",
    "urls = {\n",
    "    '2009': {\n",
    "        'Mar': ''\n",
    "    },\n",
    "}\n",
    "\n",
    "# Iterate over each year, month, and URL, fetch the table, and save it to the appropriate folder\n",
    "for year, months in urls.items():\n",
    "    for month, url in months.items():\n",
    "        print(f\"Processing {year} {month}...\")\n",
    "        table_df = fetch_table_from_url(url)\n",
    "        \n",
    "        if not table_df.empty:\n",
    "            save_table_to_csv(table_df, year, month)\n",
    "        else:\n",
    "            print(f\"No data found for {year} {month}.\")\n",
    "\n",
    "print(\"All tables processed and saved.\")\n"
   ]
  },
  {
   "cell_type": "markdown",
   "metadata": {},
   "source": [
    "### for 2009"
   ]
  },
  {
   "cell_type": "code",
   "execution_count": 26,
   "metadata": {},
   "outputs": [
    {
     "name": "stdout",
     "output_type": "stream",
     "text": [
      "Processing 2008 Jun...\n",
      "Table saved for 2008 Jun in '2008/Jun/Jun_fda_table.csv'\n",
      "All tables processed and saved.\n"
     ]
    }
   ],
   "source": [
    "import os\n",
    "import requests\n",
    "from bs4 import BeautifulSoup\n",
    "import pandas as pd\n",
    "\n",
    "# Function to fetch the table from a specific URL\n",
    "def fetch_table_from_url(url):\n",
    "    # Send GET request to fetch the page\n",
    "    response = requests.get(url)\n",
    "    response.raise_for_status()  # Raise an error if the request fails\n",
    "\n",
    "    # Parse the HTML using BeautifulSoup\n",
    "    soup = BeautifulSoup(response.content, 'html.parser')\n",
    "    \n",
    "    # Find all tables on the page\n",
    "    tables = soup.find_all('table')\n",
    "    \n",
    "    target_table = None\n",
    "    # Identify the correct table by checking for \"DRUG NAME\" header\n",
    "    for tbl in tables:\n",
    "        # Check if \"DRUG NAME\" appears in any table row\n",
    "        # If found, assume this is our target table\n",
    "        if \"DRUG NAME\" in tbl.get_text():\n",
    "            target_table = tbl\n",
    "            break\n",
    "    \n",
    "    if not target_table:\n",
    "        print(\"No table containing 'DRUG NAME' found.\")\n",
    "        return pd.DataFrame()\n",
    "    \n",
    "    # Extract the rows from the table\n",
    "    rows = target_table.find_all('tr')\n",
    "    \n",
    "    data = []\n",
    "    # Column names\n",
    "    columns = ['Drug Name', 'BW', 'C', 'W', 'P', 'AR', 'PPI/MG']\n",
    "    \n",
    "    # Loop through the rows and extract columns, skipping empty or header rows\n",
    "    for row in rows:\n",
    "        cols = row.find_all('td')\n",
    "        if len(cols) < 7:\n",
    "            continue\n",
    "        \n",
    "        row_text = row.get_text(strip=True)\n",
    "        # Skip header or rows that contain the text \"DRUG NAME\"\n",
    "        if 'DRUG NAME' in row_text.upper():\n",
    "            continue\n",
    "        \n",
    "        # Extract drug name and link\n",
    "        drug_name_elem = cols[0].find('a')\n",
    "        if drug_name_elem:\n",
    "            drug_name = drug_name_elem.text.strip()\n",
    "        else:\n",
    "            drug_name = cols[0].text.strip()\n",
    "        \n",
    "        if not drug_name or \"Click on drug name\" in drug_name:\n",
    "            continue\n",
    "\n",
    "        # Extract the other columns (BW, C, W, P, AR, PPI/MG)\n",
    "        bw = cols[1].get_text(strip=True) if len(cols) > 1 else ''\n",
    "        c = cols[2].get_text(strip=True) if len(cols) > 2 else ''\n",
    "        w = cols[3].get_text(strip=True) if len(cols) > 3 else ''\n",
    "        p = cols[4].get_text(strip=True) if len(cols) > 4 else ''\n",
    "        ar = cols[5].get_text(strip=True) if len(cols) > 5 else ''\n",
    "        ppi_mg = cols[6].get_text(strip=True) if len(cols) > 6 else ''\n",
    "        \n",
    "        # Append data to the list\n",
    "        data.append([drug_name, bw, c, w, p, ar, ppi_mg])\n",
    "    \n",
    "    # Return the data in DataFrame format\n",
    "    df = pd.DataFrame(data, columns=columns)\n",
    "    return df\n",
    "\n",
    "# Function to save the extracted table to CSV in the appropriate directory\n",
    "def save_table_to_csv(df, year, month):\n",
    "    # Create base directory for the year\n",
    "    base_dir = str(year)\n",
    "    if not os.path.exists(base_dir):\n",
    "        os.makedirs(base_dir)\n",
    "    \n",
    "    # Create directory for the month\n",
    "    month_dir = os.path.join(base_dir, month)\n",
    "    if not os.path.exists(month_dir):\n",
    "        os.makedirs(month_dir)\n",
    "    \n",
    "    # Define the path for the CSV file\n",
    "    csv_path = os.path.join(month_dir, f'{month}_fda_table.csv')\n",
    "    \n",
    "    # Save the DataFrame as CSV\n",
    "    df.to_csv(csv_path, index=False)\n",
    "    print(f\"Table saved for {year} {month} in '{csv_path}'\")\n",
    "\n",
    "# Define the URLs for multiple years and months\n",
    "urls = {\n",
    "    '2009': {\n",
    "        'Jan': 'http://wayback.archive-it.org/7993/20170110235327/http://www.fda.gov/Safety/MedWatch/SafetyInformation/Safety-RelatedDrugLabelingChanges/ucm094574.htm',\n",
    "        'Feb': 'http://wayback.archive-it.org/7993/20170110235327/http://www.fda.gov/Safety/MedWatch/SafetyInformation/Safety-RelatedDrugLabelingChanges/ucm132995.htm',\n",
    "        'Mar': 'http://wayback.archive-it.org/7993/20170110235327/http://www.fda.gov/Safety/MedWatch/SafetyInformation/Safety-RelatedDrugLabelingChanges/ucm133470.htm',\n",
    "        'Apr': 'http://wayback.archive-it.org/7993/20170110235327/http://www.fda.gov/Safety/MedWatch/SafetyInformation/Safety-RelatedDrugLabelingChanges/ucm153519.htm',\n",
    "        'May': 'http://wayback.archive-it.org/7993/20170110235327/http://www.fda.gov/Safety/MedWatch/SafetyInformation/ucm153798.htm',\n",
    "        'Jun': 'http://wayback.archive-it.org/7993/20170110235327/http://www.fda.gov/Safety/MedWatch/SafetyInformation/ucm153825.htm',\n",
    "        'Jul': 'http://wayback.archive-it.org/7993/20170110235327/http://www.fda.gov/Safety/MedWatch/SafetyInformation/ucm172740.htm',\n",
    "        'Aug': 'http://wayback.archive-it.org/7993/20170110235327/http://www.fda.gov/Safety/MedWatch/SafetyInformation/ucm181141.htm',\n",
    "        'Sep': 'http://wayback.archive-it.org/7993/20170110235327/http://www.fda.gov/Safety/MedWatch/SafetyInformation/ucm183107.htm',\n",
    "        'Oct': 'http://wayback.archive-it.org/7993/20170110235327/http://www.fda.gov/Safety/MedWatch/SafetyInformation/ucm187420.htm',\n",
    "        'Nov': 'http://wayback.archive-it.org/7993/20170110235327/http://www.fda.gov/Safety/MedWatch/SafetyInformation/ucm191946.htm',\n",
    "        'Dec': 'http://wayback.archive-it.org/7993/20170110235327/http://www.fda.gov/Safety/MedWatch/SafetyInformation/ucm194965.htm',        \n",
    "    },\n",
    "}\n",
    "\n",
    "# Iterate over each year, month, and URL, fetch the table, and save it to the appropriate folder\n",
    "for year, months in urls.items():\n",
    "    for month, url in months.items():\n",
    "        print(f\"Processing {year} {month}...\")\n",
    "        table_df = fetch_table_from_url(url)\n",
    "        \n",
    "        if not table_df.empty:\n",
    "            save_table_to_csv(table_df, year, month)\n",
    "        else:\n",
    "            print(f\"No data found for {year} {month}.\")\n",
    "\n",
    "print(\"All tables processed and saved.\")\n"
   ]
  },
  {
   "cell_type": "markdown",
   "metadata": {},
   "source": [
    "##2001-2002"
   ]
  },
  {
   "cell_type": "code",
   "execution_count": 29,
   "metadata": {},
   "outputs": [
    {
     "name": "stdout",
     "output_type": "stream",
     "text": [
      "Files will be saved in: /scratch/harsha.vasamsetti/harsha.vasamsetti\n"
     ]
    }
   ],
   "source": [
    "import os\n",
    "print(f\"Files will be saved in: {os.getcwd()}\")\n"
   ]
  },
  {
   "cell_type": "code",
   "execution_count": 33,
   "metadata": {},
   "outputs": [
    {
     "name": "stderr",
     "output_type": "stream",
     "text": [
      "2024-12-10 13:23:06,266 - INFO - Processing 2001 - Jan: /scratch/harsha.vasamsetti/harsha.vasamsetti/MW-archive_1996-2007/safety/2001/jan01.htm\n",
      "2024-12-10 13:23:06,348 - INFO - Summary saved: ./drug_labeling_changes/2001/Jan/drug_summary.csv\n",
      "2024-12-10 13:23:06,349 - INFO - Processing 2001 - Feb: /scratch/harsha.vasamsetti/harsha.vasamsetti/MW-archive_1996-2007/safety/2001/Feb01.htm\n",
      "2024-12-10 13:23:06,532 - INFO - Summary saved: ./drug_labeling_changes/2001/Feb/drug_summary.csv\n",
      "2024-12-10 13:23:06,533 - INFO - Processing 2001 - Mar: /scratch/harsha.vasamsetti/harsha.vasamsetti/MW-archive_1996-2007/safety/2001/Mar01.htm\n",
      "2024-12-10 13:23:06,592 - INFO - Summary saved: ./drug_labeling_changes/2001/Mar/drug_summary.csv\n",
      "2024-12-10 13:23:06,592 - INFO - Processing 2001 - Apr: /scratch/harsha.vasamsetti/harsha.vasamsetti/MW-archive_1996-2007/safety/2001/Apr01.htm\n",
      "2024-12-10 13:23:06,660 - INFO - Summary saved: ./drug_labeling_changes/2001/Apr/drug_summary.csv\n",
      "2024-12-10 13:23:06,661 - INFO - Processing 2001 - May: /scratch/harsha.vasamsetti/harsha.vasamsetti/MW-archive_1996-2007/safety/2001/May01.htm\n",
      "2024-12-10 13:23:06,825 - INFO - Summary saved: ./drug_labeling_changes/2001/May/drug_summary.csv\n",
      "2024-12-10 13:23:06,825 - INFO - Processing 2001 - Jun: /scratch/harsha.vasamsetti/harsha.vasamsetti/MW-archive_1996-2007/safety/2001/jun01.htm\n",
      "2024-12-10 13:23:06,888 - INFO - Summary saved: ./drug_labeling_changes/2001/Jun/drug_summary.csv\n",
      "2024-12-10 13:23:06,889 - INFO - Processing 2001 - Jul: /scratch/harsha.vasamsetti/harsha.vasamsetti/MW-archive_1996-2007/safety/2001/jul01.htm\n",
      "2024-12-10 13:23:07,052 - INFO - Summary saved: ./drug_labeling_changes/2001/Jul/drug_summary.csv\n",
      "2024-12-10 13:23:07,053 - INFO - Processing 2001 - Aug: /scratch/harsha.vasamsetti/harsha.vasamsetti/MW-archive_1996-2007/safety/2001/aug01.htm\n",
      "2024-12-10 13:23:07,165 - INFO - Summary saved: ./drug_labeling_changes/2001/Aug/drug_summary.csv\n",
      "2024-12-10 13:23:07,165 - INFO - Processing 2001 - Sep: /scratch/harsha.vasamsetti/harsha.vasamsetti/MW-archive_1996-2007/safety/2001/Sep01.htm\n",
      "2024-12-10 13:23:07,217 - INFO - Summary saved: ./drug_labeling_changes/2001/Sep/drug_summary.csv\n",
      "2024-12-10 13:23:07,218 - INFO - Processing 2001 - Oct: /scratch/harsha.vasamsetti/harsha.vasamsetti/MW-archive_1996-2007/safety/2001/Oct01.htm\n",
      "2024-12-10 13:23:07,304 - INFO - Summary saved: ./drug_labeling_changes/2001/Oct/drug_summary.csv\n",
      "2024-12-10 13:23:07,304 - INFO - Processing 2001 - Nov: /scratch/harsha.vasamsetti/harsha.vasamsetti/MW-archive_1996-2007/safety/2001/nov01.htm\n",
      "2024-12-10 13:23:07,506 - INFO - Summary saved: ./drug_labeling_changes/2001/Nov/drug_summary.csv\n",
      "2024-12-10 13:23:07,506 - INFO - Processing 2001 - Dec: /scratch/harsha.vasamsetti/harsha.vasamsetti/MW-archive_1996-2007/safety/2001/dec01.htm\n",
      "2024-12-10 13:23:07,556 - INFO - Summary saved: ./drug_labeling_changes/2001/Dec/drug_summary.csv\n",
      "2024-12-10 13:23:07,556 - INFO - Processing 2002 - Jan: /scratch/harsha.vasamsetti/harsha.vasamsetti/MW-archive_1996-2007/safety/2002/Jan02.htm\n",
      "2024-12-10 13:23:07,780 - INFO - Summary saved: ./drug_labeling_changes/2002/Jan/drug_summary.csv\n",
      "2024-12-10 13:23:07,781 - INFO - Processing 2002 - Feb: /scratch/harsha.vasamsetti/harsha.vasamsetti/MW-archive_1996-2007/safety/2002/Feb02.htm\n",
      "2024-12-10 13:23:07,921 - INFO - Summary saved: ./drug_labeling_changes/2002/Feb/drug_summary.csv\n",
      "2024-12-10 13:23:07,921 - INFO - Processing 2002 - Mar: /scratch/harsha.vasamsetti/harsha.vasamsetti/MW-archive_1996-2007/safety/2002/Mar02.htm\n",
      "2024-12-10 13:23:07,970 - INFO - Summary saved: ./drug_labeling_changes/2002/Mar/drug_summary.csv\n",
      "2024-12-10 13:23:07,971 - INFO - Processing 2002 - Apr: /scratch/harsha.vasamsetti/harsha.vasamsetti/MW-archive_1996-2007/safety/2002/apr02.htm\n",
      "2024-12-10 13:23:08,057 - INFO - Summary saved: ./drug_labeling_changes/2002/Apr/drug_summary.csv\n",
      "2024-12-10 13:23:08,057 - INFO - Processing 2002 - May: /scratch/harsha.vasamsetti/harsha.vasamsetti/MW-archive_1996-2007/safety/2002/may02.htm\n",
      "2024-12-10 13:23:08,166 - INFO - Summary saved: ./drug_labeling_changes/2002/May/drug_summary.csv\n",
      "2024-12-10 13:23:08,167 - INFO - Processing 2002 - Jun: /scratch/harsha.vasamsetti/harsha.vasamsetti/MW-archive_1996-2007/safety/2002/jun02.htm\n",
      "2024-12-10 13:23:08,282 - INFO - Summary saved: ./drug_labeling_changes/2002/Jun/drug_summary.csv\n",
      "2024-12-10 13:23:08,283 - INFO - Processing 2002 - Jul: /scratch/harsha.vasamsetti/harsha.vasamsetti/MW-archive_1996-2007/safety/2002/jul02.htm\n",
      "2024-12-10 13:23:08,494 - INFO - Summary saved: ./drug_labeling_changes/2002/Jul/drug_summary.csv\n",
      "2024-12-10 13:23:08,494 - INFO - Processing 2002 - Aug: /scratch/harsha.vasamsetti/harsha.vasamsetti/MW-archive_1996-2007/safety/2002/Aug02.htm\n",
      "2024-12-10 13:23:08,609 - INFO - Summary saved: ./drug_labeling_changes/2002/Aug/drug_summary.csv\n",
      "2024-12-10 13:23:08,610 - INFO - Processing 2002 - Sep: /scratch/harsha.vasamsetti/harsha.vasamsetti/MW-archive_1996-2007/safety/2002/sep02.htm\n",
      "2024-12-10 13:23:08,677 - INFO - Summary saved: ./drug_labeling_changes/2002/Sep/drug_summary.csv\n",
      "2024-12-10 13:23:08,678 - INFO - Processing 2002 - Oct: /scratch/harsha.vasamsetti/harsha.vasamsetti/MW-archive_1996-2007/safety/2002/oct02.htm\n",
      "2024-12-10 13:23:08,769 - INFO - Summary saved: ./drug_labeling_changes/2002/Oct/drug_summary.csv\n",
      "2024-12-10 13:23:08,770 - INFO - Processing 2002 - Nov: /scratch/harsha.vasamsetti/harsha.vasamsetti/MW-archive_1996-2007/safety/2002/nov02.htm\n",
      "2024-12-10 13:23:08,847 - INFO - Summary saved: ./drug_labeling_changes/2002/Nov/drug_summary.csv\n",
      "2024-12-10 13:23:08,847 - INFO - Processing 2002 - Dec: /scratch/harsha.vasamsetti/harsha.vasamsetti/MW-archive_1996-2007/safety/2002/dec02.htm\n",
      "2024-12-10 13:23:08,914 - INFO - Summary saved: ./drug_labeling_changes/2002/Dec/drug_summary.csv\n",
      "2024-12-10 13:23:08,915 - INFO - Processing completed.\n"
     ]
    }
   ],
   "source": [
    "import os\n",
    "from bs4 import BeautifulSoup\n",
    "import pandas as pd\n",
    "import logging\n",
    "\n",
    "# Set up logging for better debug information\n",
    "logging.basicConfig(level=logging.INFO, format='%(asctime)s - %(levelname)s - %(message)s')\n",
    "\n",
    "def extract_drug_labeling_changes(html_file_path):\n",
    "    \"\"\"\n",
    "    Extracts drug labeling changes from an HTML file and returns two DataFrames:\n",
    "    1. Summary DataFrame indicating which sections were modified for each drug.\n",
    "    2. Details DataFrame containing summaries of changes (if implemented).\n",
    "    \"\"\"\n",
    "    if not os.path.isfile(html_file_path):\n",
    "        logging.error(f\"The file '{html_file_path}' does not exist.\")\n",
    "        return pd.DataFrame(), pd.DataFrame()\n",
    "\n",
    "    try:\n",
    "        with open(html_file_path, 'r', encoding='cp1252') as file:\n",
    "            html_content = file.read()\n",
    "    except Exception as e:\n",
    "        logging.error(f\"Error reading file: {e}\")\n",
    "        return pd.DataFrame(), pd.DataFrame()\n",
    "\n",
    "    soup = BeautifulSoup(html_content, 'html.parser')\n",
    "\n",
    "    # Attempt to find a table containing data\n",
    "    table = soup.find('table')\n",
    "    if not table:\n",
    "        logging.warning(f\"No table found in the HTML: {html_file_path}\")\n",
    "        return pd.DataFrame(), pd.DataFrame()\n",
    "\n",
    "    rows = table.find_all('tr')\n",
    "    data = []\n",
    "    for row in rows:\n",
    "        cols = row.find_all('td')\n",
    "        if len(cols) == 0 or 'DRUG NAME' in row.get_text():\n",
    "            # skip empty or header rows\n",
    "            continue\n",
    "\n",
    "        drug_name = cols[0].text.strip() if len(cols) > 0 else \"\"\n",
    "        bw = cols[1].text.strip() if len(cols) > 1 else \"\"\n",
    "        c = cols[2].text.strip() if len(cols) > 2 else \"\"\n",
    "        w = cols[3].text.strip() if len(cols) > 3 else \"\"\n",
    "        p = cols[4].text.strip() if len(cols) > 4 else \"\"\n",
    "        ar = cols[5].text.strip() if len(cols) > 5 else \"\"\n",
    "        ppi_mg = cols[6].text.strip() if len(cols) > 6 else \"\"\n",
    "\n",
    "        data.append([drug_name, bw, c, w, p, ar, ppi_mg])\n",
    "\n",
    "    columns = ['Drug Name', 'BW', 'C', 'W', 'P', 'AR', 'PPI/MG']\n",
    "    df_summary = pd.DataFrame(data, columns=columns)\n",
    "\n",
    "    # Details DataFrame is currently not implemented\n",
    "    df_details = pd.DataFrame(columns=[\n",
    "        'Brand (Generic) Name',\n",
    "        'Sections Modified',\n",
    "        'Summary of Changes to Contraindications, Warnings, Indications and Usage, Overdosage, Clinical Pharmacology, and Patient Labeling'\n",
    "    ])\n",
    "\n",
    "    return df_summary, df_details\n",
    "\n",
    "def process_local_html_files(urls, output_dir):\n",
    "    \"\"\"\n",
    "    Processes local HTML files for each year and month, extracts data, and saves CSVs.\n",
    "    The 'urls' dict is actually local file paths in this scenario.\n",
    "    \"\"\"\n",
    "    for year, months in urls.items():\n",
    "        for month, file_path in months.items():\n",
    "            logging.info(f\"Processing {year} - {month}: {file_path}\")\n",
    "\n",
    "            if not os.path.isfile(file_path):\n",
    "                logging.error(f\"File not found: {file_path}\")\n",
    "                continue\n",
    "\n",
    "            # Create year and month directories\n",
    "            year_dir = os.path.join(output_dir, year)\n",
    "            os.makedirs(year_dir, exist_ok=True)\n",
    "            month_dir = os.path.join(year_dir, month)\n",
    "            os.makedirs(month_dir, exist_ok=True)\n",
    "\n",
    "            df_summary, df_details = extract_drug_labeling_changes(file_path)\n",
    "\n",
    "            summary_csv_path = os.path.join(month_dir, \"drug_summary.csv\")\n",
    "            details_csv_path = os.path.join(month_dir, \"drug_table.csv\")\n",
    "\n",
    "            if not df_summary.empty:\n",
    "                df_summary.to_csv(summary_csv_path, index=False)\n",
    "                logging.info(f\"Summary saved: {summary_csv_path}\")\n",
    "\n",
    "            if not df_details.empty:\n",
    "                df_details.to_csv(details_csv_path, index=False)\n",
    "                logging.info(f\"Details saved: {details_csv_path}\")\n",
    "\n",
    "# Define the URLs for 2001\n",
    "urls = {\n",
    "    '2001': {\n",
    "        'Jan': '/scratch/harsha.vasamsetti/harsha.vasamsetti/MW-archive_1996-2007/safety/2001/jan01.htm',\n",
    "        'Feb': '/scratch/harsha.vasamsetti/harsha.vasamsetti/MW-archive_1996-2007/safety/2001/Feb01.htm',\n",
    "        'Mar': '/scratch/harsha.vasamsetti/harsha.vasamsetti/MW-archive_1996-2007/safety/2001/Mar01.htm',\n",
    "        'Apr': '/scratch/harsha.vasamsetti/harsha.vasamsetti/MW-archive_1996-2007/safety/2001/Apr01.htm',\n",
    "        'May': '/scratch/harsha.vasamsetti/harsha.vasamsetti/MW-archive_1996-2007/safety/2001/May01.htm',\n",
    "        'Jun': '/scratch/harsha.vasamsetti/harsha.vasamsetti/MW-archive_1996-2007/safety/2001/jun01.htm',\n",
    "        'Jul': '/scratch/harsha.vasamsetti/harsha.vasamsetti/MW-archive_1996-2007/safety/2001/jul01.htm',\n",
    "        'Aug': '/scratch/harsha.vasamsetti/harsha.vasamsetti/MW-archive_1996-2007/safety/2001/aug01.htm',\n",
    "        'Sep': '/scratch/harsha.vasamsetti/harsha.vasamsetti/MW-archive_1996-2007/safety/2001/Sep01.htm',\n",
    "        'Oct': '/scratch/harsha.vasamsetti/harsha.vasamsetti/MW-archive_1996-2007/safety/2001/Oct01.htm',\n",
    "        'Nov': '/scratch/harsha.vasamsetti/harsha.vasamsetti/MW-archive_1996-2007/safety/2001/nov01.htm',\n",
    "        'Dec': '/scratch/harsha.vasamsetti/harsha.vasamsetti/MW-archive_1996-2007/safety/2001/dec01.htm',\n",
    "        \n",
    "    },\n",
    "    '2002': {\n",
    "        'Jan': '/scratch/harsha.vasamsetti/harsha.vasamsetti/MW-archive_1996-2007/safety/2002/Jan02.htm',\n",
    "        'Feb': '/scratch/harsha.vasamsetti/harsha.vasamsetti/MW-archive_1996-2007/safety/2002/Feb02.htm',\n",
    "        'Mar': '/scratch/harsha.vasamsetti/harsha.vasamsetti/MW-archive_1996-2007/safety/2002/Mar02.htm',\n",
    "        'Apr': '/scratch/harsha.vasamsetti/harsha.vasamsetti/MW-archive_1996-2007/safety/2002/apr02.htm',\n",
    "        'May': '/scratch/harsha.vasamsetti/harsha.vasamsetti/MW-archive_1996-2007/safety/2002/may02.htm',\n",
    "        'Jun': '/scratch/harsha.vasamsetti/harsha.vasamsetti/MW-archive_1996-2007/safety/2002/jun02.htm',\n",
    "        'Jul': '/scratch/harsha.vasamsetti/harsha.vasamsetti/MW-archive_1996-2007/safety/2002/jul02.htm',\n",
    "        'Aug': '/scratch/harsha.vasamsetti/harsha.vasamsetti/MW-archive_1996-2007/safety/2002/Aug02.htm',\n",
    "        'Sep': '/scratch/harsha.vasamsetti/harsha.vasamsetti/MW-archive_1996-2007/safety/2002/sep02.htm',\n",
    "        'Oct': '/scratch/harsha.vasamsetti/harsha.vasamsetti/MW-archive_1996-2007/safety/2002/oct02.htm',\n",
    "        'Nov': '/scratch/harsha.vasamsetti/harsha.vasamsetti/MW-archive_1996-2007/safety/2002/nov02.htm',\n",
    "        \"Dec\": \"/scratch/harsha.vasamsetti/harsha.vasamsetti/MW-archive_1996-2007/safety/2002/dec02.htm\"\n",
    "}\n",
    "}\n",
    "\n",
    "output_dir = './drug_labeling_changes'\n",
    "\n",
    "process_local_html_files(urls, output_dir)\n",
    "\n",
    "logging.info(\"Processing completed.\")\n"
   ]
  },
  {
   "cell_type": "code",
   "execution_count": 37,
   "metadata": {},
   "outputs": [
    {
     "name": "stdout",
     "output_type": "stream",
     "text": [
      "Processing 2001 Jan from local file: /scratch/harsha.vasamsetti/harsha.vasamsetti/MW-archive_1996-2007/safety/2001/jan01.htm\n",
      "Table saved for 2001 Jan in '2001/Jan/Jan_fda_table.csv'\n",
      "Processing 2001 Feb from local file: /scratch/harsha.vasamsetti/harsha.vasamsetti/MW-archive_1996-2007/safety/2001/Feb01.htm\n",
      "Table saved for 2001 Feb in '2001/Feb/Feb_fda_table.csv'\n",
      "Processing 2001 Mar from local file: /scratch/harsha.vasamsetti/harsha.vasamsetti/MW-archive_1996-2007/safety/2001/Mar01.htm\n",
      "Table saved for 2001 Mar in '2001/Mar/Mar_fda_table.csv'\n",
      "Processing 2001 Apr from local file: /scratch/harsha.vasamsetti/harsha.vasamsetti/MW-archive_1996-2007/safety/2001/Apr01.htm\n",
      "Table saved for 2001 Apr in '2001/Apr/Apr_fda_table.csv'\n",
      "Processing 2001 May from local file: /scratch/harsha.vasamsetti/harsha.vasamsetti/MW-archive_1996-2007/safety/2001/May01.htm\n",
      "Table saved for 2001 May in '2001/May/May_fda_table.csv'\n",
      "Processing 2001 Jun from local file: /scratch/harsha.vasamsetti/harsha.vasamsetti/MW-archive_1996-2007/safety/2001/jun01.htm\n",
      "Table saved for 2001 Jun in '2001/Jun/Jun_fda_table.csv'\n",
      "Processing 2001 Jul from local file: /scratch/harsha.vasamsetti/harsha.vasamsetti/MW-archive_1996-2007/safety/2001/jul01.htm\n",
      "Table saved for 2001 Jul in '2001/Jul/Jul_fda_table.csv'\n",
      "Processing 2001 Aug from local file: /scratch/harsha.vasamsetti/harsha.vasamsetti/MW-archive_1996-2007/safety/2001/aug01.htm\n",
      "Table saved for 2001 Aug in '2001/Aug/Aug_fda_table.csv'\n",
      "Processing 2001 Sep from local file: /scratch/harsha.vasamsetti/harsha.vasamsetti/MW-archive_1996-2007/safety/2001/Sep01.htm\n",
      "Table saved for 2001 Sep in '2001/Sep/Sep_fda_table.csv'\n",
      "Processing 2001 Oct from local file: /scratch/harsha.vasamsetti/harsha.vasamsetti/MW-archive_1996-2007/safety/2001/Oct01.htm\n",
      "Table saved for 2001 Oct in '2001/Oct/Oct_fda_table.csv'\n",
      "Processing 2001 Nov from local file: /scratch/harsha.vasamsetti/harsha.vasamsetti/MW-archive_1996-2007/safety/2001/nov01.htm\n",
      "Table saved for 2001 Nov in '2001/Nov/Nov_fda_table.csv'\n",
      "Processing 2001 Dec from local file: /scratch/harsha.vasamsetti/harsha.vasamsetti/MW-archive_1996-2007/safety/2001/dec01.htm\n",
      "Table saved for 2001 Dec in '2001/Dec/Dec_fda_table.csv'\n",
      "Processing 2002 Jan from local file: /scratch/harsha.vasamsetti/harsha.vasamsetti/MW-archive_1996-2007/safety/2002/Jan02.htm\n",
      "Table saved for 2002 Jan in '2002/Jan/Jan_fda_table.csv'\n",
      "Processing 2002 Feb from local file: /scratch/harsha.vasamsetti/harsha.vasamsetti/MW-archive_1996-2007/safety/2002/Feb02.htm\n",
      "Table saved for 2002 Feb in '2002/Feb/Feb_fda_table.csv'\n",
      "Processing 2002 Mar from local file: /scratch/harsha.vasamsetti/harsha.vasamsetti/MW-archive_1996-2007/safety/2002/Mar02.htm\n",
      "Table saved for 2002 Mar in '2002/Mar/Mar_fda_table.csv'\n",
      "Processing 2002 Apr from local file: /scratch/harsha.vasamsetti/harsha.vasamsetti/MW-archive_1996-2007/safety/2002/apr02.htm\n",
      "Table saved for 2002 Apr in '2002/Apr/Apr_fda_table.csv'\n",
      "Processing 2002 May from local file: /scratch/harsha.vasamsetti/harsha.vasamsetti/MW-archive_1996-2007/safety/2002/may02.htm\n",
      "Table saved for 2002 May in '2002/May/May_fda_table.csv'\n",
      "Processing 2002 Jun from local file: /scratch/harsha.vasamsetti/harsha.vasamsetti/MW-archive_1996-2007/safety/2002/jun02.htm\n",
      "Table saved for 2002 Jun in '2002/Jun/Jun_fda_table.csv'\n",
      "Processing 2002 Jul from local file: /scratch/harsha.vasamsetti/harsha.vasamsetti/MW-archive_1996-2007/safety/2002/jul02.htm\n",
      "Table saved for 2002 Jul in '2002/Jul/Jul_fda_table.csv'\n",
      "Processing 2002 Aug from local file: /scratch/harsha.vasamsetti/harsha.vasamsetti/MW-archive_1996-2007/safety/2002/Aug02.htm\n",
      "Table saved for 2002 Aug in '2002/Aug/Aug_fda_table.csv'\n",
      "Processing 2002 Sep from local file: /scratch/harsha.vasamsetti/harsha.vasamsetti/MW-archive_1996-2007/safety/2002/sep02.htm\n",
      "Table saved for 2002 Sep in '2002/Sep/Sep_fda_table.csv'\n",
      "Processing 2002 Oct from local file: /scratch/harsha.vasamsetti/harsha.vasamsetti/MW-archive_1996-2007/safety/2002/oct02.htm\n",
      "Table saved for 2002 Oct in '2002/Oct/Oct_fda_table.csv'\n",
      "Processing 2002 Nov from local file: /scratch/harsha.vasamsetti/harsha.vasamsetti/MW-archive_1996-2007/safety/2002/nov02.htm\n",
      "Table saved for 2002 Nov in '2002/Nov/Nov_fda_table.csv'\n",
      "Processing 2002 Dec from local file: /scratch/harsha.vasamsetti/harsha.vasamsetti/MW-archive_1996-2007/safety/2002/dec02.htm\n",
      "Table saved for 2002 Dec in '2002/Dec/Dec_fda_table.csv'\n",
      "All tables processed and saved.\n"
     ]
    }
   ],
   "source": [
    "import os\n",
    "from bs4 import BeautifulSoup\n",
    "import pandas as pd\n",
    "\n",
    "def extract_table_from_local_html(html_file_path):\n",
    "    \"\"\"\n",
    "    Extracts the drug table from a local HTML file and returns a DataFrame.\n",
    "    \"\"\"\n",
    "    if not os.path.isfile(html_file_path):\n",
    "        print(f\"The file '{html_file_path}' does not exist.\")\n",
    "        return pd.DataFrame()\n",
    "\n",
    "    try:\n",
    "        with open(html_file_path, 'r', encoding='cp1252') as file:\n",
    "            html_content = file.read()\n",
    "    except Exception as e:\n",
    "        print(f\"Error reading file '{html_file_path}': {e}\")\n",
    "        return pd.DataFrame()\n",
    "\n",
    "    soup = BeautifulSoup(html_content, 'html.parser')\n",
    "\n",
    "    # Attempt to find a table - if multiple tables are found, you may need additional logic\n",
    "    table = soup.find('table')\n",
    "    if not table:\n",
    "        print(f\"No table found in the HTML: {html_file_path}\")\n",
    "        return pd.DataFrame()\n",
    "\n",
    "    rows = table.find_all('tr')\n",
    "    data = []\n",
    "    for row in rows:\n",
    "        cols = row.find_all('td')\n",
    "        if len(cols) == 0 or 'DRUG NAME' in row.get_text():\n",
    "            # Skip header or empty rows\n",
    "            continue\n",
    "\n",
    "        drug_name_elem = cols[0].find('a')\n",
    "        if drug_name_elem:\n",
    "            drug_name = drug_name_elem.text.strip()\n",
    "        else:\n",
    "            drug_name = cols[0].text.strip()\n",
    "\n",
    "        bw = cols[1].text.strip() if len(cols) > 1 else ''\n",
    "        c = cols[2].text.strip() if len(cols) > 2 else ''\n",
    "        w = cols[3].text.strip() if len(cols) > 3 else ''\n",
    "        p = cols[4].text.strip() if len(cols) > 4 else ''\n",
    "        ar = cols[5].text.strip() if len(cols) > 5 else ''\n",
    "        ppi_mg = cols[6].text.strip() if len(cols) > 6 else ''\n",
    "\n",
    "        data.append([drug_name, bw, c, w, p, ar, ppi_mg])\n",
    "\n",
    "    columns = ['Drug Name', 'BW', 'C', 'W', 'P', 'AR', 'PPI/MG']\n",
    "    df = pd.DataFrame(data, columns=columns)\n",
    "\n",
    "    return df\n",
    "\n",
    "def save_table_to_csv(df, year, month):\n",
    "    \"\"\"\n",
    "    Saves the DataFrame as a CSV in year/month subdirectories.\n",
    "    \"\"\"\n",
    "    year_dir = str(year)\n",
    "    os.makedirs(year_dir, exist_ok=True)\n",
    "\n",
    "    month_dir = os.path.join(year_dir, month)\n",
    "    os.makedirs(month_dir, exist_ok=True)\n",
    "\n",
    "    csv_path = os.path.join(month_dir, f'{month}_fda_table.csv')\n",
    "    df.to_csv(csv_path, index=False)\n",
    "    print(f\"Table saved for {year} {month} in '{csv_path}'\")\n",
    "\n",
    "# Example usage:\n",
    "# In this scenario, instead of URLs, we have local HTML file paths.\n",
    "# For example:\n",
    "files = {\n",
    "    '2001': {\n",
    "        'Jan': '/scratch/harsha.vasamsetti/harsha.vasamsetti/MW-archive_1996-2007/safety/2001/jan01.htm',\n",
    "        'Feb': '/scratch/harsha.vasamsetti/harsha.vasamsetti/MW-archive_1996-2007/safety/2001/Feb01.htm',\n",
    "        'Mar': '/scratch/harsha.vasamsetti/harsha.vasamsetti/MW-archive_1996-2007/safety/2001/Mar01.htm',\n",
    "        'Apr': '/scratch/harsha.vasamsetti/harsha.vasamsetti/MW-archive_1996-2007/safety/2001/Apr01.htm',\n",
    "        'May': '/scratch/harsha.vasamsetti/harsha.vasamsetti/MW-archive_1996-2007/safety/2001/May01.htm',\n",
    "        'Jun': '/scratch/harsha.vasamsetti/harsha.vasamsetti/MW-archive_1996-2007/safety/2001/jun01.htm',\n",
    "        'Jul': '/scratch/harsha.vasamsetti/harsha.vasamsetti/MW-archive_1996-2007/safety/2001/jul01.htm',\n",
    "        'Aug': '/scratch/harsha.vasamsetti/harsha.vasamsetti/MW-archive_1996-2007/safety/2001/aug01.htm',\n",
    "        'Sep': '/scratch/harsha.vasamsetti/harsha.vasamsetti/MW-archive_1996-2007/safety/2001/Sep01.htm',\n",
    "        'Oct': '/scratch/harsha.vasamsetti/harsha.vasamsetti/MW-archive_1996-2007/safety/2001/Oct01.htm',\n",
    "        'Nov': '/scratch/harsha.vasamsetti/harsha.vasamsetti/MW-archive_1996-2007/safety/2001/nov01.htm',\n",
    "        'Dec': '/scratch/harsha.vasamsetti/harsha.vasamsetti/MW-archive_1996-2007/safety/2001/dec01.htm',\n",
    "        \n",
    "    },\n",
    "    '2002': {\n",
    "        'Jan': '/scratch/harsha.vasamsetti/harsha.vasamsetti/MW-archive_1996-2007/safety/2002/Jan02.htm',\n",
    "        'Feb': '/scratch/harsha.vasamsetti/harsha.vasamsetti/MW-archive_1996-2007/safety/2002/Feb02.htm',\n",
    "        'Mar': '/scratch/harsha.vasamsetti/harsha.vasamsetti/MW-archive_1996-2007/safety/2002/Mar02.htm',\n",
    "        'Apr': '/scratch/harsha.vasamsetti/harsha.vasamsetti/MW-archive_1996-2007/safety/2002/apr02.htm',\n",
    "        'May': '/scratch/harsha.vasamsetti/harsha.vasamsetti/MW-archive_1996-2007/safety/2002/may02.htm',\n",
    "        'Jun': '/scratch/harsha.vasamsetti/harsha.vasamsetti/MW-archive_1996-2007/safety/2002/jun02.htm',\n",
    "        'Jul': '/scratch/harsha.vasamsetti/harsha.vasamsetti/MW-archive_1996-2007/safety/2002/jul02.htm',\n",
    "        'Aug': '/scratch/harsha.vasamsetti/harsha.vasamsetti/MW-archive_1996-2007/safety/2002/Aug02.htm',\n",
    "        'Sep': '/scratch/harsha.vasamsetti/harsha.vasamsetti/MW-archive_1996-2007/safety/2002/sep02.htm',\n",
    "        'Oct': '/scratch/harsha.vasamsetti/harsha.vasamsetti/MW-archive_1996-2007/safety/2002/oct02.htm',\n",
    "        'Nov': '/scratch/harsha.vasamsetti/harsha.vasamsetti/MW-archive_1996-2007/safety/2002/nov02.htm',\n",
    "        \"Dec\": \"/scratch/harsha.vasamsetti/harsha.vasamsetti/MW-archive_1996-2007/safety/2002/dec02.htm\"\n",
    "}\n",
    "}\n",
    "\n",
    "for year, months in files.items():\n",
    "    for month, file_path in months.items():\n",
    "        print(f\"Processing {year} {month} from local file: {file_path}\")\n",
    "        df_table = extract_table_from_local_html(file_path)\n",
    "        if not df_table.empty:\n",
    "            save_table_to_csv(df_table, year, month)\n",
    "        else:\n",
    "            print(f\"No data found for {year} {month}.\")\n",
    "\n",
    "\n",
    "print(\"All tables processed and saved.\")\n"
   ]
  }
 ],
 "metadata": {
  "kernelspec": {
   "display_name": "slices",
   "language": "python",
   "name": "python3"
  },
  "language_info": {
   "codemirror_mode": {
    "name": "ipython",
    "version": 3
   },
   "file_extension": ".py",
   "mimetype": "text/x-python",
   "name": "python",
   "nbconvert_exporter": "python",
   "pygments_lexer": "ipython3",
   "version": "3.9.18"
  }
 },
 "nbformat": 4,
 "nbformat_minor": 2
}
